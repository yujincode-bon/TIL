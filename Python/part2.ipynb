{
 "cells": [
  {
   "cell_type": "markdown",
   "id": "61fa5f2f",
   "metadata": {},
   "source": [
    "### 11번. 1부터 100까지 숫자 중 5의 배수만 리스트에 저장하여 출력하세요.\n",
    "\n",
    "리스트 내포(List Comprehension)를 사용해도 좋습니다.\n",
    "\n",
    "📌 출력 예시:\n",
    "```\n",
    "[5, 10, 15, ..., 100]\n",
    "```"
   ]
  },
  {
   "cell_type": "code",
   "execution_count": null,
   "id": "c3411c0d",
   "metadata": {},
   "outputs": [],
   "source": [
    "#5의 배수  \n",
    "a = range(1,101)\n",
    "a1 = [i for i in a if i % 5==0]\n",
    "print(a1)\n",
    "\n",
    "#----------\n",
    "result  = []\n",
    "num = 0\n",
    "# 반복을 합니다.\n",
    "# 5를 더하는 행위를\n",
    "# 50이 되었을떄까지\n",
    "#for 무은 할당의 반복이다. \n",
    "\n",
    "while True: \n",
    "    num += 5 \n",
    "    result.append(num)\n",
    "\n",
    "    if num == 50:\n",
    "        break\n",
    "print(result)\n",
    "#------\n",
    "#num = 5 를 할당한 경우 \n",
    "result  = []\n",
    "num = 5\n",
    "# 반복을 합니다.\n",
    "# 5를 더하는 행위를\n",
    "# 50이 되었을떄까지\n",
    "#for 무은 할당의 반복이다. \n",
    "\n",
    "while True: \n",
    "    result.append(num)\n",
    "    num += 5 \n",
    "   \n",
    "    if num > 50:\n",
    "        break\n",
    "print(result)"
   ]
  },
  {
   "cell_type": "code",
   "execution_count": null,
   "id": "037c478a",
   "metadata": {},
   "outputs": [],
   "source": [
    "# 곱한 결과가 50보다 작을 떄까지 곱하는방법\n",
    "# 11번 연장\n",
    "x=1\n",
    "while True: ## TRue 에서 REsulet 로 변경해보기 \n",
    "    # 5 * 1\n",
    "    # 5 * 2\n",
    "    # 5 * 3\n",
    "    num  = 5 * x \n",
    "    x += 1\n",
    "    result.append(num)\n",
    "    if num == 50:\n",
    "        break \n",
    "print (result)"
   ]
  },
  {
   "cell_type": "code",
   "execution_count": null,
   "id": "bd73190a",
   "metadata": {},
   "outputs": [],
   "source": [
    "result = []\n",
    "for num in range (1,101):\n",
    "    # num이 5의 배수일떄만 result 넣을게 \n",
    "    if num %5 == 0:\n",
    "        result.append(num)\n",
    "print (result)"
   ]
  },
  {
   "cell_type": "markdown",
   "id": "91ab613e",
   "metadata": {},
   "source": [
    "### 12번. 짝수만 필터링하여 새로운 리스트 만들기\n",
    "\n",
    "다음 리스트에서 짝수만 골라 새로운 리스트로 만드세요:\n",
    "```python\n",
    "nums = [1,2,3,4,5,6,7,8,9,10]\n",
    "```\n",
    "📌 출력 예시:\n",
    "```\n",
    "[2, 4, 6, 8, 10]\n",
    "```"
   ]
  },
  {
   "cell_type": "code",
   "execution_count": null,
   "id": "97dbac20",
   "metadata": {},
   "outputs": [],
   "source": [
    "nums = [1,2,3,4,5,6,7,8,9,10]\n",
    "#확인하면서 짝수인 경우에 새로운 리스트에 넣겠다. \n",
    "\n",
    "for i in nums:\n",
    "    if i%2==0:\n",
    "        print(i,)\n",
    "\n",
    "\n",
    "# ## 해당 코드가 안되는 이유\n",
    "# for i in nums: \n",
    "#      i%2==0 ##조건문이 아니고 단순이 비교연산만 수행하고 아무작동도 하지 않는다 \n",
    "#      print(i)\n",
    "    \n",
    "   "
   ]
  },
  {
   "cell_type": "markdown",
   "id": "f4750fde",
   "metadata": {},
   "source": [
    "### 13번. 딕셔너리에서 가장 비싼 과일 찾기\n",
    "\n",
    "다음 딕셔너리에서 가격이 가장 높은 과일과 그 가격을 출력하세요:\n",
    "```python\n",
    "fruits = {'apple': 1000, 'banana': 500, 'orange': 800}\n",
    "```"
   ]
  },
  {
   "cell_type": "code",
   "execution_count": null,
   "id": "9af73e4d",
   "metadata": {},
   "outputs": [],
   "source": [
    "# 다시풀기 가격이 가장 높은 것\n",
    "\n",
    "fruits = {'apple': 1000, 'banana': 500, 'orange': 800}\n",
    "max_price = 0 \n",
    "\n",
    "for fruit, price in fruits.items(): \n",
    "\n",
    "    if max_price < price:\n",
    "        max_price = price \n",
    "        max_price_fruit= [fruit]\n",
    "    #최고가가 한번 더 나왔을 때 \n",
    "    elif max_price == price:\n",
    "        max_price_fruit.append(fruit)\n",
    "\n",
    "        #레몬이라는 것을 추가한 경우 \n",
    "        \n",
    "print(max_price,max_price_fruit)\n",
    "\n",
    "\n",
    "\n",
    "print (max, name)"
   ]
  },
  {
   "cell_type": "code",
   "execution_count": 2,
   "id": "4440c679",
   "metadata": {},
   "outputs": [
    {
     "name": "stdout",
     "output_type": "stream",
     "text": [
      "1000 ['apple', 'lemon']\n"
     ]
    }
   ],
   "source": [
    "fruits = {'apple': 1000, 'banana': 500, 'orange': 800, 'lemon': 1000}\n",
    "\n",
    "# 가격이 가장 높은지 비교하려면? max를 활용해야함 \n",
    "# 첫번째로 비교할 값은 -inf\n",
    "# 두번째로 비교할 값은 max_val보다 크면 출력, 작으면 max val 출력 \n",
    "max_price = float('-inf')\n",
    "max_price = 0  #가격이 0일 수는 없기 때문이다. \n",
    "\n",
    "max_price_fruit = []\n",
    "\n",
    "for fruit, price in fruits.items():\n",
    "    \n",
    "    # 이 조건문을 통과하는 순간 : 최고가 경신되었을 때.\n",
    "    if max_price < price:\n",
    "        max_price = price \n",
    "        max_price_fruit = [fruit]\n",
    "\n",
    "\n",
    "    # 최고가가 한번 더 나왔을 때 : 이미 max_price_fruit 이라는 곳에 \n",
    "    elif max_price == price:\n",
    "         max_price_fruit.append(fruit) \n",
    "        ## 레몬이라는 것을 추가했을 경우 \n",
    "\n",
    "print(max_price, max_price_fruit)\n",
    "\n",
    "## 질문, 마지막"
   ]
  },
  {
   "cell_type": "markdown",
   "id": "f63a58ef",
   "metadata": {},
   "source": [
    "### 14번. 구구단 3단 출력하기\n",
    "\n",
    "for문을 사용하여 구구단 3단을 출력하세요.\n",
    "\n",
    "📌 출력 예시:\n",
    "```\n",
    "3 x 1 = 3\n",
    "3 x 2 = 6\n",
    "...\n",
    "3 x 9 = 27\n",
    "```"
   ]
  },
  {
   "cell_type": "code",
   "execution_count": null,
   "id": "7919e9b4",
   "metadata": {},
   "outputs": [
    {
     "name": "stdout",
     "output_type": "stream",
     "text": [
      "3 * 1 =  3\n",
      "3 * 2 =  6\n",
      "3 * 3 =  9\n",
      "3 * 4 = 12\n",
      "3 * 5 = 15\n",
      "3 * 6 = 18\n",
      "3 * 7 = 21\n",
      "3 * 8 = 24\n",
      "3 * 9 = 27\n"
     ]
    }
   ],
   "source": [
    "gugu_3=[]\n",
    "x=3\n",
    "y=1 \n",
    "\n",
    "# for i in gugu_3:\n",
    "#     if i > y:\n",
    "#         gugu_3.append(x*i)\n",
    "\n",
    "# print(\"구구단을 출력하시오\",gugu_3)\n",
    "\n",
    "for y in range(1,10):\n",
    "    print(f'{x} * {y} = {x*y:2d}') \n"
   ]
  },
  {
   "cell_type": "code",
   "execution_count": null,
   "id": "82376bb6",
   "metadata": {},
   "outputs": [
    {
     "name": "stdout",
     "output_type": "stream",
     "text": [
      "3\n",
      "6\n",
      "9\n",
      "12\n",
      "15\n",
      "18\n",
      "21\n",
      "24\n",
      "27\n",
      "3 * [1, 2, 3, 4, 5, 6, 7, 8, 9] [1, 2, 3, 4, 5, 6, 7, 8, 9]\n"
     ]
    }
   ],
   "source": [
    "## 실패한 코드 \n",
    "# 3단을 출력하기 위해서 3을 기본값으로 두고 -> 3이라는 리스트를 만든다. \n",
    "# , 뒤에 값 1~3 까지 정해진 만큼! 곱해서 즉, for문을 사용해서 1~3까지 반복시킨 다음 저장한다. \n",
    "#저장은 새로운 빈 리스트를 하나 만든다. \n",
    "\n",
    "my_list = [1, 2, 3, 4, 5, 6, 7, 8, 9]\n",
    "result = []\n",
    "\n",
    "# a1 = input('1단:'())\n",
    "# a2 = input('2단:'())\n",
    "# a3 = input('3단:'())\n",
    "\n",
    "for i in my_list:\n",
    "        print(i * 3)\n",
    "        result.append(i)\n",
    "\n",
    "\n",
    "\n",
    "\n"
   ]
  },
  {
   "cell_type": "markdown",
   "id": "1a498a46",
   "metadata": {},
   "source": [
    "### 15번. 문자열에서 각 문자 개수 세기\n",
    "\n",
    "사용자로부터 문자열을 입력받아, 각 문자가 몇 번 나오는지 딕셔너리 형태로 출력하세요.\n",
    "\n",
    "📌 예시 입력: `hello`\n",
    "📌 예시 출력: `{'h':1, 'e':1, 'l':2, 'o':1}`"
   ]
  },
  {
   "cell_type": "code",
   "execution_count": null,
   "id": "3f9c2e5b",
   "metadata": {},
   "outputs": [
    {
     "name": "stdout",
     "output_type": "stream",
     "text": [
      "{'w': 3}\n"
     ]
    }
   ],
   "source": [
    "text = input(\"문자열을 입력하세요: \")\n",
    "# 1. 딕셔너리를 만든다. \n",
    "str={ }\n",
    "# 2. for문으로 문자열의 문자 하나씩 꺼내기 \n",
    "for i in text:\n",
    "    if i in str:\n",
    "        str[i] += 1\n",
    "    else:\n",
    "        str[i] = 1\n",
    "# 3. 딕셔너리에 문자 개수 저장 \n",
    "# 4. 딕셔너리 출력 \n",
    "print(str)\n",
    "\n",
    "\n",
    "\n"
   ]
  },
  {
   "cell_type": "markdown",
   "id": "6a3f44e9",
   "metadata": {},
   "source": [
    "### 16번. 리스트 정렬과 최대/최소 값 찾기\n",
    "\n",
    "다음 리스트를 오름차순으로 정렬하고, 가장 큰 값과 가장 작은 값을 출력하세요:\n",
    "```python\n",
    "nums = [3, 1, 4, 1, 5, 9, 2, 6]\n",
    "```"
   ]
  },
  {
   "cell_type": "code",
   "execution_count": 15,
   "id": "ecaa5fac",
   "metadata": {},
   "outputs": [
    {
     "name": "stdout",
     "output_type": "stream",
     "text": [
      "1 9\n"
     ]
    }
   ],
   "source": [
    "nums = [3, 1, 4, 1, 5, 9, 2, 6]\n",
    "# 오름차순 정렬 정렬부터 문제 .....\n",
    "\n",
    "max_num=0\n",
    "min_num =float('inf') \n",
    "\n",
    "# for i , j in nums: #nums 는 단순한 숫자리스트라 불가능함,리스트 안에 (i, j)형태의 튜플이 있어야 저렇게 쓸 수 있음 \n",
    "    \n",
    "\n",
    "#     if max_num < i:\n",
    "#         max_num == i ## ==는 비교 연산자고 , 대입이 아님 값 대입은 = 임,\n",
    "#     if min_num > j: \n",
    "#         min_num == j\n",
    "# print(min_num, max_num)\n",
    "\n",
    "\n",
    "\n",
    "## 수정한 내용 \n",
    "for i in nums: \n",
    "\n",
    "    if max_num < i:\n",
    "        max_num = i \n",
    "    if min_num > i: \n",
    "        min_num =i\n",
    "    \n",
    "\n",
    "print(min_num, max_num)\n"
   ]
  },
  {
   "cell_type": "markdown",
   "id": "21f6f2d0",
   "metadata": {},
   "source": [
    "### 17번. 회문(Palindrome) 검사\n",
    "\n",
    "입력받은 단어가 앞에서 읽든 뒤에서 읽든 같은 단어인지 확인하는 프로그램을 작성하세요.\n",
    "\n",
    "📌 예시: `level` → 회문 / `hello` → 회문 아님"
   ]
  },
  {
   "cell_type": "code",
   "execution_count": 16,
   "id": "5e7b6989",
   "metadata": {},
   "outputs": [
    {
     "name": "stdout",
     "output_type": "stream",
     "text": [
      "회문입니다.\n"
     ]
    }
   ],
   "source": [
    "word = input(\"단어를 입력하세요: \")\n",
    "# #내 생각 >> 1. 대칭이 되는 문자열 기준으러 값이 같아야함. \n",
    "# #2. 맨앞과 뒤에서 글을 동시에 읽고, 다르다면 멈추기 \"틀림\" 이라고 프린트하기 \n",
    "# for i in word: \n",
    "#     if i 앞글자 == 뒷글자 라면 \n",
    "\n",
    "#2.단어를 뒤집어야 한다. >> 슬라이싱 \n",
    "reversed_word=word[::-1]\n",
    "#3. 원래 단어와 뒤집은 다어 비교\n",
    "if word == reversed_word:\n",
    "    print(\"회문입니다.\")\n",
    "else:\n",
    "    print(\"회문이 아닙니다.\")\n",
    "#4. 같으면 회문/ 다르면 회문 아님 출력 "
   ]
  },
  {
   "cell_type": "markdown",
   "id": "4e83b9ca",
   "metadata": {},
   "source": [
    "### 18번. 집합 연산: 합집합, 교집합, 차집합\n",
    "\n",
    "다음 두 집합의 합집합, 교집합, 차집합을 구하세요:\n",
    "```python\n",
    "A = {1, 2, 3, 4, 5}\n",
    "B = {4, 5, 6, 7, 8}\n",
    "```"
   ]
  },
  {
   "cell_type": "code",
   "execution_count": null,
   "id": "6c1c77ae",
   "metadata": {},
   "outputs": [],
   "source": [
    "A = {1, 2, 3, 4, 5}\n",
    "B = {4, 5, 6, 7, 8}\n"
   ]
  },
  {
   "cell_type": "markdown",
   "id": "e49db016",
   "metadata": {},
   "source": [
    "### 19번. 1부터 n까지의 합 구하기\n",
    "\n",
    "사용자로부터 정수 n을 입력받아 1부터 n까지의 합을 구하는 프로그램을 작성하세요."
   ]
  },
  {
   "cell_type": "code",
   "execution_count": null,
   "id": "5e772a52",
   "metadata": {},
   "outputs": [],
   "source": [
    "n = int(input(\"정수를 입력하세요: \"))\n"
   ]
  },
  {
   "cell_type": "markdown",
   "id": "c8ae9f8e",
   "metadata": {},
   "source": [
    "### 20번. 리스트에서 중복 제거\n",
    "\n",
    "다음 리스트에서 중복된 값을 제거하고 유일한 값만 남긴 리스트를 출력하세요:\n",
    "```python\n",
    "nums = [1, 2, 2, 3, 4, 4, 5]\n",
    "```"
   ]
  },
  {
   "cell_type": "code",
   "execution_count": null,
   "id": "0b9d2135",
   "metadata": {},
   "outputs": [],
   "source": [
    "nums = [1, 2, 2, 3, 4, 4, 5]\n"
   ]
  }
 ],
 "metadata": {
  "kernelspec": {
   "display_name": "3.13.2",
   "language": "python",
   "name": "python3"
  },
  "language_info": {
   "codemirror_mode": {
    "name": "ipython",
    "version": 3
   },
   "file_extension": ".py",
   "mimetype": "text/x-python",
   "name": "python",
   "nbconvert_exporter": "python",
   "pygments_lexer": "ipython3",
   "version": "3.13.2"
  }
 },
 "nbformat": 4,
 "nbformat_minor": 5
}
