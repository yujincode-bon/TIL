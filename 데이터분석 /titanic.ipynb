{
 "cells": [
  {
   "cell_type": "code",
   "execution_count": null,
   "id": "36169aaf",
   "metadata": {},
   "outputs": [],
   "source": [
    "# -q (quiet) 옵션은 설치 로그를 안보여줌(조용히함)\n",
    "%pip install -q seaborn"
   ]
  },
  {
   "cell_type": "code",
   "execution_count": null,
   "id": "e6dceadc",
   "metadata": {},
   "outputs": [],
   "source": [
    "# 타이타닉(데이터 프레임 ) 데이터셋 불러오기\n",
    "# (pandas에 기본 내장된 예제 데이터셋)\n",
    "import seaborn as sns\n",
    "import pandas as pd\n",
    "\n",
    "# titanic 데이터 DataFrame\n",
    "titanic = sns.load_dataset('titanic')\n",
    "\n",
    "# 처음 5개 행 보기\n",
    "print(\"타이타닉 데이터 미리보기:\")\n",
    "print(titanic.head())\n",
    "\n",
    "# 데이터셋 정보 확인\n",
    "print(\"\\n데이터셋 정보:\")\n",
    "print(titanic.info())\n",
    "\n",
    "# 데이터 요약 통계\n",
    "print(\"\\n데이터 요약 통계:\")\n",
    "print(titanic.describe())\n"
   ]
  },
  {
   "cell_type": "code",
   "execution_count": null,
   "id": "3c25a8e4",
   "metadata": {},
   "outputs": [],
   "source": [
    "# Col 결측치 합계  \n",
    "df = titanic\n",
    "titanic.isnull().sum()\n",
    "# 승객 등급 등장 빈도 (1, 2, 3 등석)\n",
    "df['class'].value_counts()[0:3]\n",
    "# 성별 빈도(남/녀)\n",
    "df['sex'].value_counts()\n",
    "# 생존 여부 빈도(생존자/사망자)\n",
    "df['alive'].value_counts()"
   ]
  },
  {
   "cell_type": "code",
   "execution_count": null,
   "id": "818f64c1",
   "metadata": {},
   "outputs": [],
   "source": [
    "#성별에 따른 생존율 survived \n",
    "survival_rate = df.groupby('sex')['survived'].mean()\n",
    "#더 복잡한 톡예 가능 \n",
    "titanic.groupby('sex').agg({'survived':['mean']})\n",
    "#승객 등급에 따른 생존율 \n",
    "survival_rate1 = df.groupby('pclass')['survived'].mean()\n",
    "print(survival_rate, survival_rate1)\n",
    "#전체 인원중 생존자 수 "
   ]
  },
  {
   "cell_type": "code",
   "execution_count": null,
   "id": "7a513901",
   "metadata": {},
   "outputs": [],
   "source": [
    "# 성별 & 승객 등급에 따른 생존\n",
    "titanic.groupby(['sex', 'pclass'])['survived'].mean()\n",
    "\n",
    "#피벗테이블 \n",
    "titanic.pivot_table(\n",
    "    values='survived',\n",
    "    index='sex',\n",
    "    columns='pclass',\n",
    "    aggfunc='mean'\n",
    ")\n",
    "# 나이 그룹별 생존율 \n",
    "titanic['age_group']= pd.cut(\n",
    "    titanic['age'],\n",
    "    bins=[0, 12, 18, 35, 60, 100,200], #0~12는 아동이고..\n",
    "    labels=['아동', '청소년', '청년', '중장년', '노년','불사'] #초과~이하 \n",
    "\n",
    ")\n",
    "titanic.head(3)\n",
    "\n",
    "#카테고리가 있는데 해당되는 내용이 없을 때/ observed 옵션\n",
    "titanic.groupby('age_group',observed=True)['survived'].mean()\n",
    "print(titanic.groupby('age_group',observed=True)['survived'].mean())\n",
    "\n",
    "#성별 +나이그룹으로 생존율 확인\n",
    "\n",
    "\n",
    "titanic.groupby(['sex', 'age_group'])['survived'].mean()\n",
    "\n",
    "titanic.pivot_table(\n",
    "    values='survived',\n",
    "    index='age_group',\n",
    "    columns='pclass',\n",
    "    aggfunc='mean'\n",
    ")\n",
    "# 나이 그\n",
    "\n"
   ]
  },
  {
   "cell_type": "code",
   "execution_count": null,
   "id": "1feb33d3",
   "metadata": {},
   "outputs": [],
   "source": [
    "titanic = sns.load_dataset('titanic')\n",
    "#결측치 확인 \n",
    "missing = titanic.isna().sum()\n",
    "#결측이 있는 항목만 확인 \n",
    "missing[missing > 0]\n",
    "#결측비율 \n",
    "titanic.isna().mean() * 100\n"
   ]
  },
  {
   "cell_type": "code",
   "execution_count": null,
   "id": "8694eca9",
   "metadata": {},
   "outputs": [],
   "source": [
    "# 결측치 채우기 \n",
    "# age: 중요한 정보: 평균/ 중앙값 대체\n",
    "#embarked : 가장 많은 사람들이 탄 곳으로 대체 edck: \n",
    "#deck 추측 불가능 (의미 없음) ->삭제 \n",
    "\n",
    "#필요하다면, 카피떠서 진행 \n",
    "titanic_processed =titanic.copy()\n",
    "\n",
    "#나이 결측치 채우기 (남녀상관없이 전체 평균으로 채움)\n",
    "mean_age = titanic['age'].mean()\n",
    "titanic_processed['age'] = titanic['age'].fillna(mean_age)\n",
    "#비어있던 행 마스킹\n",
    "mask = titanic['age'].isna() \n",
    "titanic['age'].isna() .sum()\n",
    "\n",
    "#평균으로 채워진 값들만 확인\n",
    "titanic_processed.loc[mask]\n",
    "\n"
   ]
  },
  {
   "cell_type": "code",
   "execution_count": null,
   "id": "be38dfd3",
   "metadata": {},
   "outputs": [],
   "source": [
    "#성별/객실 별로 평균을 추정하는 건??\n",
    "\n",
    "#모든 사람들을 성별과 객실 그룹의 평균나이로 바꾼 Series\n",
    "mean_ages = titanic.groupby(['sex', 'pclass'])['age'].transform('mean')\n",
    "\n",
    "#titanic 의 age col 중 빈 값만, mean_age 로 채움 \n",
    "titanic_processed['age'] = titanic['age'].fillna(mean_ages)\n",
    "\n",
    "titanic_processed.loc[titanic['age'].isna()]\n",
    "#원래 비어있던 애들만 확인 \n",
    "\n"
   ]
  },
  {
   "cell_type": "code",
   "execution_count": null,
   "id": "e729e69e",
   "metadata": {},
   "outputs": [],
   "source": [
    "#embarked (탑승도시) ->최빈값 (가장 많이 탄 곳)\n",
    "\n",
    "#비어 있는 항구 개수 \n",
    "titanic['embarked'].isna().sum()\n",
    "#최빈값 (Series - 벡터)\n",
    "mode_embarked = titanic['embarked'].mode()[0] #Series 에서 1개 뽑기 \n",
    "#빈 값은 최빈값으로 교체 \n",
    "titanic_processed['embarked'] = titanic['embarked'].fillna(mode_embarked)\n",
    "\n",
    "#처리 완료 확인(빈값0개)\n",
    "titanic_processed['embarked'].isna().sum()\n"
   ]
  },
  {
   "cell_type": "code",
   "execution_count": null,
   "id": "22676436",
   "metadata": {},
   "outputs": [],
   "source": [
    "# dec =k 은 77% 가 비어있음-> 삭제 \n",
    "titanic['deck'].isna().mean() * 100  #빈값 비율 \n",
    "#'deck'컴럼은 삭제\n",
    "titanic_processed.drop('deck',axis=1,inplace= True)\n",
    "titanic_processed.info"
   ]
  },
  {
   "cell_type": "code",
   "execution_count": null,
   "id": "a8bd0e40",
   "metadata": {},
   "outputs": [],
   "source": [
    "titanic_processed.info"
   ]
  },
  {
   "cell_type": "code",
   "execution_count": null,
   "id": "e832a2a3",
   "metadata": {},
   "outputs": [],
   "source": [
    "# 타이타닉 데이터셋 불러오기\n",
    "# (seaborn 기본 내장된 예제 데이터셋)\n",
    "import seaborn as sns\n",
    "import pandas as pd\n",
    "import matplotlib.pyplot as plt\n",
    "import warnings\n",
    "\n",
    "warnings.filterwarnings('ignore', category=UserWarning)\n",
    "\n",
    "plt.rcParams['font.family'] = 'Malgun Gothic'\n",
    "plt.rcParams['axes.unicode_minus'] = False\n",
    "\n",
    "# titanic 데이터 DataFrame\n",
    "titanic = sns.load_dataset('titanic')\n",
    "\n",
    "# 수치 데이터에만 집중\n",
    "numeric_cols = ['age', 'fare']\n",
    "print(\"타이타닉 데이터셋 기본 정보:\")\n",
    "print(titanic[numeric_cols].describe())"
   ]
  },
  {
   "cell_type": "code",
   "execution_count": null,
   "id": "cd4b41cc",
   "metadata": {},
   "outputs": [],
   "source": [
    "# 결측치 처리 안하면 제대로 시각화 제대로 안나옴\n",
    "\n",
    "# 1. 이상치 탐지 및 시각화\n",
    "plt.figure(figsize=(15, 10))\n",
    "\n",
    "# 나이 분포\n",
    "plt.subplot(2, 4, 1)\n",
    "plt.hist(titanic['age'], bins=30, alpha=0.7)\n",
    "plt.title('나이 분포')\n",
    "plt.xlabel('나이')\n",
    "\n",
    "plt.subplot(2, 4, 2)\n",
    "plt.boxplot(titanic['age'])\n",
    "plt.title('나이 박스플롯')\n",
    "\n",
    "# 요금 분포\n",
    "plt.subplot(2, 4, 3)\n",
    "plt.hist(titanic['fare'], bins=50, alpha=0.7)\n",
    "plt.title('요금 분포')\n",
    "plt.xlabel('요금')\n",
    "\n",
    "plt.subplot(2, 4, 4)\n",
    "plt.boxplot(titanic['fare'])\n",
    "plt.title('요금 박스플롯')\n",
    "\n",
    "# 산점도\n",
    "plt.subplot(2, 4, 5)\n",
    "plt.scatter(titanic['age'], titanic['fare'], alpha=0.6)\n",
    "plt.xlabel('나이')\n",
    "plt.ylabel('요금')\n",
    "plt.title('나이 vs 요금')\n",
    "\n",
    "# 객실 등급별 요금 분포\n",
    "plt.subplot(2, 4, 6)\n",
    "sns.boxplot(x='pclass', y='fare', data=titanic)\n",
    "plt.title('객실 등급별 요금')\n",
    "\n",
    "# 생존자별 나이 분포\n",
    "plt.subplot(2, 4, 7)\n",
    "sns.boxplot(x='survived', y='age', data=titanic)\n",
    "plt.title('생존자별 나이')\n",
    "\n",
    "# 생존자별 요금 분포\n",
    "plt.subplot(2, 4, 8)\n",
    "sns.boxplot(x='survived', y='fare', data=titanic)\n",
    "plt.title('생존자별 요금')\n",
    "\n",
    "plt.tight_layout()\n",
    "plt.show()"
   ]
  },
  {
   "cell_type": "code",
   "execution_count": null,
   "id": "12fd3be8",
   "metadata": {},
   "outputs": [],
   "source": [
    "# 결측치처리 \n",
    "# 모든 사람들을 성별/객실 그룹의 평균 나이로 바꾼 Serise \n",
    "tp = titanic .copy()\n",
    "print(titanic.groupby(['sex','pclass'])['age'].mean())\n",
    "\n",
    "#각 승객의 그룹에 맞춰서(상별 +객실등급) 헤딩 그룹의 평균으로  일괄 변결 \n",
    "mean_ages = titanic.groupby(['sex', 'pclass'])['age'].transform('mean')\n",
    "mean_ages\n",
    "#titanic의 'age' col 중 빈 값만 , mean_ages로 채움.\n",
    "tp['age'] = titanic['age'].fillna(mean_ages)\n",
    "tp['age']\n"
   ]
  },
  {
   "cell_type": "code",
   "execution_count": null,
   "id": "bc6c9c37",
   "metadata": {},
   "outputs": [],
   "source": [
    "# 2. 요금 데이터의 이상치 분석\n",
    "# IQR 방법으로 이상치 탐지\n",
    "Q1 = tp['fare'].quantile(0.25)\n",
    "Q3 = tp['fare'].quantile(0.75)\n",
    "IQR = Q3 - Q1\n",
    "lower = Q1 - 1.5 * IQR\n",
    "upper = Q3 + 1.5 * IQR\n",
    "\n",
    "fare_outliers = (tp['fare'] < lower) | (tp['fare'] > upper)\n",
    "# 전체 IQR 기준 이상치 개수 / 전체 개수 (%)\n",
    "fare_outliers.sum() / fare_outliers.count() * 100\n"
   ]
  },
  {
   "cell_type": "code",
   "execution_count": null,
   "id": "4f951b0c",
   "metadata": {},
   "outputs": [],
   "source": [
    "\n",
    "# 이상치에 해당하는 승객들 특성 분석\n",
    "outliers_passengers = tp[fare_outliers]\n",
    "# 객실 등급 분포\n",
    "print(outliers_passengers['pclass'].value_counts())\n",
    "# 성별 분포\n",
    "print(outliers_passengers['sex'].value_counts())\n",
    "# 생존 여부\n",
    "print(outliers_passengers['survived'].value_counts())\n"
   ]
  },
  {
   "cell_type": "code",
   "execution_count": null,
   "id": "eef468cc",
   "metadata": {},
   "outputs": [],
   "source": [
    "#객실 등급을 고려한 이상치 분석 \n",
    "#객실 등급별로  요금 이상치 탐지(전체 기준 이상치가 객실별로는 이상치 아닐 수 있음)\n",
    "def detect_outliers_by_group(data: pd.DataFrame, group_col:str, value_col:str):\n",
    "    \"\"\"그룹별 이상치 탐지\"\"\"\n",
    "    #먼저, 전원 모두 이상치가 아닌 경우 False 로 세팅 \n",
    "    outliers =pd.Series(False,data.index) #빈시리즈 생성, 각 행이 이상치인지 기록할 이상치 판별 목록 \n",
    "    #현재 group_col 기준 유니크한 데이터(pclass -> 1,2,3)\n",
    "    for group in data[group_col].unique():\n",
    "        group_data= data[data[group_col]==group][value_col] #group 값에 일치하는 행들만 필터링해서 부분 데이터 프레임을 만든다. \n",
    "        #해당 부분데이터프레임에서 이상치를 찾을 값 열만 선택하여 group data 변수에 저장한다.\n",
    "        Q1 = group_data.quantile(0.25)        \n",
    "        Q3 = group_data.quantile(0.75)\n",
    "        IQR = Q3 - Q1\n",
    "        lower = Q1 - 1.5 * IQR\n",
    "        upper = Q3 + 1.5 * IQR\n",
    "        group_outliers = (group_data < lower) | (group_data > upper)\n",
    "        outliers[group_data.index] = group_outliers #현재 그룹에 해당하는 인덱스 위치만 group_outlier에 덮어쓴다.\n",
    "\n",
    "\n",
    "    return outliers\n"
   ]
  },
  {
   "cell_type": "code",
   "execution_count": 77,
   "id": "b42cd0c0",
   "metadata": {},
   "outputs": [
    {
     "data": {
      "text/plain": [
       "np.int64(79)"
      ]
     },
     "execution_count": 77,
     "metadata": {},
     "output_type": "execute_result"
    }
   ],
   "source": [
    "#겍실 등급별 이상한 사람들 (T/F mask series)\n",
    "fare_outliers_by_pclass = detect_outliers_by_group(tp, 'pclass', 'fare') # tp 데이터프레임에서 ‘pclass’별로 ‘fare’ 열의 이상치를 찾아서, 그 결과를 fare_outliers_by_pclass에 저장\n",
    "# 각 등급별로 따로 선별한 이상치 개수 \n",
    "fare_outliers_by_pclass.sum()"
   ]
  },
  {
   "cell_type": "code",
   "execution_count": null,
   "id": "79d74e24",
   "metadata": {},
   "outputs": [],
   "source": [
    "#ㄷㅡㅇ\n",
    "def detect_outlier_iqr(data_series):\n",
    "    Q1 = data_series.quantile(0.25)\n",
    "    Q3 = data_series.quantile(0.75)\n",
    "    IQR = Q3 - Q1\n",
    "\n",
    "    lower_bound = Q1 - (1.5*IQR)\n",
    "    upper_bound = Q3 + (1.5*IQR)\n",
    "    return (data_series < lower_bound) | (data_series > upper_bound)\n",
    "\n",
    "outlier_mask = titanic.groupby('pclass')['fare'].transform(detect_outlier_iqr)"
   ]
  }
 ],
 "metadata": {
  "kernelspec": {
   "display_name": "3.13.2",
   "language": "python",
   "name": "python3"
  },
  "language_info": {
   "codemirror_mode": {
    "name": "ipython",
    "version": 3
   },
   "file_extension": ".py",
   "mimetype": "text/x-python",
   "name": "python",
   "nbconvert_exporter": "python",
   "pygments_lexer": "ipython3",
   "version": "3.13.2"
  }
 },
 "nbformat": 4,
 "nbformat_minor": 5
}
