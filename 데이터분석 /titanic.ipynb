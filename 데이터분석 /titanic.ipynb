{
 "cells": [
  {
   "cell_type": "code",
   "execution_count": null,
   "id": "36169aaf",
   "metadata": {},
   "outputs": [],
   "source": [
    "# -q (quiet) 옵션은 설치 로그를 안보여줌(조용히함)\n",
    "%pip install -q seaborn"
   ]
  },
  {
   "cell_type": "code",
   "execution_count": null,
   "id": "e6dceadc",
   "metadata": {},
   "outputs": [],
   "source": [
    "# 타이타닉(데이터 프레임 ) 데이터셋 불러오기\n",
    "# (pandas에 기본 내장된 예제 데이터셋)\n",
    "import seaborn as sns\n",
    "import pandas as pd\n",
    "\n",
    "# titanic 데이터 DataFrame\n",
    "titanic = sns.load_dataset('titanic')\n",
    "\n",
    "# 처음 5개 행 보기\n",
    "print(\"타이타닉 데이터 미리보기:\")\n",
    "print(titanic.head())\n",
    "\n",
    "# 데이터셋 정보 확인\n",
    "print(\"\\n데이터셋 정보:\")\n",
    "print(titanic.info())\n",
    "\n",
    "# 데이터 요약 통계\n",
    "print(\"\\n데이터 요약 통계:\")\n",
    "print(titanic.describe())"
   ]
  },
  {
   "cell_type": "code",
   "execution_count": null,
   "id": "33b7e53c",
   "metadata": {},
   "outputs": [],
   "source": []
  },
  {
   "cell_type": "code",
   "execution_count": null,
   "id": "3c25a8e4",
   "metadata": {},
   "outputs": [],
   "source": [
    "# Col 결측치 합계  \n",
    "df = titanic\n",
    "titanic.isnull().sum()\n",
    "# 승객 등급 등장 빈도 (1, 2, 3 등석)\n",
    "df['class'].value_counts()[0:3]\n",
    "# 성별 빈도(남/녀)\n",
    "df['sex'].value_counts()\n",
    "# 생존 여부 빈도(생존자/사망자)\n",
    "df['alive'].value_counts()"
   ]
  },
  {
   "cell_type": "code",
   "execution_count": null,
   "id": "818f64c1",
   "metadata": {},
   "outputs": [],
   "source": [
    "#성별에 따른 생존율 survived \n",
    "survival_rate = df.groupby('sex')['survived'].mean()\n",
    "#더 복잡한 톡예 가능 \n",
    "titanic.groupby('sex').agg({'survived':['mean']})\n",
    "#승객 등급에 따른 생존율 \n",
    "survival_rate1 = df.groupby('pclass')['survived'].mean()\n",
    "print(survival_rate, survival_rate1)\n",
    "#전체 인원중 생존자 수 "
   ]
  },
  {
   "cell_type": "code",
   "execution_count": null,
   "id": "29bfe297",
   "metadata": {},
   "outputs": [],
   "source": []
  },
  {
   "cell_type": "code",
   "execution_count": null,
   "id": "7a513901",
   "metadata": {},
   "outputs": [],
   "source": [
    "# 성별 & 승객 등급에 따른 생존\n",
    "titanic.groupby(['sex', 'pclass'])['survived'].mean()\n",
    "\n",
    "#피벗테이블 \n",
    "titanic.pivot_table(\n",
    "    values='survived',\n",
    "    index='sex',\n",
    "    columns='pclass',\n",
    "    aggfunc='mean'\n",
    ")\n",
    "# 나이 그룹별 생존율 \n",
    "titanic['age_group']= pd.cut(\n",
    "    titanic['age'],\n",
    "    bins=[0, 12, 18, 35, 60, 100,200], #0~12는 아동이고..\n",
    "    labels=['아동', '청소년', '청년', '중장년', '노년','불사'] #초과~이하 \n",
    "\n",
    ")\n",
    "titanic.head(3)\n",
    "\n",
    "#카테고리가 있는데 해당되는 내용이 없을 때/ observed 옵션\n",
    "titanic.groupby('age_group',observed=True)['survived'].mean()\n",
    "print(titanic.groupby('age_group',observed=True)['survived'].mean())\n",
    "\n",
    "#성별 +나이그룹으로 생존율 확인\n",
    "\n",
    "\n",
    "titanic.groupby(['sex', 'age_group'])['survived'].mean()\n",
    "\n",
    "titanic.pivot_table(\n",
    "    values='survived',\n",
    "    index='age_group',\n",
    "    columns='pclass',\n",
    "    aggfunc='mean'\n",
    ")\n",
    "# 나이 그\n",
    "\n"
   ]
  },
  {
   "cell_type": "code",
   "execution_count": null,
   "id": "1feb33d3",
   "metadata": {},
   "outputs": [],
   "source": [
    "titanic = sns.load_dataset('titanic')\n",
    "#결측치 확인 \n",
    "missing = titanic.isna().sum()\n",
    "#결측이 있는 항목만 확인 \n",
    "missing[missing > 0]\n",
    "#결측비율 \n",
    "titanic.isna().mean() * 100\n"
   ]
  },
  {
   "cell_type": "code",
   "execution_count": null,
   "id": "8694eca9",
   "metadata": {},
   "outputs": [],
   "source": [
    "# 결측치 채우기 \n",
    "# age: 중요한 정보: 평균/ 중앙값 대체\n",
    "#embarked : 가장 많은 사람들이 탄 곳으로 대체 edck: \n",
    "#deck 추측 불가능 (의미 없음) ->삭제 \n",
    "\n",
    "#필요하다면, 카피떠서 진행 \n",
    "titanic_processed =titanic.copy()\n",
    "\n",
    "#나이 결측치 채우기 (남녀상관없이 전체 평균으로 채움)\n",
    "mean_age = titanic['age'].mean()\n",
    "titanic_processed['age'] = titanic['age'].fillna(mean_age)\n",
    "#비어있던 행 마스킹\n",
    "mask = titanic['age'].isna() \n",
    "titanic['age'].isna() .sum()\n",
    "\n",
    "#평균으로 채워진 값들만 확인\n",
    "titanic_processed.loc[mask]\n",
    "\n"
   ]
  },
  {
   "cell_type": "code",
   "execution_count": null,
   "id": "be38dfd3",
   "metadata": {},
   "outputs": [],
   "source": [
    "#성별/객실 별로 평균을 추정하는 건??\n",
    "\n",
    "#모든 사람들을 성별과 객실 그룹의 평균나이로 바꾼 Series\n",
    "mean_ages = titanic.groupby(['sex', 'pclass'])['age'].transform('mean')\n",
    "\n",
    "#titanic 의 age col 중 빈 값만, mean_age 로 채움 \n",
    "titanic_processed['age'] = titanic['age'].fillna(mean_ages)\n",
    "\n",
    "titanic_processed.loc[titanic['age'].isna()]\n",
    "#원래 비어있던 애들만 확인 \n",
    "\n"
   ]
  },
  {
   "cell_type": "code",
   "execution_count": null,
   "id": "e729e69e",
   "metadata": {},
   "outputs": [],
   "source": [
    "#embarked (탑승도시) ->최빈값 (가장 많이 탄 곳)\n",
    "\n",
    "#비어 있는 항구 개수 \n",
    "titanic['embarked'].isna().sum()\n",
    "#최빈값 (Series - 벡터)\n",
    "mode_embarked = titanic['embarked'].mode()[0] #Series 에서 1개 뽑기 \n",
    "#빈 값은 최빈값으로 교체 \n",
    "titanic_processed['embarked'] = titanic['embarked'].fillna(mode_embarked)\n",
    "\n",
    "#처리 완료 확인(빈값0개)\n",
    "titanic_processed['embarked'].isna().sum()\n"
   ]
  },
  {
   "cell_type": "code",
   "execution_count": null,
   "id": "22676436",
   "metadata": {},
   "outputs": [],
   "source": [
    "# dec =k 은 77% 가 비어있음-> 삭제 \n",
    "titanic['deck'].isna().mean() * 100  #빈값 비율 \n",
    "#'deck'컴럼은 삭제\n",
    "titanic_processed.drop('deck',axis=1,inplace= True)\n",
    "titanic_processed.info"
   ]
  },
  {
   "cell_type": "code",
   "execution_count": 75,
   "id": "a8bd0e40",
   "metadata": {},
   "outputs": [
    {
     "data": {
      "text/plain": [
       "<bound method DataFrame.info of      survived  pclass     sex   age  sibsp  parch     fare embarked   class  \\\n",
       "0           0       3    male  22.0      1      0   7.2500        S   Third   \n",
       "1           1       1  female  38.0      1      0  71.2833        C   First   \n",
       "2           1       3  female  26.0      0      0   7.9250        S   Third   \n",
       "3           1       1  female  35.0      1      0  53.1000        S   First   \n",
       "4           0       3    male  35.0      0      0   8.0500        S   Third   \n",
       "..        ...     ...     ...   ...    ...    ...      ...      ...     ...   \n",
       "886         0       2    male  27.0      0      0  13.0000        S  Second   \n",
       "887         1       1  female  19.0      0      0  30.0000        S   First   \n",
       "888         0       3  female   NaN      1      2  23.4500        S   Third   \n",
       "889         1       1    male  26.0      0      0  30.0000        C   First   \n",
       "890         0       3    male  32.0      0      0   7.7500        Q   Third   \n",
       "\n",
       "       who  adult_male  embark_town alive  alone  \n",
       "0      man        True  Southampton    no  False  \n",
       "1    woman       False    Cherbourg   yes  False  \n",
       "2    woman       False  Southampton   yes   True  \n",
       "3    woman       False  Southampton   yes  False  \n",
       "4      man        True  Southampton    no   True  \n",
       "..     ...         ...          ...   ...    ...  \n",
       "886    man        True  Southampton    no   True  \n",
       "887  woman       False  Southampton   yes   True  \n",
       "888  woman       False  Southampton    no  False  \n",
       "889    man        True    Cherbourg   yes   True  \n",
       "890    man        True   Queenstown    no   True  \n",
       "\n",
       "[891 rows x 14 columns]>"
      ]
     },
     "execution_count": 75,
     "metadata": {},
     "output_type": "execute_result"
    }
   ],
   "source": [
    "titanic_processed.info"
   ]
  },
  {
   "cell_type": "code",
   "execution_count": null,
   "id": "e832a2a3",
   "metadata": {},
   "outputs": [],
   "source": []
  }
 ],
 "metadata": {
  "kernelspec": {
   "display_name": "3.13.2",
   "language": "python",
   "name": "python3"
  },
  "language_info": {
   "codemirror_mode": {
    "name": "ipython",
    "version": 3
   },
   "file_extension": ".py",
   "mimetype": "text/x-python",
   "name": "python",
   "nbconvert_exporter": "python",
   "pygments_lexer": "ipython3",
   "version": "3.13.2"
  }
 },
 "nbformat": 4,
 "nbformat_minor": 5
}
