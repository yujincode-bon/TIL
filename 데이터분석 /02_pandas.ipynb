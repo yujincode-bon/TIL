{
 "cells": [
  {
   "cell_type": "markdown",
   "id": "c1c910cc",
   "metadata": {},
   "source": [
    "\n",
    "## 특징 \n",
    "- 표(테이블) 데이터를 다루는데 특화 \n",
    "- 다양한 외부소스에서 데이터 가져오기 (csv,excel,SQL db)\n",
    "- 데이터 정제, 변환, 분석에 필요한 기능 다수 \n",
    "- 결측치 처리, 그룹화, 병합 작업에 효율 \n"
   ]
  },
  {
   "cell_type": "code",
   "execution_count": null,
   "id": "49baf6ad",
   "metadata": {},
   "outputs": [],
   "source": [
    "import numpy as np \n",
    "import pandas as pd \n",
    "#Numpy 배열\n",
    "np_array= np.arange(1,10).reshape(3,3)\n",
    "print(np_array)\n",
    "#넘파이는 배열 처리 시계열은 시간의 흐름을 담고 있는데이터를 해석한다는 의미 판다스는 표 array는 numpy  판다스는 numpy 에 의존한다. \n",
    "df = pd.DataFrame(np_array, columns =['A', 'B', 'C'])\n",
    "print(df)"
   ]
  },
  {
   "cell_type": "markdown",
   "id": "ff411a21",
   "metadata": {},
   "source": [
    "## Series\n",
    "- 1차원 배열 (벡터) with 레이블 \n"
   ]
  },
  {
   "cell_type": "code",
   "execution_count": null,
   "id": "32b20c71",
   "metadata": {},
   "outputs": [],
   "source": [
    "import pandas as pd\n",
    "\n",
    "# 기본 Seires 생성 (별말 없으면 숫자 index)\n",
    "s1 = pd.Series([1, 3, 5, 7, 9])\n",
    "print(s1)\n",
    "\n",
    "# 인덱스 지정\n",
    "s2 = pd.Series([1, 3, 5, 7, 9], index=['a', 'b', 'c', 'd', 'e'])\n",
    "print(s2)\n",
    "\n",
    "# dict로 생성\n",
    "d = {'a': 1, 'b': 2, 'c': 3}\n",
    "s3 = pd.Series(d)\n",
    "print(s3)\n",
    "\n",
    "# 단일값(스칼라)으로 Series 생성\n",
    "s4 = pd.Series(5, index=['a', 'b', 'c'])\n",
    "print(s4)\n"
   ]
  },
  {
   "cell_type": "code",
   "execution_count": null,
   "id": "6632ac62",
   "metadata": {},
   "outputs": [],
   "source": [
    "print(s2)\n",
    "# 값\n",
    "print(s2.values)\n",
    "# 인덱스\n",
    "print(s2.index)\n",
    "# 데이터타입\n",
    "print(s2.dtype)\n",
    "# 차원\n",
    "print(s2.ndim)\n",
    "# 크기\n",
    "print(s2.size)\n",
    "# 모양\n",
    "print(s2.shape)\n",
    "\n",
    "# 앞에 2개\n",
    "print(s2.head(2))\n",
    "# 뒤에 3개\n",
    "print(s2.tail(3))\n",
    "# 통계 요약\n",
    "print(s2.describe())"
   ]
  },
  {
   "cell_type": "markdown",
   "id": "2b83d8a0",
   "metadata": {},
   "source": [
    "## DaraFrmae \n",
    "- 2차원(매트릭스)with Label\n",
    "- 행(row)와 열(col)모두에 Label 설정\n"
   ]
  },
  {
   "cell_type": "code",
   "execution_count": null,
   "id": "dc9322d9",
   "metadata": {},
   "outputs": [],
   "source": [
    "# 딕셔너리로부터 DataFrame 생성\n",
    "data = {\n",
    "    '이름': ['김철수', '이영희', '박민수', '정지영'],\n",
    "    '나이': [25, 28, 22, 30],\n",
    "    '성별': ['남', '여', '남', '여'],\n",
    "    '점수': [85, 92, 78, 90]\n",
    "}\n",
    "df1 = pd.DataFrame(data)\n",
    "print(\"딕셔너리로부터 DataFrame 생성:\")\n",
    "print(df1)\n",
    "\n",
    "# 리스트의 리스트로부터 DataFrame 생성 (데이터 섞인 것은 numpy 에서는 불가함)\n",
    "data_list = [\n",
    "    ['김철수', 25, '남', 85],\n",
    "    ['이영희', 28, '여', 92],\n",
    "    ['박민수', 22, '남', 78],\n",
    "    ['정지영', 30, '여', 90]\n",
    "]\n",
    "df2 = pd.DataFrame(data_list, columns=['이름', '나이', '성별', '점수'])\n",
    "print(\"\\n리스트로부터 DataFrame 생성:\")\n",
    "print(df2)"
   ]
  },
  {
   "cell_type": "code",
   "execution_count": null,
   "id": "c3316ed8",
   "metadata": {},
   "outputs": [],
   "source": [
    "# Column 정보\n",
    "print(df1.columns)\n",
    "# 인덱스(Row 정보)\n",
    "print(df1.index)\n",
    "# 값\n",
    "print(df1.values)\n",
    "# 데이터 타입\n",
    "print(df1.dtypes)\n",
    "# 크기\n",
    "print(df1.size)\n",
    "# 모양\n",
    "print(df1.shape)"
   ]
  },
  {
   "cell_type": "code",
   "execution_count": null,
   "id": "bd74117b",
   "metadata": {},
   "outputs": [],
   "source": [
    "print(df1.head(2))\n",
    "\n",
    "print(df1.tail(2))\n",
    "\n",
    "print(df1.describe())\n",
    "\n",
    "print(df1['점수'].describe())\n"
   ]
  },
  {
   "cell_type": "code",
   "execution_count": null,
   "id": "09372dcc",
   "metadata": {},
   "outputs": [],
   "source": [
    "# Index(데이터 레코드 별 PK)는 Pandas 의 핵심 기능\n",
    "\n",
    "# 인덱스 재설정 (0 ~ N으로 인덱스 설정)\n",
    "df_reset = df1.reset_index()\n",
    "print(df_reset)\n",
    "\n",
    "# 인덱스 설정\n",
    "df_set = df1.set_index('이름')\n",
    "print(df_set)\n",
    "\n",
    "# 다중 인덱스 설정\n",
    "df_multi = df1.set_index(['성별', '이름'])\n",
    "print(df_multi)\n",
    "\n",
    "# 인덱스 이름 변경\n",
    "df_renamed = df_set.rename_axis('학생명')\n",
    "print(df_renamed)"
   ]
  },
  {
   "cell_type": "markdown",
   "id": "b7edc577",
   "metadata": {},
   "source": [
    "## 데이터 접근 및 선택\n",
    "### 열선택과 인덱스 접근"
   ]
  },
  {
   "cell_type": "code",
   "execution_count": null,
   "id": "613dca17",
   "metadata": {},
   "outputs": [],
   "source": [
    "# DF 에서 단일 열(col) 선택\n",
    "\n",
    "name_col = df1['이름']\n",
    "print(name_col)  # Series 가 나온다.\n",
    "\n",
    "# 다중 열 선택\n",
    "subset = df1[ ['이름', '점수'] ]\n",
    "print(subset)  # DataFrame 이 나온다.\n",
    "\n",
    "# key 접근이 아니라 속성(주어.속성) 방식 접근 - 공백/특수문자 없을경우\n",
    "print(df1.나이)\n",
    "\n",
    "# 행 선택 (인덱스 기준)\n",
    "print(df1[:2])  # 맨 앞 레코드 2개 \n",
    "\n",
    "\n"
   ]
  },
  {
   "cell_type": "markdown",
   "id": "23a4deef",
   "metadata": {},
   "source": [
    "print(df1.나이)"
   ]
  },
  {
   "cell_type": "markdown",
   "id": "78d44d3f",
   "metadata": {},
   "source": [
    "\n",
    "###loc 와 iloc\n",
    "loc : 레이블 기반 인덱싱(인덱스 이름 사용)\n",
    "iloc : 위치 기반 인덱싱(정수 위치 사용)"
   ]
  },
  {
   "cell_type": "code",
   "execution_count": null,
   "id": "2c6a6d51",
   "metadata": {},
   "outputs": [],
   "source": [
    "# loc 예제\n",
    "\n",
    "df3 = df1.set_index('이름')\n",
    "\n",
    "# 단일 행 선택\n",
    "row = df3.loc['김철수']\n",
    "print(row)\n",
    "\n",
    "# 여러 행 선택\n",
    "rows = df3.loc[ ['김철수', '이영희'] ]\n",
    "print(rows)\n",
    "\n",
    "# row + col 조합으로 선택\n",
    "data = df3.loc[ ['김철수', '이영희'], ['나이', '점수'] ]"
   ]
  },
  {
   "cell_type": "code",
   "execution_count": null,
   "id": "7889dad0",
   "metadata": {},
   "outputs": [],
   "source": [
    "#iloc 예제 \n",
    "print(df1) #인덱스 설정 없음\n",
    "\n",
    "# 단일 행 ->이거 아님 df\n",
    "first_row =-df1.iloc[0] #df1[1:3]와 같으나 iloc사용\n",
    "print(first_row)\n",
    "\n",
    "#다중 행 \n",
    "rows = df3.iloc[1:3]\n",
    "print(rows)\n",
    "#행 + 열 선택\n",
    "data =df1.iloc[[]] #0,2 sms 레코드(행:로우) 번호 구요, 1,3은 col 번호이다. \n",
    "print(data)"
   ]
  },
  {
   "cell_type": "code",
   "execution_count": null,
   "id": "557ee9ca",
   "metadata": {},
   "outputs": [],
   "source": []
  },
  {
   "cell_type": "markdown",
   "id": "880fb37a",
   "metadata": {},
   "source": [
    "### boolean 인덱싱 \n"
   ]
  },
  {
   "cell_type": "code",
   "execution_count": null,
   "id": "481db697",
   "metadata": {},
   "outputs": [],
   "source": [
    "print(df1)\n",
    "print()\n",
    "# 나이 25 초과 마스킹\n",
    "mask = df1['나이'] > 25  # T, F로 이루어진 Series\n",
    "print(mask)\n",
    "print()\n",
    "# 필터링\n",
    "filtered = df1[mask]\n",
    "print(filtered)\n",
    "print()\n",
    "\n",
    "# 점수 80이상, 성별 '여'\n",
    "mask = (df1['점수'] >= 80) & (df1['성별'] == '여')\n",
    "print(df1[mask])\n",
    "print()\n",
    "#남성이거나, 점수 90이상 \n",
    "mask =df1['점수']>=92| (df1['성별']=='남')\n",
    "print (df1[mask])\n",
    "\n",
    "#쿼리메서드로 필터링 \n",
    "print(df1.query('나이>=25 and 점수>85'))\n",
    "\n",
    "# isin 메서드로 필터링\n",
    "names = ['김철수', '정지영']\n",
    "mask = df1['이름'].isin(names)\n",
    "print(df1[mask])\n",
    "\n",
    "\n"
   ]
  },
  {
   "cell_type": "code",
   "execution_count": null,
   "id": "21d8a520",
   "metadata": {},
   "outputs": [],
   "source": [
    "### 눈으로 확인하는 용도\n",
    "print(df1.describe())\n",
    "#print(df1['점수'].describe()) #데이터 프레임과 시리즈를 주어로 둔다 차이점이 이거임. np.median 에서 np 는 함수이다. \n",
    "print(df1)\n",
    "#개별 통계 함수 \n",
    "print(df1['점수'].mean())\n",
    "print(df1['점수'].median())\n",
    "print(df1['점수'].std())\n",
    "print(df1['점수'].min())\n",
    "print(df1['점수'].max())\n",
    "print(df1['점수'].sum())\n",
    "\n",
    "#범주형 col 빈도 계산 \n",
    "print(df1['성별'].value_counts())\n",
    "\n"
   ]
  },
  {
   "cell_type": "markdown",
   "id": "869ff4fb",
   "metadata": {},
   "source": [
    "## 데이터 요약 및 그룹화"
   ]
  },
  {
   "cell_type": "code",
   "execution_count": null,
   "id": "6bae40d6",
   "metadata": {},
   "outputs": [],
   "source": [
    "#df1 표에서 성별로 그루핑하고, 점수의 평균집계 \n",
    "\n",
    "stat= gender_score= df1.groupby('성별')['점수'].mean() \n",
    "print(gender_score)\n",
    "\n",
    "#데이터 프레임과 시리즈의 차이 \n",
    "#성별에 따른 여러 통계량\n",
    "df1.groupby('성별').agg({\n",
    "    '나이': ['mean', 'min', 'max'],\n",
    "    '점수': ['mean', 'min', 'max','std']\n",
    "})\n",
    "stat\n"
   ]
  },
  {
   "cell_type": "code",
   "execution_count": null,
   "id": "ca0e2cc5",
   "metadata": {},
   "outputs": [],
   "source": [
    "%pip install matplotlib"
   ]
  },
  {
   "cell_type": "code",
   "execution_count": null,
   "id": "1bda0a80",
   "metadata": {},
   "outputs": [],
   "source": [
    "import warnings\n",
    "warnings.filterwarnings('ignore', category=UserWarning)"
   ]
  },
  {
   "cell_type": "code",
   "execution_count": null,
   "id": "8948afee",
   "metadata": {},
   "outputs": [],
   "source": [
    "import matplotlib.pyplot as plt\n",
    "plt.rcParams['font.family'] = 'Malgun Gothic'\n",
    "plt.rcParams['axes.unicode_minus'] = False\n",
    "df1.plot(kind ='bar')"
   ]
  },
  {
   "cell_type": "code",
   "execution_count": null,
   "id": "89090753",
   "metadata": {},
   "outputs": [],
   "source": [
    "#막대그래프\n",
    "df1.plot(kind= 'bar',)"
   ]
  },
  {
   "cell_type": "code",
   "execution_count": null,
   "id": "6547a2bd",
   "metadata": {},
   "outputs": [],
   "source": [
    "gender_score.plot(kind='bar')\n",
    "plt.title('성별 평균 점수')\n",
    "plt.xlabel('성별')\n",
    "plt.ylabel('평균점수')"
   ]
  },
  {
   "cell_type": "code",
   "execution_count": null,
   "id": "f5d97a50",
   "metadata": {},
   "outputs": [],
   "source": [
    "import pandas as pd\n",
    "import numpy as np\n",
    "import matplotlib.pyplot as plt\n",
    "\n",
    "# 온라인 쇼핑몰 고객 데이터 (가상)\n",
    "customer_data = {\n",
    "    '고객ID': [1001, 1002, 1003, 1004, 1005, 1006, 1007, 1008, 1009, 1010],\n",
    "    '이름': ['김민수', '이지영', '박철호', '정수민', '최영희', '강도현', '윤서연', '임태혁', '송지원', '한미래'],\n",
    "    '나이': [25, 32, 28, 35, 29, 31, 26, 33, 27, 30],\n",
    "    '성별': ['남', '여', '남', '여', '여', '남', '여', '남', '여', '여'],\n",
    "    '구매금액': [50000, 75000, 32000, 98000, 67000, 84000, 41000, 72000, 58000, 89000],\n",
    "    '구매횟수': [3, 5, 2, 7, 4, 6, 2, 5, 3, 6],\n",
    "    '회원등급': ['실버', '골드', '브론즈', '플래티넘', '골드', '골드', '실버', '골드', '실버', '플래티넘']\n",
    "}\n",
    "\n",
    "df = pd.DataFrame(customer_data)\n",
    "print(\"온라인 쇼핑몰 고객 데이터:\")\n",
    "print(df)"
   ]
  },
  {
   "cell_type": "code",
   "execution_count": null,
   "id": "11feb116",
   "metadata": {},
   "outputs": [],
   "source": [
    "#컬럼별 요약 통계 \n",
    "#print(df.describe())\n",
    "#성별 별 고객 수 \n",
    "print(df['성별'].value_counts())\n",
    "#회원등급별 평균 구매금액 \n"
   ]
  },
  {
   "cell_type": "code",
   "execution_count": 153,
   "id": "869b5e0c",
   "metadata": {},
   "outputs": [
    {
     "name": "stdout",
     "output_type": "stream",
     "text": [
      "7\n",
      "행 개수: 10\n",
      "열 개수: 7\n",
      "컬럼명: ['고객ID', '이름', '나이', '성별', '구매금액', '구매횟수', '회원등급']\n",
      "<class 'pandas.core.frame.DataFrame'>\n",
      "RangeIndex: 10 entries, 0 to 9\n",
      "Data columns (total 7 columns):\n",
      " #   Column  Non-Null Count  Dtype \n",
      "---  ------  --------------  ----- \n",
      " 0   고객ID    10 non-null     int64 \n",
      " 1   이름      10 non-null     object\n",
      " 2   나이      10 non-null     int64 \n",
      " 3   성별      10 non-null     object\n",
      " 4   구매금액    10 non-null     int64 \n",
      " 5   구매횟수    10 non-null     int64 \n",
      " 6   회원등급    10 non-null     object\n",
      "dtypes: int64(4), object(3)\n",
      "memory usage: 692.0+ bytes\n"
     ]
    },
    {
     "data": {
      "text/plain": [
       "<bound method IndexOpsMixin.value_counts of 0      실버\n",
       "1      골드\n",
       "2     브론즈\n",
       "3    플래티넘\n",
       "4      골드\n",
       "5      골드\n",
       "6      실버\n",
       "7      골드\n",
       "8      실버\n",
       "9    플래티넘\n",
       "Name: 회원등급, dtype: object>"
      ]
     },
     "execution_count": 153,
     "metadata": {},
     "output_type": "execute_result"
    }
   ],
   "source": [
    "# 데이터 정보 확인 (행 개수, 열 개수, 컬럼명)\n",
    "len(df) #행 개수 \n",
    "df.shape[0]\n",
    "len(df.columns)\n",
    "print(df.shape[1]) #열개수 \n",
    "df.columns\n",
    "print(\"행 개수:\", df.shape[0])\n",
    "print(\"열 개수:\", df.shape[1])\n",
    "print(\"컬럼명:\", list(df.columns))\n",
    "# 데이터 타입 확인\n",
    "df.dtypes\n",
    "df.info()\n",
    "# 기술 통계 요약\n",
    "df.describe()\n",
    "# 범주형 데이터 빈도 (성별 카운트, 등급 카운트)\n",
    "#1. 성별빈도 \n",
    "df['성별'].value_counts()\n",
    "#2.회원등급 빈도 \n",
    "df['회원등급'].value_counts\n"
   ]
  },
  {
   "cell_type": "code",
   "execution_count": 152,
   "id": "c2e97fde",
   "metadata": {},
   "outputs": [
    {
     "name": "stdout",
     "output_type": "stream",
     "text": [
      "1. 이름과 구매금액만 선택:\n",
      "    이름   구매금액\n",
      "0  김민수  50000\n",
      "1  이지영  75000\n",
      "2  박철호  32000\n",
      "3  정수민  98000\n",
      "4  최영희  67000\n",
      "5  강도현  84000\n",
      "6  윤서연  41000\n",
      "7  임태혁  72000\n",
      "8  송지원  58000\n",
      "9  한미래  89000\n",
      "\n",
      "2. 구매금액이 70000원 이상인 고객:\n",
      "   고객ID   이름  나이 성별   구매금액  구매횟수  회원등급\n",
      "1  1002  이지영  32  여  75000     5    골드\n",
      "3  1004  정수민  35  여  98000     7  플래티넘\n",
      "5  1006  강도현  31  남  84000     6    골드\n",
      "7  1008  임태혁  33  남  72000     5    골드\n",
      "9  1010  한미래  30  여  89000     6  플래티넘\n",
      "\n",
      "3. 여성이면서 구매횟수가 4회 이상인 고객:\n",
      "   고객ID   이름  나이 성별   구매금액  구매횟수  회원등급\n",
      "1  1002  이지영  32  여  75000     5    골드\n",
      "3  1004  정수민  35  여  98000     7  플래티넘\n",
      "4  1005  최영희  29  여  67000     4    골드\n",
      "9  1010  한미래  30  여  89000     6  플래티넘\n",
      "\n",
      "4. 골드 또는 플래티넘 회원:\n",
      "0    False\n",
      "1     True\n",
      "2    False\n",
      "3     True\n",
      "4     True\n",
      "5     True\n",
      "6    False\n",
      "7     True\n",
      "8    False\n",
      "9     True\n",
      "Name: 회원등급, dtype: bool\n",
      "   고객ID   이름  나이 성별   구매금액  구매횟수  회원등급\n",
      "1  1002  이지영  32  여  75000     5    골드\n",
      "3  1004  정수민  35  여  98000     7  플래티넘\n",
      "4  1005  최영희  29  여  67000     4    골드\n",
      "5  1006  강도현  31  남  84000     6    골드\n",
      "7  1008  임태혁  33  남  72000     5    골드\n",
      "9  1010  한미래  30  여  89000     6  플래티넘\n"
     ]
    }
   ],
   "source": [
    "# 1. 특정 열 선택\n",
    "print(\"1. 이름과 구매금액만 선택:\")\n",
    "a1= df[['이름','구매금액']]\n",
    "print(a1)\n",
    "\n",
    "# 2. 조건부 필터링\n",
    "print(\"\\n2. 구매금액이 70000원 이상인 고객:\")\n",
    "a2=df[df['구매금액']>=70000]\n",
    "print(a2)\n",
    "# 3. 다중 조건 필터링\n",
    "print(\"\\n3. 여성이면서 구매횟수가 4회 이상인 고객:\")\n",
    "# 조건1: 성별 == '여'\n",
    "# 조건2: 구매횟수 >= 4\n",
    "a3 = df[(df['성별'] == '여') & (df['구매횟수'] >= 4)]\n",
    "print(a3) \n",
    "# 4. 특정 값들로 필터링\n",
    "print(\"\\n4. 골드 또는 플래티넘 회원:\") #isin 은 리스트 형태로 사용되고 해당 값이 리스트 안에 초함되어 있는지를 반환해 준단\n",
    "a5 = df['회원등급'].isin(['골드', '플래티넘'])\n",
    "print(a5) \n",
    "a6 = df[(df['회원등급'] == '플래티넘') | (df['회원등급'] == '골드') ]\n",
    "print(a6)\n"
   ]
  },
  {
   "cell_type": "code",
   "execution_count": 159,
   "id": "28cfe9ed",
   "metadata": {},
   "outputs": [
    {
     "name": "stdout",
     "output_type": "stream",
     "text": [
      "   고객ID   이름  나이 성별   구매금액  구매횟수  회원등급\n",
      "5  1006  강도현  31  남  84000     6    골드\n",
      "1  1002  이지영  32  여  75000     5    골드\n",
      "7  1008  임태혁  33  남  72000     5    골드\n",
      "4  1005  최영희  29  여  67000     4    골드\n",
      "2  1003  박철호  28  남  32000     2   브론즈\n",
      "8  1009  송지원  27  여  58000     3    실버\n",
      "0  1001  김민수  25  남  50000     3    실버\n",
      "6  1007  윤서연  26  여  41000     2    실버\n",
      "3  1004  정수민  35  여  98000     7  플래티넘\n",
      "9  1010  한미래  30  여  89000     6  플래티넘\n"
     ]
    }
   ],
   "source": [
    "# #안배웠지만 적용해보기 \n",
    "\n",
    "# # 구매금액 기준 정렬 정렬은 sort 이용 \n",
    "# print(\"구매금액 기준 내림차순 정렬:\")\n",
    "# a10 = df.sort_values(by='구매금액', ascending=False)\n",
    "# print(a10)\n",
    "# # 여러 기준으로 정렬 ()\n",
    "a11 = df.sort_values(by=['회원등급','구매금액'],ascending=[True,False])\n",
    "print(a11)\n",
    "# print(\"\\n회원등급별, 구매금액별 정렬:\")"
   ]
  },
  {
   "cell_type": "code",
   "execution_count": null,
   "id": "ce57ec45",
   "metadata": {},
   "outputs": [
    {
     "name": "stdout",
     "output_type": "stream",
     "text": [
      "count       10.000000\n",
      "mean     66600.000000\n",
      "std      21323.956272\n",
      "min      32000.000000\n",
      "25%      52000.000000\n",
      "50%      69500.000000\n",
      "75%      81750.000000\n",
      "max      98000.000000\n",
      "Name: 구매금액, dtype: float64\n",
      "count    10.000000\n",
      "mean      4.300000\n",
      "std       1.766981\n",
      "min       2.000000\n",
      "25%       3.000000\n",
      "50%       4.500000\n",
      "75%       5.750000\n",
      "max       7.000000\n",
      "Name: 구매횟수, dtype: float64\n"
     ]
    }
   ],
   "source": [
    "# # 금액 계산 (평균, 중앙, 최소, 최대, 표준편차)\n",
    "# print(\"구매금액 통계:\")\n",
    "b1= df['구매금액'].describe()\n",
    "print(b1)\n",
    "# # 횟수 계산 (평균, 중앙, 최소, 최대, 표준편차)\n",
    "b2 = df['구매횟수'].describe()\n",
    "print(b2)\n",
    "# print(\"\\n구매횟수 통계:\")\n",
    "상#상위/하위\n",
    "print (df.blargest(2. '구매금액'))\n",
    "print(df)"
   ]
  },
  {
   "cell_type": "code",
   "execution_count": null,
   "id": "db68d33b",
   "metadata": {},
   "outputs": [
    {
     "name": "stderr",
     "output_type": "stream",
     "text": [
      "findfont: Font family 'Malgun Gothic' not found.\n",
      "findfont: Font family 'Malgun Gothic' not found.\n",
      "findfont: Font family 'Malgun Gothic' not found.\n",
      "findfont: Font family 'Malgun Gothic' not found.\n",
      "findfont: Font family 'Malgun Gothic' not found.\n",
      "findfont: Font family 'Malgun Gothic' not found.\n",
      "findfont: Font family 'Malgun Gothic' not found.\n",
      "findfont: Font family 'Malgun Gothic' not found.\n",
      "findfont: Font family 'Malgun Gothic' not found.\n",
      "findfont: Font family 'Malgun Gothic' not found.\n",
      "findfont: Font family 'Malgun Gothic' not found.\n",
      "findfont: Font family 'Malgun Gothic' not found.\n",
      "findfont: Font family 'Malgun Gothic' not found.\n",
      "findfont: Font family 'Malgun Gothic' not found.\n",
      "findfont: Font family 'Malgun Gothic' not found.\n",
      "findfont: Font family 'Malgun Gothic' not found.\n",
      "findfont: Font family 'Malgun Gothic' not found.\n",
      "findfont: Font family 'Malgun Gothic' not found.\n",
      "findfont: Font family 'Malgun Gothic' not found.\n",
      "findfont: Font family 'Malgun Gothic' not found.\n",
      "findfont: Font family 'Malgun Gothic' not found.\n",
      "findfont: Font family 'Malgun Gothic' not found.\n",
      "findfont: Font family 'Malgun Gothic' not found.\n",
      "findfont: Font family 'Malgun Gothic' not found.\n",
      "findfont: Font family 'Malgun Gothic' not found.\n",
      "findfont: Font family 'Malgun Gothic' not found.\n",
      "findfont: Font family 'Malgun Gothic' not found.\n",
      "findfont: Font family 'Malgun Gothic' not found.\n",
      "findfont: Font family 'Malgun Gothic' not found.\n",
      "findfont: Font family 'Malgun Gothic' not found.\n",
      "findfont: Font family 'Malgun Gothic' not found.\n",
      "findfont: Font family 'Malgun Gothic' not found.\n",
      "findfont: Font family 'Malgun Gothic' not found.\n",
      "findfont: Font family 'Malgun Gothic' not found.\n",
      "findfont: Font family 'Malgun Gothic' not found.\n",
      "findfont: Font family 'Malgun Gothic' not found.\n",
      "findfont: Font family 'Malgun Gothic' not found.\n",
      "findfont: Font family 'Malgun Gothic' not found.\n",
      "findfont: Font family 'Malgun Gothic' not found.\n",
      "findfont: Font family 'Malgun Gothic' not found.\n"
     ]
    },
    {
     "data": {
      "image/png": "[encoded data removed]",
      "text/plain": [
       "<Figure size 640x480 with 1 Axes>"
      ]
     },
     "metadata": {},
     "output_type": "display_data"
    }
   ],
   "source": [
    "# # 성별별(Group) 기본 분석  \n",
    "# print(\"성별별 분석:\")\n",
    "df.groupby('성별').describe()\n",
    "\n",
    "print(fender_group ['구매금액'].agg(['count','mean'])\n",
    "      print(result.rename)\n",
    "# print('\\n횟수, 평균 통계:')\n",
    "#성별 별로 구매금액, 구매횟 수 통계 내기\n",
    "df.groupby('성별')['구매금액'].mean().plot(kind='bar', title='성별별 평균 구매금액')\n",
    "plt.show()\n",
    "# print('\\n평균 구매 횟수')"
   ]
  },
  {
   "cell_type": "code",
   "execution_count": null,
   "id": "c7277984",
   "metadata": {},
   "outputs": [],
   "source": [
    "# 등급별(Group) 기본분석\n",
    "print('회원 등급별 평균 구매 금액 분석')"
   ]
  },
  {
   "cell_type": "markdown",
   "id": "a5cffd12",
   "metadata": {},
   "source": [
    "## 결측치 확인\n",
    "\n"
   ]
  },
  {
   "cell_type": "code",
   "execution_count": 4,
   "id": "ca800465",
   "metadata": {},
   "outputs": [
    {
     "data": {
      "text/html": [
       "<div>\n",
       "<style scoped>\n",
       "    .dataframe tbody tr th:only-of-type {\n",
       "        vertical-align: middle;\n",
       "    }\n",
       "\n",
       "    .dataframe tbody tr th {\n",
       "        vertical-align: top;\n",
       "    }\n",
       "\n",
       "    .dataframe thead th {\n",
       "        text-align: right;\n",
       "    }\n",
       "</style>\n",
       "<table border=\"1\" class=\"dataframe\">\n",
       "  <thead>\n",
       "    <tr style=\"text-align: right;\">\n",
       "      <th></th>\n",
       "      <th>이름</th>\n",
       "      <th>나이</th>\n",
       "      <th>성별</th>\n",
       "      <th>직업</th>\n",
       "      <th>급여</th>\n",
       "    </tr>\n",
       "  </thead>\n",
       "  <tbody>\n",
       "    <tr>\n",
       "      <th>0</th>\n",
       "      <td>김철수</td>\n",
       "      <td>25.0</td>\n",
       "      <td>남</td>\n",
       "      <td>회사원</td>\n",
       "      <td>3500.0</td>\n",
       "    </tr>\n",
       "    <tr>\n",
       "      <th>1</th>\n",
       "      <td>이영희</td>\n",
       "      <td>28.0</td>\n",
       "      <td>여</td>\n",
       "      <td>NaN</td>\n",
       "      <td>4200.0</td>\n",
       "    </tr>\n",
       "    <tr>\n",
       "      <th>2</th>\n",
       "      <td>박민수</td>\n",
       "      <td>NaN</td>\n",
       "      <td>남</td>\n",
       "      <td>자영업</td>\n",
       "      <td>NaN</td>\n",
       "    </tr>\n",
       "    <tr>\n",
       "      <th>3</th>\n",
       "      <td>NaN</td>\n",
       "      <td>30.0</td>\n",
       "      <td>NaN</td>\n",
       "      <td>공무원</td>\n",
       "      <td>3800.0</td>\n",
       "    </tr>\n",
       "    <tr>\n",
       "      <th>4</th>\n",
       "      <td>정지영</td>\n",
       "      <td>22.0</td>\n",
       "      <td>여</td>\n",
       "      <td>회사원</td>\n",
       "      <td>3200.0</td>\n",
       "    </tr>\n",
       "  </tbody>\n",
       "</table>\n",
       "</div>"
      ],
      "text/plain": [
       "    이름    나이   성별   직업      급여\n",
       "0  김철수  25.0    남  회사원  3500.0\n",
       "1  이영희  28.0    여  NaN  4200.0\n",
       "2  박민수   NaN    남  자영업     NaN\n",
       "3  NaN  30.0  NaN  공무원  3800.0\n",
       "4  정지영  22.0    여  회사원  3200.0"
      ]
     },
     "execution_count": 4,
     "metadata": {},
     "output_type": "execute_result"
    }
   ],
   "source": [
    "import numpy as np \n",
    "import pandas as pd \n",
    "# 결측치 처리 \n",
    "data = {\n",
    "    '이름': ['김철수', '이영희', '박민수', np.nan, '정지영'],\n",
    "    '나이': [25, 28, np.nan, 30, 22],\n",
    "    '성별': ['남', '여', '남', np.nan, '여'],\n",
    "    '직업': ['회사원', np.nan, '자영업', '공무원', '회사원'],\n",
    "    '급여': [3500, 4200, np.nan, 3800, 3200]\n",
    "} \n",
    "df = pd.DataFrame(data)\n",
    "\n",
    "df"
   ]
  },
  {
   "cell_type": "code",
   "execution_count": 19,
   "id": "a613058e",
   "metadata": {},
   "outputs": [
    {
     "name": "stdout",
     "output_type": "stream",
     "text": [
      "original     이름    나이   성별   직업      급여\n",
      "0  김철수  25.0    남  회사원  3500.0\n",
      "1  이영희  28.0    여  NaN  4200.0\n",
      "2  박민수   NaN    남  자영업     NaN\n",
      "3  NaN  30.0  NaN  공무원  3800.0\n",
      "4  정지영  22.0    여  회사원  3200.0\n",
      "      이름     나이     성별     직업     급여\n",
      "0  False  False  False  False  False\n",
      "1  False  False  False   True  False\n",
      "2  False   True  False  False   True\n",
      "3   True  False   True  False  False\n",
      "4  False  False  False  False  False       이름     나이     성별     직업     급여\n",
      "0  False  False  False  False  False\n",
      "1  False  False  False   True  False\n",
      "2  False   True  False  False   True\n",
      "3   True  False   True  False  False\n",
      "4  False  False  False  False  False\n"
     ]
    },
    {
     "data": {
      "text/html": [
       "<div>\n",
       "<style scoped>\n",
       "    .dataframe tbody tr th:only-of-type {\n",
       "        vertical-align: middle;\n",
       "    }\n",
       "\n",
       "    .dataframe tbody tr th {\n",
       "        vertical-align: top;\n",
       "    }\n",
       "\n",
       "    .dataframe thead th {\n",
       "        text-align: right;\n",
       "    }\n",
       "</style>\n",
       "<table border=\"1\" class=\"dataframe\">\n",
       "  <thead>\n",
       "    <tr style=\"text-align: right;\">\n",
       "      <th></th>\n",
       "      <th>이름</th>\n",
       "      <th>나이</th>\n",
       "      <th>성별</th>\n",
       "      <th>직업</th>\n",
       "      <th>급여</th>\n",
       "    </tr>\n",
       "  </thead>\n",
       "  <tbody>\n",
       "    <tr>\n",
       "      <th>0</th>\n",
       "      <td>김철수</td>\n",
       "      <td>25.0</td>\n",
       "      <td>남</td>\n",
       "      <td>회사원</td>\n",
       "      <td>3500.0</td>\n",
       "    </tr>\n",
       "    <tr>\n",
       "      <th>4</th>\n",
       "      <td>정지영</td>\n",
       "      <td>22.0</td>\n",
       "      <td>여</td>\n",
       "      <td>회사원</td>\n",
       "      <td>3200.0</td>\n",
       "    </tr>\n",
       "  </tbody>\n",
       "</table>\n",
       "</div>"
      ],
      "text/plain": [
       "    이름    나이 성별   직업      급여\n",
       "0  김철수  25.0  남  회사원  3500.0\n",
       "4  정지영  22.0  여  회사원  3200.0"
      ]
     },
     "execution_count": 19,
     "metadata": {},
     "output_type": "execute_result"
    }
   ],
   "source": [
    "print('original',df)\n",
    "#결측치 자체를 확인 \n",
    "print(df.isna(),df.isnull()) #완전히 똑같은 문법\n",
    "\n",
    "#결측치 총 개수 \n",
    "df.isna().sum # 각 열별 결측치 개수 열마다 ㅅTrue 개수를 센다. \n",
    "#df.sum() #안되는 것들 생김 \n",
    "df['급여'].sum() #갯수가 아닌 True를 1로 생각함 \n",
    "df.isna().mean()*100\n",
    "\n",
    "# df의 정보 (dv 스키마 확인과 비슷하다. )\n",
    "df.info\n",
    "# 결측치가 포함된 행을 확인 \n",
    "df.isna().any() #axis =0을 써주는게 확실함 \n",
    "\n",
    "# 결측치가 포함된 행을 확인 \n",
    "m1= df.isna().any(axis=1)\n",
    "\n",
    "#결측치가 없는 행을 확인 \n",
    "m2= df.notna().all(axis=1) #하나도 결측치가 없다 => True가 꽉찬것 \n",
    "df[m1]\n",
    "df[m2]\n",
    "\n"
   ]
  },
  {
   "cell_type": "markdown",
   "id": "9854632b",
   "metadata": {},
   "source": [
    "## 결측치 삭제"
   ]
  },
  {
   "cell_type": "code",
   "execution_count": 22,
   "id": "b5cc0997",
   "metadata": {},
   "outputs": [
    {
     "data": {
      "text/html": [
       "<div>\n",
       "<style scoped>\n",
       "    .dataframe tbody tr th:only-of-type {\n",
       "        vertical-align: middle;\n",
       "    }\n",
       "\n",
       "    .dataframe tbody tr th {\n",
       "        vertical-align: top;\n",
       "    }\n",
       "\n",
       "    .dataframe thead th {\n",
       "        text-align: right;\n",
       "    }\n",
       "</style>\n",
       "<table border=\"1\" class=\"dataframe\">\n",
       "  <thead>\n",
       "    <tr style=\"text-align: right;\">\n",
       "      <th></th>\n",
       "    </tr>\n",
       "  </thead>\n",
       "  <tbody>\n",
       "    <tr>\n",
       "      <th>0</th>\n",
       "    </tr>\n",
       "    <tr>\n",
       "      <th>1</th>\n",
       "    </tr>\n",
       "    <tr>\n",
       "      <th>2</th>\n",
       "    </tr>\n",
       "    <tr>\n",
       "      <th>3</th>\n",
       "    </tr>\n",
       "    <tr>\n",
       "      <th>4</th>\n",
       "    </tr>\n",
       "  </tbody>\n",
       "</table>\n",
       "</div>"
      ],
      "text/plain": [
       "Empty DataFrame\n",
       "Columns: []\n",
       "Index: [0, 1, 2, 3, 4]"
      ]
     },
     "execution_count": 22,
     "metadata": {},
     "output_type": "execute_result"
    }
   ],
   "source": [
    "#결측치가 있는 모든 행을 삭제 하나라도 있다면!!(새로 리턴)\n",
    "df.dropna(axis=0)\n",
    "\n",
    "#틀정 열의 결측치가 있는 행만 삭제 (이름과 성별이 없는 행은 삭제)\n",
    "df.dropna(subset=['이름','성별'],axis=0)\n",
    "\n",
    "#모든 값이 결측치면 삭제 \n",
    "df.dropna(how ='all',axis =0)\n",
    "\n",
    "#결측치가 있는 모든 열을 삭제 \n",
    "df.dropna(axis=1)\n",
    " \n"
   ]
  },
  {
   "cell_type": "markdown",
   "id": "7adde3f6",
   "metadata": {},
   "source": [
    "## 결측치 채우기"
   ]
  },
  {
   "cell_type": "code",
   "execution_count": 30,
   "id": "5c1f148d",
   "metadata": {},
   "outputs": [
    {
     "name": "stderr",
     "output_type": "stream",
     "text": [
      "/var/folders/98/vj3q9b254k79y681ng12dddh0000gn/T/ipykernel_28210/3119367538.py:16: FutureWarning: DataFrame.fillna with 'method' is deprecated and will raise in a future version. Use obj.ffill() or obj.bfill() instead.\n",
      "  df.fillna(method='ffill') #과거\n"
     ]
    },
    {
     "data": {
      "text/html": [
       "<div>\n",
       "<style scoped>\n",
       "    .dataframe tbody tr th:only-of-type {\n",
       "        vertical-align: middle;\n",
       "    }\n",
       "\n",
       "    .dataframe tbody tr th {\n",
       "        vertical-align: top;\n",
       "    }\n",
       "\n",
       "    .dataframe thead th {\n",
       "        text-align: right;\n",
       "    }\n",
       "</style>\n",
       "<table border=\"1\" class=\"dataframe\">\n",
       "  <thead>\n",
       "    <tr style=\"text-align: right;\">\n",
       "      <th></th>\n",
       "      <th>이름</th>\n",
       "      <th>나이</th>\n",
       "      <th>성별</th>\n",
       "      <th>직업</th>\n",
       "      <th>급여</th>\n",
       "    </tr>\n",
       "  </thead>\n",
       "  <tbody>\n",
       "    <tr>\n",
       "      <th>0</th>\n",
       "      <td>김철수</td>\n",
       "      <td>25.0</td>\n",
       "      <td>남</td>\n",
       "      <td>회사원</td>\n",
       "      <td>3500.0</td>\n",
       "    </tr>\n",
       "    <tr>\n",
       "      <th>1</th>\n",
       "      <td>이영희</td>\n",
       "      <td>28.0</td>\n",
       "      <td>여</td>\n",
       "      <td>자영업</td>\n",
       "      <td>4200.0</td>\n",
       "    </tr>\n",
       "    <tr>\n",
       "      <th>2</th>\n",
       "      <td>박민수</td>\n",
       "      <td>30.0</td>\n",
       "      <td>남</td>\n",
       "      <td>자영업</td>\n",
       "      <td>3800.0</td>\n",
       "    </tr>\n",
       "    <tr>\n",
       "      <th>3</th>\n",
       "      <td>정지영</td>\n",
       "      <td>30.0</td>\n",
       "      <td>여</td>\n",
       "      <td>공무원</td>\n",
       "      <td>3800.0</td>\n",
       "    </tr>\n",
       "    <tr>\n",
       "      <th>4</th>\n",
       "      <td>정지영</td>\n",
       "      <td>22.0</td>\n",
       "      <td>여</td>\n",
       "      <td>회사원</td>\n",
       "      <td>3200.0</td>\n",
       "    </tr>\n",
       "  </tbody>\n",
       "</table>\n",
       "</div>"
      ],
      "text/plain": [
       "    이름    나이 성별   직업      급여\n",
       "0  김철수  25.0  남  회사원  3500.0\n",
       "1  이영희  28.0  여  자영업  4200.0\n",
       "2  박민수  30.0  남  자영업  3800.0\n",
       "3  정지영  30.0  여  공무원  3800.0\n",
       "4  정지영  22.0  여  회사원  3200.0"
      ]
     },
     "execution_count": 30,
     "metadata": {},
     "output_type": "execute_result"
    }
   ],
   "source": [
    "# 특정 값으로 결측치 채우기 \n",
    "df.fillna(0)\n",
    "\n",
    "# 열별로 다른 값 쓰기 \n",
    "fill_values = {\n",
    "    '이름': '익명',\n",
    "    '나이': 20,\n",
    "    '성별': '기타',\n",
    "    '급여': df['급여'].mean()\n",
    "} ##여기 까지 딕셔너리\n",
    "\n",
    "df.fillna(fill_values)\n",
    "\n",
    "#앞/뒤 사람데이터 복붙 랜덤도 방법이지만.. \n",
    "# 케글에서 점수에 큰영향을 주는 것은 벤치마크 \n",
    "df.fillna(method='ffill') #과거버전 용 미래에는 에러남 \n",
    "df.ffill() #앞사람데이터\n",
    "df.bfill() #과거버전 \n",
    "\n",
    "\n",
    "\n"
   ]
  },
  {
   "cell_type": "code",
   "execution_count": 31,
   "id": "d248049f",
   "metadata": {},
   "outputs": [
    {
     "data": {
      "text/plain": [
       "2023-01-01     1.0\n",
       "2023-01-02     2.0\n",
       "2023-01-03     NaN\n",
       "2023-01-04     4.0\n",
       "2023-01-05     5.0\n",
       "2023-01-06     NaN\n",
       "2023-01-07     NaN\n",
       "2023-01-08     8.0\n",
       "2023-01-09     9.0\n",
       "2023-01-10    10.0\n",
       "Freq: D, dtype: float64"
      ]
     },
     "execution_count": 31,
     "metadata": {},
     "output_type": "execute_result"
    }
   ],
   "source": [
    "#시계열 데이터\n",
    "dates = pd.to_datetime(['2023-01-01', '2023-01-02', '2023-01-05', '2023-01-10'])\n",
    "data = [1, np.nan, np.nan, 10]\n",
    "\n",
    "time_data = pd.DataFrame({'value': data}, index=dates)"
   ]
  },
  {
   "cell_type": "code",
   "execution_count": 35,
   "id": "a0242365",
   "metadata": {},
   "outputs": [],
   "source": [
    "# 보간법(알려진 값으로 모르는 것을 추정한다)\n",
    "\n",
    "# 선형보간법(1차 함수를 그려서 추정)-> 시간의 흐름은 고려하지 않음 \n",
    "time_data.interpolate(method='linear') \n",
    "\n",
    "#시간 기반 -> 시간의 흐름까지 고려하여 채움 \n",
    "time_interp= time_data.interpolate(method='time')\n"
   ]
  },
  {
   "cell_type": "code",
   "execution_count": null,
   "id": "a8b5ae22",
   "metadata": {},
   "outputs": [],
   "source": []
  }
 ],
 "metadata": {
  "kernelspec": {
   "display_name": "3.13.2",
   "language": "python",
   "name": "python3"
  },
  "language_info": {
   "codemirror_mode": {
    "name": "ipython",
    "version": 3
   },
   "file_extension": ".py",
   "mimetype": "text/x-python",
   "name": "python",
   "nbconvert_exporter": "python",
   "pygments_lexer": "ipython3",
   "version": "3.13.2"
  }
 },
 "nbformat": 4,
 "nbformat_minor": 5
}
