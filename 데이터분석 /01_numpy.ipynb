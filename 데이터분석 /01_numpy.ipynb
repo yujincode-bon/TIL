{
 "cells": [
  {
   "cell_type": "markdown",
   "id": "597f8802",
   "metadata": {},
   "source": [
    "    - 데이터 분석:**문제를 정의하고 인사이트 도출**(고객구매패턴  분석+ 의사결정)\n",
    "    - 머신러닝: 데이터를 학습하여 **예측** (분류, 추천 )\n",
    "-데이터 분석: 데이터를 분석하여 의사결정에 도움을 준다.\n",
    "    - 의사결정 데이터 기반의 근거\n",
    "\n",
    "    - 패턴 발견, 예측(머신러닝) \n",
    "\n",
    "    모델링 == 함수\n",
    "- DA Flow(흐름)\n",
    "    1. 문제정의\n",
    "    2. 데이터수집\n",
    "    3. 데이터 정제(결측, 이상치 처리)\n",
    "    4. 데이터탐색 - 시각화 (평균, 분포 , 상관관계, 막대그래프, 히스토그램)\n",
    "    5. 통계 분석 및 해석 (수학 -> 가설 검정, 회귀 분석)\n",
    "    6. 결론도출 \n",
    "- 시트 vs DB vs python\n",
    "    - 시트는 편함. -밀키트\n",
    "    - DB는 대용량 CRUD **저장** (억단위)- 업소용 냉장고 \n",
    "    - 파이썬 시각화, 분석, 머신러닝 - 요리 \n",
    "- 라이브러리 \n",
    "    - 'Numpy': 빠름(수학, 통계, 배열연산이 빠르다.)(파이썬 리스트 vs Numpy 배열 차이점)\n",
    "    - 'pandas': 표(DataFrame) -> 'numpy' 기반으로 만들어짐 \n",
    "    - 'matplotlib; : 시각화(그래프)\n",
    "    - 'seaborn' : 시각화 심화 \n",
    "    - 'scipy' : 고급통계, 수학연산\n",
    "    - 'sckitlearn'; 머신러닝 \n",
    "- 배열과 리스트는 다른개념 리스트가 더 편하고 유연, 느리고 보장되지도 않는다. 배열은 불편하고 고정되지만 빠르고 보장된다\n",
    " -  % pip install numpy 이렇게 해도 프로그램 설치 가능 \n"
   ]
  },
  {
   "cell_type": "markdown",
   "id": "8e921c9d",
   "metadata": {},
   "source": [
    "- 파이썬 리스트와 Numpy 배열의 차이점 \n",
    "numpy 배열은 동일한 자료형만 저장한다. 그리고 벡터화 연산 및 C 기반 구현으로 빠르다. 또한 배열끼리 덧셈/ 곱셈 등 연산이 가능핟. \n",
    "리스트는 내장함수 한정한 기능을 가지고 있다. 범용 프로그래밍에 적합하다. "
   ]
  },
  {
   "cell_type": "code",
   "execution_count": null,
   "id": "5cb8b646",
   "metadata": {},
   "outputs": [],
   "source": [
    "python_list =[1, 2, 3, 4, 5]\n",
    "result = [x*2 for x in python_list]\n",
    "print(result)\n",
    "\n",
    "\n",
    "arr = np.array([1, 2, 3, 4, 5])\n",
    "print(arr, type(arr))\n",
    "print('차원', arr.ndim)\n",
    "print('형태', arr.shape)\n",
    "print('크기', arr.size)\n",
    "\n"
   ]
  },
  {
   "cell_type": "code",
   "execution_count": null,
   "id": "254f1fae",
   "metadata": {},
   "outputs": [],
   "source": [
    "import numpy as np\n",
    "array = np. array([1, 2, 3, 4, 5])\n",
    "result = array * 2\n",
    "print(result)"
   ]
  },
  {
   "cell_type": "code",
   "execution_count": null,
   "id": "263ad4d6",
   "metadata": {},
   "outputs": [],
   "source": [
    "l2d = [\n",
    "    [1, 2, 3],\n",
    "    [4, 5, 6]\n",
    "]\n",
    "arr2d = np.array(l2d) #l2d의 배열을 나타낸다는 뜻 \n",
    "\n",
    "arr2d.shape, arr2d.ndim, arr2d.size, arr2d.dtype\n"
   ]
  },
  {
   "cell_type": "code",
   "execution_count": null,
   "id": "29bf9bef",
   "metadata": {},
   "outputs": [],
   "source": [
    "#실수형 arr\n",
    "np.array([1, 2, 3], dtypr=float)\n",
    "\n",
    "arr2d.dtype"
   ]
  },
  {
   "cell_type": "code",
   "execution_count": null,
   "id": "f6e5fa8c",
   "metadata": {},
   "outputs": [],
   "source": [
    "z1d = np.zeros(5)\n",
    "z2d = np.zeros((2,3))\n",
    "print(z1d, z2d)\n",
    "print()\n",
    "#1로 채워짐\n",
    "o1d =np.ones(5)\n",
    "o2d = np.ones((2,3))\n",
    "#7로 채움 \n",
    "n1d = np.full (5,7)\n",
    "n2d = np. full((2,3),7)\n",
    "print(n2d)\n",
    "#빈칸이지만 먼저 만듦\n",
    "empty = np.empty(3)\n",
    "print (empty)"
   ]
  },
  {
   "cell_type": "code",
   "execution_count": null,
   "id": "fc583dfe",
   "metadata": {},
   "outputs": [],
   "source": [
    "#시퀀스 데이터 # 정렬 방식 변수명 = np.지정어(배열) \n",
    "range_arr =np.arange(0, 10, 2)\n",
    "print(range_arr)\n",
    "#등간격 실수 베얄 \n",
    "lin_space = np.linspace(1,2,5)\n",
    "print (lin_space)\n",
    "#로그 스케일 \n",
    "log_space = np.logspace(0, 2 ,5) #10^0~10^2 5개 요소 \n",
    "print(log_space)"
   ]
  },
  {
   "cell_type": "code",
   "execution_count": null,
   "id": "f744bacc",
   "metadata": {},
   "outputs": [],
   "source": [
    "#난수 배열 \n",
    "\n",
    "#균등분포 난수(0~1)사이를 균등확률 분포 \n",
    "random = np.random.rand(3,3) #0부터 1사이의 실수 \n",
    "print(random)\n",
    "\n",
    "# 정규 분포 난수 \n",
    "normal =np.random.randn(3,3)\n",
    "print(normal)\n",
    "\n",
    "#정수만 난수\n",
    "int_random = np.random.randint(0, 10, (3,3))\n",
    "\n",
    "#시드설정(랜덤재현가능) \n",
    "np.random.seed(42)#랜덤상황 42 고정 위ㄱ의 결과도 모두 변경됨 \n",
    "np.random.rand(3) #시뮬레이팅 할때 사용 \n"
   ]
  },
  {
   "cell_type": "markdown",
   "id": "58c19cc5",
   "metadata": {},
   "source": [
    "### np.random.rand(3,3)\n",
    "[0,1) 사이의 균등 분포 이다 \n",
    "- 모든 수가 동일한 확률로 나온다.  \n",
    "- 표준 정규 분포는 평균이 0이고 표준편차가 1인 정규분포다. 0근처 값이 자주나옴\n",
    "\n",
    "\t•\t랜덤한 확률/비율 → rand()\n",
    "\t•\t통계적/자연현상 모델링 → randn() (정규분포)\n"
   ]
  },
  {
   "cell_type": "code",
   "execution_count": null,
   "id": "75950903",
   "metadata": {},
   "outputs": [],
   "source": [
    "# 배열의 데이터타입 \n",
    "# 데이터 타입 확인\n",
    "arr = np.array([1, 2, 3])\n",
    "print(arr.dtype)\n",
    "\n",
    "#데이터 타입 지정 생성\n",
    "f_arr =np.array([1, 2, 3], dtype = np.float64)\n",
    "print(f_arr.dtype)\n",
    "\n",
    "#데이터 타입 변경 \n",
    "converted = arr.astype(np.float64) \n",
    "print(converted.dtype)\n",
    "\n",
    "#문자열 숫자로 변경하기\n",
    "str_arr = np.array(['1.2', '2.3', '3.4']) \n",
    "num_arr = str_arr.astype(float) #np.floatXX ㅏㄹ고 지정안하고 float 쓰면 64\n",
    "print(num_arr, num_arr.dtype)"
   ]
  },
  {
   "cell_type": "code",
   "execution_count": null,
   "id": "d4973a28",
   "metadata": {},
   "outputs": [],
   "source": [
    "#메모리 사용량\n",
    "print(arr.itemsize) # 8byte 한칸에 8바이트를 차지한다. 정수 \n",
    "print(converted.itemsize) #float32 -> 4byte\n",
    "#총 메모리 사용량 \n",
    "print (arr.nbytes)#8byte *3칸 \n",
    "print(converted.nbytes)\n"
   ]
  },
  {
   "cell_type": "code",
   "execution_count": null,
   "id": "09d013a1",
   "metadata": {},
   "outputs": [],
   "source": [
    "# 배열 재구성 하기 \n",
    "arr = np.arange(12)\n",
    "print(arr)\n",
    "reshaped = arr.reshape(3, 4)\n",
    "print(reshaped)\n",
    "\n",
    "reshaped3d = arr.reshape(2, 2, 3) #2 page, 2row * 3col\n",
    "print(reshaped3d)\n",
    "\n",
    "#자동계산 \n",
    "auto1 = arr.reshape(3,-1) #row 3개 열알아서 \n",
    "auto2 = arr.reshape(-1, 6)#row 알아서 col 6개 \n",
    "\n",
    "print(auto1)\n",
    "print(auto2)\n"
   ]
  },
  {
   "cell_type": "code",
   "execution_count": null,
   "id": "826994fe",
   "metadata": {},
   "outputs": [],
   "source": [
    "\n",
    "\n",
    "# reshape -> 원본 그대로, 새로운 배열 만드\n",
    "# resize  -> 원본을 바꿈\n",
    "\n",
    "arr = np.arange(12)\n",
    "reshaped = arr.reshape(3, 4)  # 새로운 배열 리턴\n",
    "print(reshaped)\n",
    "print(arr)\n",
    "\n",
    "arr.resize(3, 4)  # arr 이 바뀜\n",
    "print(arr)\n",
    "\n"
   ]
  },
  {
   "cell_type": "code",
   "execution_count": null,
   "id": "8d0262be",
   "metadata": {},
   "outputs": [],
   "source": [
    "#N차원 -> 1차원\n",
    "arr = np.array([[1, 2, 3], [4,  5, 6]])\n",
    "r = arr.ravel() #뷰(원본 연결) -> 빨리 펼쳐 보기 \n",
    "f = arr. flatten()# 복사본 -> 안전하게 새로 만들어서 활용 \n",
    "r[0]= 100\n",
    "f[0] = -100\n",
    "print(arr)\n",
    "print(r, f)\n"
   ]
  },
  {
   "cell_type": "code",
   "execution_count": null,
   "id": "3e3bac1b",
   "metadata": {},
   "outputs": [],
   "source": [
    "#전치  -> 행과 열을 교환 \n",
    "arr_2d = np.array([[1,2, 3],[4, 5, 6]])\n",
    "print(arr_2d)\n",
    "arr_2d.transpose(), arr_2d.T"
   ]
  },
  {
   "cell_type": "code",
   "execution_count": null,
   "id": "a8d2c94b",
   "metadata": {},
   "outputs": [],
   "source": [
    "#1~15 정수 배열 \n",
    "print(np.arange(1, 16))\n",
    "#np.array(range(1,16))\n",
    "#0~9까지 홀수 \n",
    "print(np.arange(1,10,2))\n",
    "\n",
    "#0~1까지 균등 6등분 (5구간) 배열\n",
    "print(np.linspace(0, 3, 6))\n",
    "\n"
   ]
  },
  {
   "cell_type": "code",
   "execution_count": null,
   "id": "96188a4a",
   "metadata": {},
   "outputs": [],
   "source": [
    "# 4*4 단위행렬 (identity matrix) 대각선 1 나머지 0\n",
    "print(np.eye(3))\n",
    "#3 * 4 사이즈의 1로 가득찬 int 배\n",
    "np.ones((3, 4),dtype=int)\n",
    "\n",
    "# 2 * 3 * 4사이즈 0~1 난수 배열 \n",
    "np.random.random((2, 3, 4)) #튜플로 차원 지정 --> 오래된 버전에서 주로 씀 \n",
    "np.random.rand(2, 3, 4)#rand와 random 의 차이: size 지정 인자로 차원 지정 -> 최신버전에서 주로씀 "
   ]
  },
  {
   "cell_type": "markdown",
   "id": "4f30f574",
   "metadata": {},
   "source": [
    "## 배열의 인덱싱/ 슬라이싱\n"
   ]
  },
  {
   "cell_type": "code",
   "execution_count": null,
   "id": "b7702653",
   "metadata": {},
   "outputs": [],
   "source": [
    "#넘파이의 인덱싱파트 \n",
    "arr = np.array([ 10, 20, 30, 40, 50])\n",
    "\n",
    "print(arr)\n",
    "arr[0]\n",
    "arr.half\n",
    "#배열은 사이즈를 늘리거나 줄이는 것이 불가능하여 새로만들어야한다."
   ]
  },
  {
   "cell_type": "code",
   "execution_count": null,
   "id": "4629a261",
   "metadata": {},
   "outputs": [],
   "source": [
    "arr_2d = np.array(range(1, 10)).reshape(3,3)\n",
    "arr_2d\n",
    "\n",
    "arr_2d[0, 0] #numpy 에서만 지원 arr_2d[0][0]\n",
    "arr_2d[1, 1]\n",
    "\n",
    "arr_2d[1] # 행 접근 \n",
    "#변경 \n",
    "arr_2d[0,0] =100\n",
    "arr_2d\n"
   ]
  },
  {
   "cell_type": "code",
   "execution_count": null,
   "id": "1130d102",
   "metadata": {},
   "outputs": [],
   "source": [
    "#슬라이싱 \n",
    "arr = np.arange(10)\n",
    "print(\n",
    "    arr[2:5],\n",
    "    arr[:5],\n",
    "    arr[5:]\n",
    ")\n",
    "print(\n",
    "    arr[1:8:2],\n",
    "    arr[::2]\n",
    ")\n",
    "print(\n",
    "    arr[::-1],\n",
    "    arr[7:2:-1]\n",
    ")\n",
    "#슬라이싱으로 일괄 변경 파이썬에선 없음.\n",
    "arr[3:6] = 100\n",
    "print(arr)"
   ]
  },
  {
   "cell_type": "code",
   "execution_count": null,
   "id": "f3ae21b7",
   "metadata": {},
   "outputs": [],
   "source": [
    "#다차원슬라이싱\n",
    "\n",
    "array_2d =np.arange(1,13).reshape(3, -1)##\n",
    "array_2d \n",
    "\n",
    "#row(행 )슬라이싱 ->  idx1 0,1행\n",
    "print(arr_2d[0:2])\n",
    "\n",
    "#열 슬라이싱 \n",
    "print(arr_2d[:, 1:3])##->모든 행의 idx1, 2 열을 가져온 것 \n",
    "# 1,2 행/0,1 열 \n",
    "print(arr_2d[1:3, 0:2])\n",
    "#간격지정 -> 행 열모두 2간격 \n",
    "print(arr_2d[::2, ::2])"
   ]
  },
  {
   "cell_type": "code",
   "execution_count": null,
   "id": "ade0ed93",
   "metadata": {},
   "outputs": [],
   "source": [
    "#다차원 배열 슬라이싱으로 변경 \n",
    "#부분배열 일괄변경 \n",
    "arr_2d[0:2, 0:2] =0\n",
    "print(arr_2d)\n",
    "\n",
    "# 열 교체(모든행, idx 3열) ->벡터->교체->원 본의 열이 바뀜\n",
    "arr_2d[:, 3] = [100, 200, 300] #슬라이싱을 했는데 원본과 연결되어 교체가 가능한 것이 신기하다 열교체!! "
   ]
  },
  {
   "cell_type": "code",
   "execution_count": null,
   "id": "2752d4a3",
   "metadata": {},
   "outputs": [],
   "source": [
    "#boolean인덱싱( 조건에 따라 배열 요소 선택 -필터링)/44\n",
    "\n",
    "arr = np.arange(1,6)\n",
    "arr\n",
    "#마스킹 (T/F)로 바꿈 \n",
    "mask = arr > 3\n",
    "print(mask,arr)\n",
    "\n",
    "# 마스킹 배열로 필터링 \n",
    "print(arr[mask])\n",
    "\n",
    "#직접 조건 \n",
    "print (arr[arr>3])\n",
    "\n",
    "# 다중 조건 \n",
    "print(arr [ (arr>2) & (arr<5)]) #and\n",
    "print(arr [ (arr==1) | (arr>3)]) #OR 연산 "
   ]
  },
  {
   "cell_type": "code",
   "execution_count": null,
   "id": "5925dee5",
   "metadata": {},
   "outputs": [],
   "source": [
    "# 2 차원 배열 불리언 인덱싱 \n",
    "arr_2d = np.arange(1, 10).reshape(3 ,3)\n",
    "\n",
    "mask = arr_2d > 5 \n",
    "print(arr_2d[])\n",
    "print(arr_2d[arr_2d > 5 ]) #원본 매트릴스 형태 없음 True 로 필터링 된 애들만 벡터로 나오고 있음 \n",
    "\n",
    "#조건에 맞는 행만 선택\n",
    "arr_2d [:, 0:3:2] #모든 행에 대해서 0이랑 2에 해당하는 열만 선택 \n",
    "row_mask = np.array([True, False, True])\n",
    "print(arr_2d[row_mask]) #row T, F, T -> 0, 2 row 만 뽑음 ###### 이해안됨\n"
   ]
  },
  {
   "cell_type": "code",
   "execution_count": null,
   "id": "4c0392e7",
   "metadata": {},
   "outputs": [],
   "source": [
    "#Fancy 인덱싱 \n",
    "arr = np.arange(10 , 60, 10)\n",
    "arr[1]\n",
    "print(arr)\n",
    "# arr[1, 2] -> arr[1][2]\n",
    "print(arr[[1, 2]]) #arr[1], arr[2]를 뽑아라\n",
    "print(arr[[0, 2, 3]])\n",
    "\n",
    "print(arr[[0,0,1,1,2]]) \n",
    "print(arr[[4, 3, 4, 1, 0]])\n",
    " # 각 인덱스를 다가져옴   ##이해 잘 안됨 ㅜㅜㅠㅠㅠㅠㅠ\n",
    "\n"
   ]
  },
  {
   "cell_type": "code",
   "execution_count": null,
   "id": "cd08358b",
   "metadata": {},
   "outputs": [],
   "source": [
    "arr_2d = np.arange(1, 10).reshape(3 ,3)\n",
    "print(arr_2d)\n",
    "\n",
    "arr_2d [0]#\n",
    "#특정 행만 선택 \n",
    "print(arr_2d[ [0]]) # row 0,2  구냥 0이랑 2 갖고와\n",
    "print()\n",
    "#행과 열 동시에 선택 \n",
    "print(\n",
    "    arr_2d[ #(0,0), (1, 2),(2,1) 순서로 벡터 만듦 \n",
    "        [0, 1, 2],\n",
    "        [0, 2, 1]\n",
    "    ]\n",
    ")\n",
    "\n",
    "#행렬의 특정 열을 순서 바꾸기 \n",
    "print(\n",
    "    arr_2d[\n",
    "        :, # 모든 행 \n",
    "        [2,0,1] #열 idx 를 이렇게 바꿔라\n",
    "    ]\n",
    ")"
   ]
  },
  {
   "cell_type": "code",
   "execution_count": null,
   "id": "f35f8dcb",
   "metadata": {},
   "outputs": [],
   "source": [
    "# 10부터 20까지의 정수 배열 생성\n",
    "arr = np.arange(10, 21)\n",
    "print('원본', arr)\n",
    "# 문제1: 배열의 첫 번째, 세 번째, 마지막 요소 출력\n",
    "print (arr[0], arr[2], arr[-1])\n",
    "# 문제2: 인덱스 2부터 5까지 요소 출력\n",
    "print(arr[1:6])\n",
    "# 문제3: 처음부터 5번째 요소까지 모든 짝수 인덱스 요소 출력\n",
    "print(arr[0:5])\n",
    "# 문제4: 배열의 요소를 역순으로 출력\n",
    "print(arr[::-1])"
   ]
  },
  {
   "cell_type": "code",
   "execution_count": null,
   "id": "01801887",
   "metadata": {},
   "outputs": [],
   "source": [
    "# 3 * 4 matrix\n",
    "matrix = np.arange(12).reshape(3, 4)\n",
    "print( matrix)\n",
    "\n",
    "# 문제1: (1,2) 위치의 요소 출력\n",
    "print(matrix[1,2])\n",
    "\n",
    "# 문제2: 두 번째 행 전체 출력\n",
    "print(matrix[1])\n",
    "\n",
    "# 문제3: 마지막 열 전체 출력\n",
    "print(matrix[-1])\n",
    "# 문제4: 첫 번째와 세 번째 행의 두 번째와 네 번째 열 요소만 추출\n",
    "print(matrix[[0,2,:],[1,3, :]])\n",
    "\n",
    "print matrix[\n",
    "    \n",
    "     [(0,2),:],[:,(1,3)]\n",
    "matrix[np.ix_]\n",
    "    \n",
    "]"
   ]
  },
  {
   "cell_type": "code",
   "execution_count": null,
   "id": "e71bb5a9",
   "metadata": {},
   "outputs": [],
   "source": [
    "arr = np.arange(1, 21)\n",
    "print('원본', arr)\n",
    "\n",
    "# 문제1: 5의 배수만 선택하여 출력\n",
    "\n",
    "# 문제2: 3보다 크고 15보다 작은 요소 선택\n",
    "\n",
    "# 문제3: 7의 배수이거나 홀수인 요소 선택\n",
    "matrix = np.arange(1, 21).reshape(5, 4)\n",
    "print('원본', matrix)\n",
    "\n",
    "# 문제4: 10보다 큰 요소만 100으로 변경(슬라이싱/불리언 인데싱 -> 뷰생성 )원본데이터 연결))\n",
    "matrix"
   ]
  },
  {
   "cell_type": "code",
   "execution_count": null,
   "id": "73bea9fc",
   "metadata": {},
   "outputs": [],
   "source": [
    "## 선형대수 연산 \n",
    "a = np.array([1, 2, 3,4 ])\n",
    "b = np.array([5, 6, 7, 8])\n",
    "\n",
    "print(a+b)\n",
    "print(a-b)\n",
    "print(a*b )\n",
    "print(a/b)\n",
    "print(a**2)\n",
    "print(a**b)\n"
   ]
  },
  {
   "cell_type": "code",
   "execution_count": null,
   "id": "5a287a90",
   "metadata": {},
   "outputs": [],
   "source": [
    "a = np.array([True, False, True, False ])\n",
    "b = np.array([False, True, True, False])\n",
    "\n",
    "#논리연산 \n",
    "#AND\n",
    "print(a&b)\n",
    "#OR\n",
    "print(a|b)\n",
    "print(~a) #실제와 반대로 적으라는 의미\n"
   ]
  },
  {
   "cell_type": "markdown",
   "id": "323e176c",
   "metadata": {},
   "source": [
    "## 배열<-> 스칼라(단일값) 연산\n",
    ">Broadcastinf(스칼라가 배열 크기에 맞게 확장)"
   ]
  },
  {
   "cell_type": "code",
   "execution_count": null,
   "id": "69da2942",
   "metadata": {},
   "outputs": [],
   "source": [
    "a = np.array([1, 2, 3, 4])\n",
    "b = np.array([5, 6, 7, 8])\n",
    "\n",
    "print(a + b)\n",
    "print(a - b)\n",
    "print(a * b)\n",
    "print(a / b)\n",
    "\n",
    "print(a ** 2)\n",
    "print(a ** b)\n",
    "\n",
    "a = np.array([True, False, True, False])\n",
    "b = np.array([False, True, True, False])\n",
    "\n",
    "# 논리연산\n",
    "# AND\n",
    "print(a & b)\n",
    "# OR\n",
    "print(a | b)\n",
    "# NOT\n",
    "print(~a)\n",
    "\n",
    "# 배열 생성\n",
    "arr = np.array([1, 2, 3, 4, 5])\n",
    "\n",
    "# 스칼라 덧셈\n",
    "print(arr + 10)     # [11 12 13 14 15]\n",
    "\n",
    "# 스칼라 뺄셈\n",
    "print(arr - 1)      # [0 1 2 3 4]\n",
    "\n",
    "# 스칼라 곱셈\n",
    "print(arr * 2)      # [2 4 6 8 10]\n",
    "\n",
    "# 스칼라 나눗셈\n",
    "print(arr / 2)      # [0.5 1.  1.5 2.  2.5]\n",
    "\n",
    "# 스칼라 거듭제곱\n",
    "print(arr ** 2)     # [ 1  4  9 16 25]\n",
    "# 스칼라 비교(불리언 배열)\n",
    "print(arr > 3)      # [False False False  True  True]\n",
    "print(arr == 2)     # [False  True False False False]\n",
    "\n",
    "\n",
    "\n",
    "\n",
    "\n",
    "\n",
    "\n",
    "\n",
    "\n"
   ]
  },
  {
   "cell_type": "markdown",
   "id": "0fb82452",
   "metadata": {},
   "source": [
    "### 매트릭스(2d)<->스칼라(단일값)연산 "
   ]
  },
  {
   "cell_type": "code",
   "execution_count": null,
   "id": "72cbfd6d",
   "metadata": {},
   "outputs": [],
   "source": [
    "# 2차원 배열\n",
    "arr_2d = np.array([[1, 2, 3], [4, 5, 6]])\n",
    "\n",
    "# 스칼라 연산\n",
    "print(arr_2d + 10)\n",
    "# [[11 12 13]\n",
    "#  [14 15 16]]\n",
    "\n",
    "print(arr_2d * 3)\n",
    "# [[ 3  6  9]\n",
    "#  [12 15 18]]"
   ]
  },
  {
   "cell_type": "markdown",
   "id": "53a082ae",
   "metadata": {},
   "source": [
    "## 매트릭스(행렬) <-> 벡터 (1줄) 연산 "
   ]
  },
  {
   "cell_type": "code",
   "execution_count": null,
   "id": "f7f93dbc",
   "metadata": {},
   "outputs": [],
   "source": [
    "\n",
    "matrix = np.array([[1, 2, 3], [4, 5, 6]])\n",
    "vector = np.array([10, 20, 30])\n",
    "\n",
    "# 행렬 + 행 벡터\n",
    "print(matrix + vector)\n",
    "\n",
    "# 열 벡터 브로드캐스팅\n",
    "col_vec = np.array(\n",
    "    [\n",
    "        [100], #열을 의미하고 있음 매트릭스아니고 열을 나타내기 위한 벡터임 \n",
    "        [200]\n",
    "    ]\n",
    ")\n",
    "print(matrix + col_vec)\n",
    "\n"
   ]
  },
  {
   "cell_type": "code",
   "execution_count": null,
   "id": "d28a7c5d",
   "metadata": {},
   "outputs": [],
   "source": [
    "matrix = np.array([[1, 2, 3], [4, 5, 6]])\n",
    "vector = np.array([10, 20, 30])\n",
    "print('Matrix shape', matrix.shape)\n",
    "print('Matrix shape', vector.shape)\n",
    "#1. vextor(3,)가 앞에 1이 추가됨 --> Matrix (1,3)으로 변함.  \n",
    "#2. 더해야하는 matrix(2,3)이랑 줄수가 같을 때 까지 row 복사함 \n",
    "print('Matrix + Vectoer')\n",
    "print(matrix + vector)\n"
   ]
  },
  {
   "cell_type": "code",
   "execution_count": null,
   "id": "e8d9c182",
   "metadata": {},
   "outputs": [],
   "source": [
    "# 브로드 캐스팅 가능한 경우 \n",
    "\n",
    "A = np.ones((3, 2))       # 3x2 배열\n",
    "B = np.ones((2,))         # 길이 2인 1차원 배열 (1x2로 해석) (행벡터)\n",
    "C = np.ones((3, 1))       # 3x1 배열 (사실상 열벡터)\n",
    "\n",
    "print(\"A + B 형태:\", (A + B).shape)  # (3, 2) - B는 각 행에 브로드캐스팅\n",
    "print(A + B)\n",
    "\n",
    "\n",
    "print(\"A + C 형태:\", (A + C).shape)  # (3, 2) - C는 각 열에 브로드캐스팅\n",
    "print(A + C)"
   ]
  },
  {
   "cell_type": "code",
   "execution_count": null,
   "id": "c58c6463",
   "metadata": {},
   "outputs": [],
   "source": [
    "matrix = np.arange(1, 21).reshape(5, 4)\n",
    "print('원본', matrix)\n",
    "\n"
   ]
  },
  {
   "cell_type": "code",
   "execution_count": null,
   "id": "86c3b094",
   "metadata": {},
   "outputs": [],
   "source": [
    "#연산 중 데이터 자동 변환\n",
    "int_arr =np.array([1, 2, 3])\n",
    "float_arr = np.array([1.5, 2.5, 3.5])\n",
    "\n",
    "#int + float =flaot\n",
    "print(int_arr + float_arr)\n",
    "#int/int= float \n",
    "print(int_arr/2)\n",
    "print(int_arr //2)"
   ]
  },
  {
   "cell_type": "code",
   "execution_count": null,
   "id": "7842706d",
   "metadata": {},
   "outputs": [],
   "source": [
    "arr1 = np.array([8, 12, 6, 10])\n",
    "arr2 = np.array ([3, 4, 1, 20])\n",
    "\n",
    "print(arr1 ** 2)\n",
    "print(arr1 ** 0.5, np.sqrt(arr1)) # 같은 결과 \n",
    "#각 자리마다 최대값만 모음\n",
    "print(np.maximum(arr1,arr2))\n",
    "# aee1+arr2 의 모든 자리수를 더한 총합 \n",
    "print(np.sum(arr1 + arr2))"
   ]
  },
  {
   "cell_type": "code",
   "execution_count": null,
   "id": "9007ec60",
   "metadata": {},
   "outputs": [],
   "source": [
    "# 테스트 배열\n",
    "x = np.array([0, np.pi/4, np.pi/2, np.pi])\n",
    "y = np.array([1, 2, 3, 4])\n",
    "\n",
    "# 삼각함수\n",
    "print(\"sin(x) =\", np.sin(x))  # [0., 0.70710678, 1., 0.]\n",
    "print(\"cos(x) =\", np.cos(x))  # [1., 0.70710678, 0., -1.]\n",
    "print(\"tan(x) =\", np.tan(x))  # [0., 1., 16331239353195370., 0.]\n",
    "\n",
    "# 역삼각함수\n",
    "print(\"arcsin(sin(x)) =\", np.arcsin(np.sin(x)))\n",
    "\n",
    "# 지수와 로그\n",
    "#자연상수 e^1, e^2,e^3\n",
    "print(\"exp(y) =\", np.exp(y))  # [2.71828183, 7.3890561, 20.08553692, 54.59815003]\n",
    "#자연 상수 log e \n",
    "print(\"log(y) =\", np.log(y))  # [0., 0.69314718, 1.09861229, 1.38629436]\n",
    "print(\"log10(y) =\", np.log10(y))  # [0., 0.30103, 0.47712125, 0.60205999]\n",
    "print(\"log2(y) =\", np.log2(y))  # [0., 1., 1.58496250, 2.]\n",
    "\n",
    "# 제곱근과 거듭제곱\n",
    "print(\"sqrt(y) =\", np.sqrt(y))  # [1., 1.41421356, 1.73205081, 2.]\n",
    "print(\"power(y, 2) =\", np.power(y, 2))  # [1, 4, 9, 16]\n",
    "\n",
    "# 절대값과 부호\n",
    "z = np.array([-2, -1, 0, 1, 2])\n",
    "print(\"abs(z) =\", np.abs(z))  # [2 1 0 1 2]\n",
    "print(\"sign(z) =\", np.sign(z))  # [-1 -1  0  1  1]\n",
    "\n",
    "# 소수점 처리\n",
    "w = np.array([1.2, 2.7, 3.5, 4.9])\n",
    "print(\"floor(w) =\", np.floor(w))  # [1. 2. 3. 4.] (내림)\n",
    "print(\"ceil(w) =\", np.ceil(w))   # [2. 3. 4. 5.] (올림)\n",
    "print(\"round(w) =\", np.round(w))  # [1. 3. 4. 5.] (반올림)\n",
    "print(\"trunc(w) =\", np.trunc(w))  # [1. 2. 3. 4.] (소수점 버림)\n",
    "\n",
    "\n",
    "##포아송 분포 공부 (통계학)\n",
    "\n"
   ]
  },
  {
   "cell_type": "code",
   "execution_count": null,
   "id": "d1dc75b6",
   "metadata": {},
   "outputs": [],
   "source": [
    "arr = np.array([[1, 2, 3], [4, 5, 6], [7, 8, 9]])\n",
    "\n",
    "# 기본 집계\n",
    "print(\"합계:\", np.sum(arr))          # 45\n",
    "print(\"평균:\", np.mean(arr))         # 5.0\n",
    "print(\"최소값:\", np.min(arr))        # 1\n",
    "print(\"최대값:\", np.max(arr))        # 9\n",
    "print(\"표준편차:\", np.std(arr))      # 2.581988897471611\n",
    "print(\"분산:\", np.var(arr))          # 6.666666666666667"
   ]
  },
  {
   "cell_type": "code",
   "execution_count": null,
   "id": "0751b682",
   "metadata": {},
   "outputs": [],
   "source": [
    " \n",
    "# 축을 따라 집계\n",
    "print(\"행별 합계:\", np.sum(arr, axis=1))  # [ 6 15 24]\n",
    "print(\"열별 합계:\", np.sum(arr, axis=0))  # [12 15 18]\n",
    "print(\"행별 평균:\", np.mean(arr, axis=1))  # [2. 5. 8.]\n",
    "print(\"열별 평균:\", np.mean(arr, axis=0))  # [4. 5. 6.]\n",
    "print(\"행별 최소값:\", np.min(arr, axis=1))  # [1 4 7]\n",
    "print(\"열별 최소값:\", np.min(arr, axis=0))  # [1 2 3]\n"
   ]
  },
  {
   "cell_type": "code",
   "execution_count": null,
   "id": "a159e358",
   "metadata": {},
   "outputs": [],
   "source": [
    "# 누적 합계 (cumulative sum)\n",
    "print(\"누적 합계:\", np.cumsum(arr))  # [ 1  3  6 10 15 21 28 36 45]\n",
    "print(\"행별 누적 합계:\")\n",
    "print(np.cumsum(arr, axis=1))\n",
    "# [[ 1  3  6]\n",
    "#  [ 4  9 15]\n",
    "#  [ 7 15 24]]\n",
    "\n",
    "# 누적 곱 (cumulative product)\n",
    "print(\"누적 곱:\", np.cumprod(arr))  # [1 2 6 24 120 720 5040 40320 362880]\n",
    "\n",
    "# 중앙값 (median)\n",
    "print(\"중앙값:\", np.median(arr))        # 5.0\n",
    "print(\"행별 중앙값:\", np.median(arr, axis=1))  # [2. 5. 8.]\n",
    "print(\"열별 중앙값:\", np.median(arr, axis=0))  # [4. 5. 6.]\n",
    "\n",
    "# 백분위수 (percentile)\n",
    "print(\"25% 백분위수:\", np.percentile(arr, 25))  # 3.0\n",
    "print(\"50% 백분위수:\", np.percentile(arr, 50))  # 5.0 (중앙값과 동일)\n",
    "print(\"75% 백분위수:\", np.percentile(arr, 75))  # 7.0\n",
    "\n",
    "# 가중 평균 (weighted average)\n",
    "weights = np.array([0.1, 0.3, 0.6])  # 가중치\n",
    "data = np.array([2, 5, 8])\n",
    "print(\"가중 평균:\", np.average(data, weights=weights))  # 6.5\n"
   ]
  },
  {
   "cell_type": "code",
   "execution_count": null,
   "id": "7920e38e",
   "metadata": {},
   "outputs": [],
   "source": [
    "# 샘플 배열\n",
    "arr = np.arange(12)  # [ 0  1  2  3  4  5  6  7  8  9 10 11]\n",
    "\n",
    "# 균등 분할\n",
    "print(\"3개로 균등 분할:\")\n",
    "print(np.split(arr, 3))  # [array([0, 1, 2, 3]), array([4, 5, 6, 7]), array([ 8,  9, 10, 11])]\n",
    "\n",
    "# 위치 지정 분할\n",
    "print(\"위치 지정 분할 (인덱스 3, 8 기준):\")\n",
    "print(np.split(arr, [3, 8]))  # [array([0, 1, 2]), array([3, 4, 5, 6, 7]), array([ 8,  9, 10, 11])]\n",
    "\n",
    "# 2차원 배열 분할\n",
    "arr_2d = np.arange(16).reshape(4, 4)\n",
    "print(\"2차원 배열:\")\n",
    "print(arr_2d)\n",
    "\n",
    "# 행 방향 분할\n",
    "print(\"행 방향 분할:\")\n",
    "print(np.split(arr_2d, 2, axis=0))  # 2개 배열로 (각 2x4)\n",
    "print(np.vsplit(arr_2d, 2))  # 동일한 결과\n",
    "\n",
    "# 열 방향 분할\n",
    "print(\"열 방향 분할:\")\n",
    "print(np.split(arr_2d, 2, axis=1))  # 2개 배열로 (각 4x2)\n",
    "print(np.hsplit(arr_2d, 2))  # 동일한 결과"
   ]
  },
  {
   "cell_type": "code",
   "execution_count": null,
   "id": "8bce134a",
   "metadata": {},
   "outputs": [],
   "source": [
    "import numpy as np"
   ]
  },
  {
   "cell_type": "code",
   "execution_count": null,
   "id": "1a95dc6c",
   "metadata": {},
   "outputs": [],
   "source": [
    "#1차원 배열 결합 \n",
    "arr1 = np.array([1,2,3])\n",
    "arr2 = np.array([4,5,6])\n",
    "result = np.concat((arr1,arr2)) #각자 따로 넣으면 에러나서 튜플이나 리스트로 묶어서 넣어야한다. \n",
    "print (result)"
   ]
  },
  {
   "cell_type": "code",
   "execution_count": null,
   "id": "9c346c7e",
   "metadata": {},
   "outputs": [],
   "source": [
    "#2차원 배열 결합 \n",
    "arr2d1 =np. array([[1,2],[3,4]])\n",
    "arr2d2 =np. array([[5,6],[7,8]])\n",
    "result2 = np.concat((arr2d1, arr2d2),axis =0)\n",
    "print(resuilt)\n",
    "result \n",
    "resslut4= np.concat \n",
    "\n",
    "result3 = np.concat((arr2d1m arr2d2))\n",
    "result4 dstack _> 겹쳐서 텐서로 만든다 \n",
    "매트릭스두개를 겹쳐서 텐서로 만든다  ##다시피기 \n",
    "\n",
    "\n",
    "\n",
    "\n",
    "\n",
    "resilt4 - np.oncat((arr2f2arr2f2,acs= 2 ))"
   ]
  },
  {
   "cell_type": "code",
   "execution_count": null,
   "id": "5f69b787",
   "metadata": {},
   "outputs": [],
   "source": [
    "#벡터를 차원확장 (행이냐 열이냐)\n",
    "arr = np.array([1, 2, 3, 4])\n",
    "print(arr)\n",
    "\n",
    "#row vector -> [[1,2,3,4]]\n",
    "row_vector = np.expend_dims(arr, axis=0)\n",
    "print(row_vector)\n",
    "row_vector2 = arr[np.newaxis, :]\n",
    "print(row_vector2)\n",
    "\n",
    "#col vector -> [[1],[2],[3],[4]]\n",
    "col_vector = np.expend_dims(arr, axis = 1)\n",
    "print(col_vector)\n"
   ]
  },
  {
   "cell_type": "code",
   "execution_count": null,
   "id": "bf3582f7",
   "metadata": {},
   "outputs": [],
   "source": [
    "# 차원 축소 \n",
    "arr = np.array([ [ [1], [2], [3] ]])\n",
    "print(arr, arr.shape)\n",
    "\n",
    "# 모든 단일차원(shape에서 1나온 것들 제거)\n",
    "print(np.squeeze(arr)) #[1,2,3]\n",
    "\n",
    "#특정 축만 제거\n",
    "arr2 =np.array([[[1, 2, 3]]])\n",
    "print(arr2, arr2.shape) #1 1 3\n",
    "print(np.squeeze(arr2, axis=1)) #1 3 "
   ]
  },
  {
   "cell_type": "markdown",
   "id": "9af85c1a",
   "metadata": {},
   "source": [
    "# axis \n",
    "0은 행방향 1은 열방향 상하:0 좌우:1 "
   ]
  },
  {
   "cell_type": "code",
   "execution_count": null,
   "id": "eea116c1",
   "metadata": {},
   "outputs": [],
   "source": [
    "## 자습 문제 \n",
    "# 학급별 시험 점수 (5개 학급, 각 10명의 학생)\n",
    "scores = np.random.randint(50, 101, size=(5, 10))  # 50~100 사이 점수\n",
    "print(\"학급별 점수:\")\n",
    "print(scores)\n",
    "\n",
    "# 문제1: 전체 평균과 표준편차\n",
    "average = np. mean(scores)\n",
    "std_dev = np.std(scores)\n",
    "print(average)\n",
    "print(std_dev) \n",
    "\n",
    "# 문제2: 학급별 최고점과 최저점\n",
    "max1 = np.max(scores)\n",
    "min1 = np.min(scores)\n",
    "print(max1)\n",
    "print(min1)\n",
    "\n",
    "# 문제3: 전체 학생 중 상위 25%와 하위 25% 컷오프 점수\n",
    "\n",
    "#1차원으로 변환 (전체 학셍 점수)\n",
    "flat_scores = scores.flatten()\n",
    "lower_cutoff = np.percentile(flat_scores, 25)\n",
    "upper_cutoff = np.percentile(flat_scores, 75)\n",
    "print(lower_cutoff,upper_cutoff)\n",
    "\n",
    "# 문제4: 학급별 평균이 가장 높은/낮은 학급 찾기 \n",
    "#1. 학급별 평균 계산 (행별 평균)\n",
    "class_means = np.mean(scores, axis =1)\n",
    "print(class_means)\n",
    "#2. 평균이 가장 높은 학급 \n",
    "highest_idx  ##내일 다시 풀어보기 \n"
   ]
  },
  {
   "cell_type": "code",
   "execution_count": null,
   "id": "6c5e9156",
   "metadata": {},
   "outputs": [],
   "source": [
    "#"
   ]
  },
  {
   "cell_type": "markdown",
   "id": "0ec1fc3b",
   "metadata": {},
   "source": [
    "## 복습주제\n",
    "1. numpy와 list의 차이 \n",
    "    - numpy: 빠르지만 값이 고정되어있음.연산이 가능함.\n",
    "    - list : 내장함수 계산만 가능함. \n",
    "2.  "
   ]
  },
  {
   "cell_type": "markdown",
   "id": "bfa843a8",
   "metadata": {},
   "source": [
    "## 유틸리티 함수\n"
   ]
  },
  {
   "cell_type": "markdown",
   "id": "5ab9084b",
   "metadata": {},
   "source": [
    "# where"
   ]
  },
  {
   "cell_type": "code",
   "execution_count": null,
   "id": "96a705e3",
   "metadata": {},
   "outputs": [],
   "source": [
    "# where \n",
    "arr =np.arange(10)\\\n",
    "#단순 필터링 (짝수)\n",
    "print(np.where(arr % 2 == 0)) \n",
    "#값을 바꿀 수 있다\n",
    "print(np.where(arr % 2== 0, '짝수', '홀수'))\n",
    "\n",
    "arr2d = np.random.randint(0,10,(3,3))\n",
    "print(arr2d)\n",
    "print(np.where)\n",
    "\n",
    "# 5보다 큰 값들은 *2 아니면 그대로 \n",
    "np.where(arr2d > 5, arr2d *2 , arr2d)\n",
    "\n",
    "arr2d [arr2d > 5]\n"
   ]
  },
  {
   "cell_type": "code",
   "execution_count": null,
   "id": "e07f9e02",
   "metadata": {},
   "outputs": [],
   "source": [
    "#argmax, argmin\n",
    "#벡터에서 최대/최소 위치 \n",
    "arr = np.array([3, 5, 1, 0, 4])\n",
    "max_idx = np.argmax(arr)\n",
    "min_idx = np.argmin(arr)\n",
    "\n",
    "print(max_idx,min_idx)\n",
    "\n",
    "#매트릭스에서 최대/최소 \n",
    "np.random.seed(23)\n",
    "arr2d = np.random.randint(0,10,(3,3))\n",
    "print(arr2d) \n",
    "\n",
    "#각 열에서 최소값의 idx\n",
    "col_min= np.argmax(arr2d, axis = 1)\n",
    "print(col_min)"
   ]
  },
  {
   "cell_type": "code",
   "execution_count": null,
   "id": "f3b2837d",
   "metadata": {},
   "outputs": [],
   "source": [
    "# unoque 고유값 찾기 \n",
    "arr = np.array([1,2,3,4,5,4,5,1,4,2,6,4])\n",
    "unique_values = np. unique(arr)\n",
    "print(unique_values)\n",
    "values,count np.unique(arr,return_coints =True)\n",
    "print(valus)\n",
    "print(count)\n",
    "\n",
    "#값들 개수->dict\n",
    "freq_dict = dict(zip(values,count))\n",
    "print(freq_dict)\n",
    "\n"
   ]
  },
  {
   "cell_type": "code",
   "execution_count": null,
   "id": "6e229d19",
   "metadata": {},
   "outputs": [],
   "source": [
    "#r가장 많이 등장하는 숫자 찾기\n",
    "np.argmax(count)\n",
    "idx = np,argmax(count)\n",
    "print()"
   ]
  },
  {
   "cell_type": "code",
   "execution_count": null,
   "id": "440e08dd",
   "metadata": {},
   "outputs": [],
   "source": [
    "#sort, argsort \n",
    "arr =np.array([3,5,1,0,4,2,7])\n",
    "#오름차순 정렬 ASC\n",
    "print(np.sort(arr))\n",
    "#내림차수ㄴ정렬 DESC\n",
    "print(np.sort)\n",
    "\n"
   ]
  },
  {
   "cell_type": "code",
   "execution_count": null,
   "id": "ab4968a9",
   "metadata": {},
   "outputs": [],
   "source": [
    "# 가상의 학생 시험 점수 데이터\n",
    "math_scores = np.array([85, 90, 75, 95, 70, 80, 65, 75, 90, 85])\n",
    "science_scores = np.array([90, 85, 80, 95, 70, 75, 65, 80, 85, 90])\n",
    "english_scores = np.array([80, 85, 90, 80, 75, 90, 70, 75, 85, 95])\n",
    "\n",
    "subjects = ['수학', '과학', '영어']\n",
    "scores = np.vstack((math_scores, science_scores, english_scores))"
   ]
  },
  {
   "cell_type": "code",
   "execution_count": null,
   "id": "2167aad3",
   "metadata": {},
   "outputs": [],
   "source": [
    "# 기본 통계 (과목별 평균, 중앙값, *표준편차*, 최소, 최대)\n",
    "arr1 = np.mean(scores, axis = 0)\n",
    "arr2 = np.median(scores,axis=0)\n",
    "arr3 = np.std(scores, axis = 0)\n",
    "arr4 = np.min(scores, axis =0)\n",
    "arr5 = np.max(scores, axis=0)"
   ]
  },
  {
   "cell_type": "markdown",
   "id": "e952b76e",
   "metadata": {},
   "source": [
    "- 총점 기준 상위 3명 학생의 정보  \n",
    "    1. scores에 존재하는 각 값들을 열별로 (axis =1) 합해서 총합을 구한다. \n",
    "    2. 총합변수를 만들고 총합을 내림차순으로 정렬한다.()\n",
    "    3. 총합에서 0~2까지의 인덱스만 출력한다.  \n",
    "-  | 학생번호(idx) | 수학 | 과학 | 영어 | 총점 |\n",
    "     1. argmax 를 활용해서 학생인덱스만 출력하고 '학생번호' 변수에 저장한다. \n",
    "     2. subject를 | 로 나누어 나타내고 \n",
    "\n"
   ]
  },
  {
   "cell_type": "code",
   "execution_count": null,
   "id": "efa99166",
   "metadata": {},
   "outputs": [
    {
     "ename": "AttributeError",
     "evalue": "module 'numpy' has no attribute 'sorted'",
     "output_type": "error",
     "traceback": [
      "\u001b[31m---------------------------------------------------------------------------\u001b[39m",
      "\u001b[31mAttributeError\u001b[39m                            Traceback (most recent call last)",
      "\u001b[36mCell\u001b[39m\u001b[36m \u001b[39m\u001b[32mIn[33]\u001b[39m\u001b[32m, line 3\u001b[39m\n\u001b[32m      1\u001b[39m \u001b[38;5;66;03m## 총점 기준 상위 3명 학생의 정보 \u001b[39;00m\n\u001b[32m      2\u001b[39m totals = np.sum(scores, axis = \u001b[32m0\u001b[39m)\n\u001b[32m----> \u001b[39m\u001b[32m3\u001b[39m top3_idx = \u001b[43mnp\u001b[49m\u001b[43m.\u001b[49m\u001b[43msorted\u001b[49m(totals)[:\u001b[32m3\u001b[39m]\n\u001b[32m      4\u001b[39m top3_scores = scores[:, top3_idx]\n\u001b[32m      5\u001b[39m top3_totals= total[top3_idx]\n",
      "\u001b[36mFile \u001b[39m\u001b[32m~/.pyenv/versions/3.13.2/lib/python3.13/site-packages/numpy/__init__.py:795\u001b[39m, in \u001b[36m__getattr__\u001b[39m\u001b[34m(attr)\u001b[39m\n\u001b[32m    792\u001b[39m     \u001b[38;5;28;01mimport\u001b[39;00m\u001b[38;5;250m \u001b[39m\u001b[34;01mnumpy\u001b[39;00m\u001b[34;01m.\u001b[39;00m\u001b[34;01mchar\u001b[39;00m\u001b[38;5;250m \u001b[39m\u001b[38;5;28;01mas\u001b[39;00m\u001b[38;5;250m \u001b[39m\u001b[34;01mchar\u001b[39;00m\n\u001b[32m    793\u001b[39m     \u001b[38;5;28;01mreturn\u001b[39;00m char.chararray\n\u001b[32m--> \u001b[39m\u001b[32m795\u001b[39m \u001b[38;5;28;01mraise\u001b[39;00m \u001b[38;5;167;01mAttributeError\u001b[39;00m(\u001b[33mf\u001b[39m\u001b[33m\"\u001b[39m\u001b[33mmodule \u001b[39m\u001b[38;5;132;01m{\u001b[39;00m\u001b[34m__name__\u001b[39m\u001b[38;5;132;01m!r}\u001b[39;00m\u001b[33m has no attribute \u001b[39m\u001b[38;5;132;01m{\u001b[39;00mattr\u001b[38;5;132;01m!r}\u001b[39;00m\u001b[33m\"\u001b[39m)\n",
      "\u001b[31mAttributeError\u001b[39m: module 'numpy' has no attribute 'sorted'"
     ]
    }
   ],
   "source": [
    "## 총점 기준 상위 3명 학생의 정보 \n",
    "totals = np.sum(scores, axis = 0)\n",
    "top3_idx = np.sorted(totals)[:3]\n",
    "top3_scores = scores[:, top3_idx]\n",
    "top3_totals= total[top3_idx]\n",
    "\n",
    "# | 학생번호(idx) | 수학 | 과학 | 영어 | 총점 |\n",
    "stident_nimbers = top3_idx.reshape(1,-1)\n",
    "top_table = np "
   ]
  },
  {
   "cell_type": "code",
   "execution_count": null,
   "id": "537578cd",
   "metadata": {},
   "outputs": [],
   "source": []
  },
  {
   "cell_type": "code",
   "execution_count": null,
   "id": "c263653e",
   "metadata": {},
   "outputs": [],
   "source": []
  },
  {
   "cell_type": "code",
   "execution_count": null,
   "id": "1b68b47a",
   "metadata": {},
   "outputs": [],
   "source": []
  }
 ],
 "metadata": {
  "kernelspec": {
   "display_name": "3.13.2",
   "language": "python",
   "name": "python3"
  },
  "language_info": {
   "codemirror_mode": {
    "name": "ipython",
    "version": 3
   },
   "file_extension": ".py",
   "mimetype": "text/x-python",
   "name": "python",
   "nbconvert_exporter": "python",
   "pygments_lexer": "ipython3",
   "version": "3.13.2"
  }
 },
 "nbformat": 4,
 "nbformat_minor": 5
}
