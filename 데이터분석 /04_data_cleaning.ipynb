{
 "cells": [
  {
   "cell_type": "markdown",
   "id": "8dee6084",
   "metadata": {},
   "source": [
    "# '04_data_cleaning'\n",
    "데이터 정제\n",
    "- 불필요한 삭제\n",
    "- 잘못된 데이터 수정 \n"
   ]
  },
  {
   "cell_type": "code",
   "execution_count": null,
   "id": "09fb0e0f",
   "metadata": {},
   "outputs": [],
   "source": [
    "import pandas as pd #파일이 바뀌면 다시 실행해야 하지만 기본적으로 한번만 실행 또는 껐다 키거나 Restart 하는 경우에는 다시실행 \n",
    "df = pd.read_csv('./namsan.csv',encoding= 'EUC-KR',low_memory= False)#지금내 위치에서 인코딩하여 하위 메모리도 포함"
   ]
  },
  {
   "cell_type": "markdown",
   "id": "a8587574",
   "metadata": {},
   "source": [
    "## 데이터 삭제\n",
    "\n"
   ]
  },
  {
   "cell_type": "code",
   "execution_count": null,
   "id": "8f81b141",
   "metadata": {},
   "outputs": [],
   "source": [
    "df.head(3)"
   ]
  },
  {
   "cell_type": "code",
   "execution_count": null,
   "id": "a4dee935",
   "metadata": {},
   "outputs": [],
   "source": [
    "# 컬럼들 \n",
    "print(df.columns)\n",
    "#마스킹 셍성\n",
    "mask = df.columns[0] != 'Unnamed:13'\n",
    "print(mask)\n",
    "ns_df= df.loc[:, mask]\n",
    "ns_df.head(3)"
   ]
  },
  {
   "cell_type": "code",
   "execution_count": null,
   "id": "a905ce19",
   "metadata": {},
   "outputs": [],
   "source": [
    "#진짜로 컬럼 삭제한 df 리턴 \n",
    "df.drop(['부가기호', 'Unnamed: 13'], axis= 1)\n",
    "#리턴말고 원본에서 삭제하기 \n",
    "df.drop(['부가기호', 'Unnamed: 13', '주제분류번호'], axis= 1,inplace=True)"
   ]
  },
  {
   "cell_type": "code",
   "execution_count": null,
   "id": "c257665f",
   "metadata": {},
   "outputs": [],
   "source": [
    "df.head(3)"
   ]
  },
  {
   "cell_type": "code",
   "execution_count": null,
   "id": "50f30ff3",
   "metadata": {},
   "outputs": [],
   "source": [
    "#Col중에 하나라도 NAN(비어있음)이면 해당 col삭제\n",
    "book_df =df.dropna(axis=1)#컬럼들을 보다. -> 하나라도 비어있으면 지우고 \n",
    "book_df.head(3)\n",
    "#col의 모든 데이터가 NAN 이먄 헤당 col 삭제--> 전부비어있을 때만 지운다. \n",
    "book_df =df.dropna(axis=1,how='all') \n",
    "book_df =dropna(axis=1) \n",
    "\n"
   ]
  },
  {
   "cell_type": "markdown",
   "id": "2a1c2ef3",
   "metadata": {},
   "source": [
    "## 데이터 타입 변환 "
   ]
  },
  {
   "cell_type": "code",
   "execution_count": null,
   "id": "c4a140f1",
   "metadata": {},
   "outputs": [],
   "source": [
    "\n",
    "# # 문자열 처리를 위한 샘플 데이터\n",
    "# data = {\n",
    "#     '이름': ['김철수', '이영희', '박민수', '정지영', '최동민'],\n",
    "#     '이메일': ['kim@example.com', 'lee.younghee@company.co.kr', \n",
    "#               'park_ms@gmail.com', 'jyjeong@school.edu', 'choi@domain.net'],\n",
    "#     '전화번호': ['010-1234-5678', '02-987-6543', '010 3456 7890', \n",
    "#               '01098765432', '+82-10-5555-6666'],\n",
    "#     '취미': ['축구,야구,농구', '여행,독서', '게임,음악,영화',\n",
    "#             '요리,베이킹', '등산,자전거,수영']\n",
    "# }\n",
    "\n",
    "# df = pd.DataFrame(data)\n",
    "# print(\"원본 데이터:\")\n",
    "# print(df)\n",
    "\n",
    "# # 1. 기본 문자열 메서드\n",
    "# # 대소문자 변환 (영문에 적용)\n",
    "# print(\"\\n이메일 대문자 변환:\")\n",
    "# print(df['이메일'].str.upper())\n",
    "\n",
    "# # 문자열 길이\n",
    "# print(\"\\n이름 길이:\")\n",
    "# print(df['이름'].str.len())\n",
    "\n",
    "# # 특정 문자열 포함 여부\n",
    "# print(\"\\n지메일 사용자:\")\n",
    "# print(df['이메일'].str.contains('gmail'))\n",
    "\n",
    "# # 문자열 교체 Series 데이터 각각에 str 에서 사용하는 메서드를 쓰겠다. \n",
    "# print(\"\\n전화번호 형식 통일 (하이픈 제거):\")\n",
    "# print(df['전화번호'].str.replace('-', '').str.replace(' ', ''))\n",
    "\n",
    "# # 2. 문자열 추출\n",
    "# # 처음 두 글자 추출 (성씨)\n",
    "# print(\"\\n성씨 추출:\")\n",
    "# print(df['이름'].str[:1])\n",
    "\n",
    "# # 정규표현식 사용한 추출\n",
    "# print(\"\\n이메일 도메인 추출:\")\n",
    "# print(df['이메일'].str.extract(r'@([^.]+)'))  # @ 다음에 오는 도메인 이름 추출\n",
    "\n",
    "# # 3. 문자열 분할\n",
    "# # 구분자로 분할\n",
    "print(\"\\n취미 분할:\")\n",
    "hobbies_split = df['취미'].str.split(',') #축구,야구,농구 가 리스트로 바뀜\n",
    "print(hobbies_split)\n",
    "\n",
    "# # 분할 후 특정 위치 요소 선택\n",
    "print(\"\\n첫 번째 취미만 선택:\")\n",
    "print(df['취미'].str.split(',').str[0])\n",
    "\n",
    "# # 4. 응용: 이메일에서 사용자명과 도메인 분리\n",
    "# print(\"\\n이메일 분해:\")\n",
    "#기존 데이터 프레임에 새로운 col을 생성함 \n",
    "df[['사용자명', '도메인']] = df['이메일'].str.split('@', expand=True) #expend 없으면 Series (list)/ True면 DF로 쪼개짐 \n",
    "print(df[['이메일', '사용자명', '도메인']])"
   ]
  }
 ],
 "metadata": {
  "kernelspec": {
   "display_name": "3.13.2",
   "language": "python",
   "name": "python3"
  },
  "language_info": {
   "codemirror_mode": {
    "name": "ipython",
    "version": 3
   },
   "file_extension": ".py",
   "mimetype": "text/x-python",
   "name": "python",
   "nbconvert_exporter": "python",
   "pygments_lexer": "ipython3",
   "version": "3.13.2"
  }
 },
 "nbformat": 4,
 "nbformat_minor": 5
}
