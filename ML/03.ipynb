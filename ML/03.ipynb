{
 "cells": [
  {
   "cell_type": "markdown",
   "id": "09c58156",
   "metadata": {},
   "source": [
    "# 특성공학 \n"
   ]
  },
  {
   "cell_type": "code",
   "execution_count": 32,
   "id": "59d27a81",
   "metadata": {},
   "outputs": [],
   "source": [
    "import numpy as np\n",
    "import pandas as pd \n",
    "\n",
    "df = pd.read_csv('./perch.csv')\n",
    "perch_data = df.to_numpy()\n",
    "\n",
    "perch_weight = np.array([5.9, 32.0, 40.0, 51.5, 70.0, 100.0, 78.0, 80.0, 85.0, 85.0, 110.0,\n",
    "       115.0, 125.0, 130.0, 120.0, 120.0, 130.0, 135.0, 110.0, 130.0,\n",
    "       150.0, 145.0, 150.0, 170.0, 225.0, 145.0, 188.0, 180.0, 197.0,\n",
    "       218.0, 300.0, 260.0, 265.0, 250.0, 250.0, 300.0, 320.0, 514.0,\n",
    "       556.0, 840.0, 685.0, 700.0, 700.0, 690.0, 900.0, 650.0, 820.0,\n",
    "       850.0, 900.0, 1015.0, 820.0, 1100.0, 1000.0, 1100.0, 1000.0,\n",
    "       1000.0])\n",
    "#두꼐 길이 높이 를 고려해서 무게를 예측하는 모델을 만드려고한다. \n"
   ]
  },
  {
   "cell_type": "code",
   "execution_count": 33,
   "id": "17500978",
   "metadata": {},
   "outputs": [],
   "source": [
    "from sklearn.model_selection import train_test_split\n",
    "\n",
    "X_train, X_test, y_train, y_test = train_test_split(perch_data, perch_weight, random_state=42)"
   ]
  },
  {
   "cell_type": "code",
   "execution_count": 34,
   "id": "cb545df3",
   "metadata": {},
   "outputs": [
    {
     "name": "stdout",
     "output_type": "stream",
     "text": [
      "[ 9.07538153 69.46401443 38.00385678] -599.1708082981093\n",
      "0.9559326821885706\n",
      "0.8796419177546368\n"
     ]
    }
   ],
   "source": [
    "from sklearn.linear_model import LinearRegression\n",
    "\n",
    "lr = LinearRegression()\n",
    "lr.fit(X_train, y_train)\n",
    "print(lr.coef_, lr.intercept_)\n",
    "print(lr.score(X_train, y_train))\n",
    "print(lr.score(X_test, y_test))"
   ]
  },
  {
   "cell_type": "code",
   "execution_count": 28,
   "id": "eda48b64",
   "metadata": {},
   "outputs": [
    {
     "data": {
      "text/plain": [
       "array([[ 2.,  3.,  5.,  4.,  6., 10.,  9., 15., 25.]])"
      ]
     },
     "execution_count": 28,
     "metadata": {},
     "output_type": "execute_result"
    }
   ],
   "source": [
    "from sklearn.preprocessing import PolynomialFeatures\n",
    "\n",
    "poly = PolynomialFeatures(include_bias=False)\n",
    "poly.fit([[2, 3, 5]])\n",
    "poly.transform([[2, 3, 5]])\n"
   ]
  },
  {
   "cell_type": "code",
   "execution_count": 29,
   "id": "71ff18e1",
   "metadata": {},
   "outputs": [
    {
     "data": {
      "text/plain": [
       "((42, 9),\n",
       " array(['x0', 'x1', 'x2', 'x0^2', 'x0 x1', 'x0 x2', 'x1^2', 'x1 x2',\n",
       "        'x2^2'], dtype=object))"
      ]
     },
     "execution_count": 29,
     "metadata": {},
     "output_type": "execute_result"
    }
   ],
   "source": [
    "poly = PolynomialFeatures(include_bias=False)\n",
    "X_train_poly = poly.fit_transform(X_train)\n",
    "X_test_poly = poly.fit_transform(X_test)\n",
    "\n",
    "X_train_poly.shape, poly.get_feature_names_out()"
   ]
  },
  {
   "cell_type": "code",
   "execution_count": 30,
   "id": "ea395767",
   "metadata": {},
   "outputs": [
    {
     "name": "stdout",
     "output_type": "stream",
     "text": [
      "0.9903183436982124\n",
      "0.9714559911594159\n"
     ]
    },
    {
     "data": {
      "text/plain": [
       "(array([  34.80604039,  -88.68430232, -184.11606694,   -2.2696004 ,\n",
       "           8.74890226,    9.41670602,   27.76120631, -119.89306061,\n",
       "          93.68198334]),\n",
       " np.float64(124.06521772233401))"
      ]
     },
     "execution_count": 30,
     "metadata": {},
     "output_type": "execute_result"
    }
   ],
   "source": [
    "lr_p = LinearRegression()\n",
    "lr.fit(X_train_poly, y_train)\n",
    "\n",
    "print(lr.score(X_train_poly, y_train))\n",
    "print(lr.score(X_test_poly, y_test))\n",
    "\n",
    "lr.coef_, lr.intercept_\n",
    "\n"
   ]
  },
  {
   "cell_type": "code",
   "execution_count": 31,
   "id": "ced01375",
   "metadata": {},
   "outputs": [
    {
     "data": {
      "text/plain": [
       "-144.4051193329733"
      ]
     },
     "execution_count": 31,
     "metadata": {},
     "output_type": "execute_result"
    }
   ],
   "source": [
    "poly = PolynomialFeatures(degree=5, include_bias=False)\n",
    "X_train_p5 = poly.fit_transform(X_train)\n",
    "X_test_p5 = poly.fit_transform(X_test)\n",
    "X_train_p5.shape\n",
    "# 초 과대 적합(Overfitting) -> 훈련셋에는 완벽한데, 테스트는 망한\n",
    "lr.fit(X_train_p5, y_train)\n",
    "lr.score(X_train_p5, y_train)\n",
    "lr.score(X_test_p5, y_test)"
   ]
  },
  {
   "cell_type": "markdown",
   "id": "8d4988b1",
   "metadata": {},
   "source": [
    "# 규제 (regularization)\n",
    "- 과대적합(Overfitting) 방지 \n",
    "- 릿지(ridge) 회귀: 계수를 제곱한 기준으로 규제 \n",
    "- 라쏘(lasso)회귀 : 절댓값 기준으로 규제 "
   ]
  },
  {
   "cell_type": "code",
   "execution_count": 37,
   "id": "9095dbb2",
   "metadata": {},
   "outputs": [
    {
     "data": {
      "text/plain": [
       "array([[1.96000000e+01, 5.14000000e+00, 3.04000000e+00, ...,\n",
       "        7.42244501e+02, 4.38992857e+02, 2.59637799e+02],\n",
       "       [2.20000000e+01, 5.88000000e+00, 3.52000000e+00, ...,\n",
       "        1.50793507e+03, 9.02709432e+02, 5.40397483e+02],\n",
       "       [1.87000000e+01, 5.20000000e+00, 3.12000000e+00, ...,\n",
       "        8.21240709e+02, 4.92744425e+02, 2.95646655e+02],\n",
       "       ...,\n",
       "       [2.56000000e+01, 6.56000000e+00, 4.24000000e+00, ...,\n",
       "        3.28023719e+03, 2.12015331e+03, 1.37034299e+03],\n",
       "       [4.20000000e+01, 1.28000000e+01, 6.87000000e+00, ...,\n",
       "        5.31239245e+04, 2.85126063e+04, 1.53032504e+04],\n",
       "       [3.45000000e+01, 1.02600000e+01, 6.39000000e+00, ...,\n",
       "        2.74661189e+04, 1.71060916e+04, 1.06537939e+04]], shape=(42, 55))"
      ]
     },
     "execution_count": 37,
     "metadata": {},
     "output_type": "execute_result"
    }
   ],
   "source": [
    "from sklearn.preprocessing import StandardScaler\n",
    "ss = StandardScaler()\n",
    "#훈련셋으로 스케일링 학습 \n",
    "ss.fit(X_train_p5)\n",
    "#훈련 & xptmxm ahen gnsfustpt rlwnsdmfh tmzpdlffld wlsgod \n",
    "X_train_scaled = ss.fit_transform(X_train_p5)\n",
    "X_test_scaled = ss .fit_transform(X_test_p5)\n",
    "\n",
    "X_train_p5"
   ]
  },
  {
   "cell_type": "code",
   "execution_count": 39,
   "id": "02f091eb",
   "metadata": {},
   "outputs": [
    {
     "name": "stdout",
     "output_type": "stream",
     "text": [
      "0.988728468997471\n",
      "0.9103745241423852\n"
     ]
    }
   ],
   "source": [
    "from sklearn.linear_model import Ridge \n",
    "ridge = Ridge(alpha=10)\n",
    "ridge.fit(X_train_scaled, y_train)\n",
    "print(ridge .score (X_train_scaled, y_train))\n",
    "print(ridge.score(X_test_scaled, y_test))\n"
   ]
  },
  {
   "cell_type": "code",
   "execution_count": 40,
   "id": "6e1977d0",
   "metadata": {},
   "outputs": [
    {
     "data": {
      "text/plain": [
       "<function matplotlib.pyplot.plot(*args: 'float | ArrayLike | str', scalex: 'bool' = True, scaley: 'bool' = True, data=None, **kwargs) -> 'list[Line2D]'>"
      ]
     },
     "execution_count": 40,
     "metadata": {},
     "output_type": "execute_result"
    }
   ],
   "source": [
    "import matplotlib.pyplot as plt \n",
    "train_score = []\n",
    "test_scoer = []\n",
    "\n",
    "alpha_list = [0.001, 0.01,  0.1, 1, 10, 100 ]\n",
    "\n",
    "for alpha in alpha_list:\n",
    "    ridge= Ridge(alpha=alpha)\n",
    "    ridge.fit(X_train_scaled, y_train)\n",
    "    s1 = ridge .score (X_train_scaled, y_train)\n",
    "    s2 = ridge.score(X_test_scaled, y_test)\n",
    "    train_score.append(s1)\n",
    "    train_score.append(s2)\n",
    "\n",
    "plt.plot"
   ]
  },
  {
   "cell_type": "code",
   "execution_count": null,
   "id": "90438f80",
   "metadata": {},
   "outputs": [],
   "source": [
    "#alpha = 0.1\n",
    "\n",
    "alpha in alpha_list:\n",
    "ridge= Ridge(alpha=alpha)\n",
    "ridge.fit(X_train_scaled, y_train)\n",
    "s1 = ridge .score (X_train_scaled, y_train)\n",
    "s2 = ridge.score(X_test_scaled, y_test)"
   ]
  },
  {
   "cell_type": "code",
   "execution_count": null,
   "id": "5b8f50a1",
   "metadata": {},
   "outputs": [],
   "source": [
    "from sklearn.linear_model import Lasso \n",
    "\n",
    "train_score = []\n",
    "test_scoer = []\n",
    "\n",
    "alpha_list = [0.001, 0.01,  0.1, 1, 10, 100 ]\n",
    "\n",
    "for alpha in alpha_list:\n",
    "    ridge= Lasso(alpha=alpha)\n",
    "    ridge.fit(X_train_scaled, y_train)\n",
    "    s1 = ridge .score (X_train_scaled, y_train)\n",
    "    s2 = ridge.score(X_test_scaled, y_test)\n",
    "    train_score.append(s1)\n",
    "    train_score.append(s2)\n",
    "\n"
   ]
  },
  {
   "cell_type": "code",
   "execution_count": null,
   "id": "1fec8ba8",
   "metadata": {},
   "outputs": [],
   "source": [
    "lasso = Lasso (alpha=10)\n",
    "lasso.fit(X_train_scaled, y_train)\n",
    "\n"
   ]
  }
 ],
 "metadata": {
  "kernelspec": {
   "display_name": "3.13.2",
   "language": "python",
   "name": "python3"
  },
  "language_info": {
   "codemirror_mode": {
    "name": "ipython",
    "version": 3
   },
   "file_extension": ".py",
   "mimetype": "text/x-python",
   "name": "python",
   "nbconvert_exporter": "python",
   "pygments_lexer": "ipython3",
   "version": "3.13.2"
  }
 },
 "nbformat": 4,
 "nbformat_minor": 5
}
