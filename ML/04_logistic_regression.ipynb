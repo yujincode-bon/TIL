{
 "cells": [
  {
   "cell_type": "markdown",
   "id": "3386bbaf",
   "metadata": {},
   "source": [
    "# 04_logistic_regression\n",
    "로지스틱회귀 "
   ]
  },
  {
   "cell_type": "code",
   "execution_count": 84,
   "id": "e0cd0d05",
   "metadata": {},
   "outputs": [],
   "source": [
    "import pandas as pd\n",
    "import numpy as np\n",
    "import warnings\n",
    "\n",
    "warnings.filterwarnings('ignore')\n"
   ]
  },
  {
   "cell_type": "code",
   "execution_count": 85,
   "id": "889c97c3",
   "metadata": {},
   "outputs": [
    {
     "data": {
      "text/plain": [
       "(  Species  Weight  Length  Diagonal   Height   Width\n",
       " 0   Bream   242.0    25.4      30.0  11.5200  4.0200\n",
       " 1   Bream   290.0    26.3      31.2  12.4800  4.3056\n",
       " 2   Bream   340.0    26.5      31.1  12.3778  4.6961\n",
       " 3   Bream   363.0    29.0      33.5  12.7300  4.4555\n",
       " 4   Bream   430.0    29.0      34.0  12.4440  5.1340,\n",
       " array(['Bream', 'Roach', 'Whitefish', 'Parkki', 'Perch', 'Pike', 'Smelt'],\n",
       "       dtype=object))"
      ]
     },
     "execution_count": 85,
     "metadata": {},
     "output_type": "execute_result"
    }
   ],
   "source": [
    "fish_df = pd.read_csv('./fish_data.csv')\n",
    "fish_df.head(), pd.unique(fish_df['Species'])"
   ]
  },
  {
   "cell_type": "code",
   "execution_count": 86,
   "id": "f3645abf",
   "metadata": {},
   "outputs": [],
   "source": [
    "X = fish_input = fish_df[[ 'Weight', 'Length', 'Diagonal', 'Height', 'Width']].to_numpy()\n",
    "y = fish_df['Species'].to_numpy()\n",
    "\n",
    "from sklearn.model_selection import train_test_split\n",
    "\n",
    "X_train, X_test, y_train, y_test = train_test_split(X, y, random_state=42)"
   ]
  },
  {
   "cell_type": "code",
   "execution_count": 87,
   "id": "b76c9594",
   "metadata": {},
   "outputs": [],
   "source": [
    "#스케일링 \n",
    "from sklearn.preprocessing import StandardScaler\n",
    "\n",
    "ss = StandardScaler()\n",
    "ss.fit(X_train)\n",
    "X_train= ss.transform(X_train)\n",
    "X_test= ss.transform(X_test)\n"
   ]
  },
  {
   "cell_type": "code",
   "execution_count": 88,
   "id": "082adbc5",
   "metadata": {},
   "outputs": [
    {
     "data": {
      "text/plain": [
       "(0.8907563025210085, 0.85)"
      ]
     },
     "execution_count": 88,
     "metadata": {},
     "output_type": "execute_result"
    }
   ],
   "source": [
    "from sklearn.neighbors import KNeighborsClassifier\n",
    "# 주변 3개의 생선을 보고 확률을 계산 \n",
    "kn = KNeighborsClassifier(n_neighbors=3)\n",
    "kn.fit(X_train, y_train)\n",
    "kn.score(X_train, y_train), kn.score(X_test, y_test)\n"
   ]
  },
  {
   "cell_type": "code",
   "execution_count": 89,
   "id": "345d6194",
   "metadata": {},
   "outputs": [
    {
     "name": "stdout",
     "output_type": "stream",
     "text": [
      "['Bream' 'Parkki' 'Perch' 'Pike' 'Roach' 'Smelt' 'Whitefish']\n",
      "['Perch' 'Smelt' 'Pike' 'Perch' 'Perch']\n"
     ]
    }
   ],
   "source": [
    "# KN 분류기가 분류해내는 클래스 목록 \n",
    "print(kn.classes_)\n",
    "#테스트셋에서 앞 5개의 데이털를 예측하라\n",
    "print(kn.predict(X_test[:5]))"
   ]
  },
  {
   "cell_type": "code",
   "execution_count": 90,
   "id": "c0ea2465",
   "metadata": {},
   "outputs": [
    {
     "data": {
      "text/plain": [
       "array([[0.        , 0.        , 1.        , 0.        , 0.        ,\n",
       "        0.        , 0.        ],\n",
       "       [0.        , 0.        , 0.        , 0.        , 0.        ,\n",
       "        1.        , 0.        ],\n",
       "       [0.        , 0.        , 0.        , 1.        , 0.        ,\n",
       "        0.        , 0.        ],\n",
       "       [0.        , 0.        , 0.66666667, 0.        , 0.33333333,\n",
       "        0.        , 0.        ],\n",
       "       [0.        , 0.        , 0.66666667, 0.        , 0.33333333,\n",
       "        0.        , 0.        ]])"
      ]
     },
     "execution_count": 90,
     "metadata": {},
     "output_type": "execute_result"
    }
   ],
   "source": [
    "# 테스트 데이터 5개가 특정 생선일 확률 \n",
    "kn.predict_proba(X_test[:5])"
   ]
  },
  {
   "cell_type": "code",
   "execution_count": 91,
   "id": "9c39a820",
   "metadata": {},
   "outputs": [
    {
     "data": {
      "image/png": "[encoded data removed]",
      "text/plain": [
       "<Figure size 640x480 with 1 Axes>"
      ]
     },
     "metadata": {},
     "output_type": "display_data"
    }
   ],
   "source": [
    "import matplotlib.pyplot as plt\n",
    "# 시그모이드 함수 (모든 x를 0~1 사이 값으로 변환)\n",
    "z= np.arange(-10, 10, 0.1)\n",
    "\n",
    "phi = 1 / (1 + np.exp(-z))\n",
    "plt .plot(z,phi)\n",
    "plt.show()"
   ]
  },
  {
   "cell_type": "code",
   "execution_count": 92,
   "id": "53473fd3",
   "metadata": {},
   "outputs": [],
   "source": [
    "X_train, X_test, y_train, y_test = train_test_split(X, y, random_state=42)\n",
    "\n",
    "ss = StandardScaler()\n",
    "ss.fit(X_train)\n",
    "X_train_s = ss.transform(X_train)\n",
    "X_test_s = ss.transform(X_test)\n",
    "\n",
    "\n",
    "index = (y_train == 'Bream') | (y_train == 'Smelt')\n",
    "\n",
    "X_bream_smelt_train = X_train_s[index]\n",
    "y_bream_smelt_train = y_train[index]\n"
   ]
  },
  {
   "cell_type": "code",
   "execution_count": 93,
   "id": "d3ec6616",
   "metadata": {},
   "outputs": [
    {
     "name": "stdout",
     "output_type": "stream",
     "text": [
      "=== 방정식 기울기, 절편 결과 : [[-0.40451732 -0.57582787 -0.66248158 -1.01329614 -0.73123131]] / [-2.16172774]\n",
      "\n",
      " 분류해낼 클래스 두개 (abc순) -> ['Bream' 'Smelt']\n",
      "['Bream' 'Smelt' 'Bream' 'Bream' 'Bream']\n",
      "\n",
      "=== 실제z값 ([[-0.40451732 -0.57582787 -0.66248158 -1.01329614 -0.73123131]]) ===\n",
      "[-6.02991358  3.57043428 -5.26630496 -4.24382314 -6.06135688]\n",
      "\n",
      "=== 시그모이드 함수 통과 후 값 (직접확인) ===\n",
      "[0.00239993 0.97262675 0.00513614 0.01414953 0.00232581]\n",
      "\n",
      "=== lr 이 바로 계산해준 값 ===\n",
      "[[0.99760007 0.00239993]\n",
      " [0.02737325 0.97262675]\n",
      " [0.99486386 0.00513614]\n",
      " [0.98585047 0.01414953]\n",
      " [0.99767419 0.00232581]]\n"
     ]
    }
   ],
   "source": [
    "from sklearn.linear_model import LogisticRegression\n",
    "\n",
    "lr = LogisticRegression()\n",
    "# 로지스틱회귀 학습 -> 방정식 만들기 -> 두개중 하나로 분류해야 함 -> abc순 뒤에걸로 분류할 점수를 계산하는 식\n",
    "lr.fit(X_bream_smelt_train, y_bream_smelt_train)\n",
    "print(f'=== 방정식 기울기, 절편 결과 : {lr.coef_} / {lr.intercept_}')\n",
    "# 분류하는 클래스 명\n",
    "print(f'\\n 분류해낼 클래스 두개 (abc순) -> {lr.classes_}')\n",
    "\n",
    "# 도미/빙어 예측 결과\n",
    "print(lr.predict(X_bream_smelt_train[:5]))\n",
    "\n",
    "# 실제 z값\n",
    "descions = lr.decision_function(X_bream_smelt_train[:5])\n",
    "print(f'\\n=== 실제z값 ({lr.coef_}) ===')\n",
    "print(descions)\n",
    "\n",
    "# 직접 시그모이드 통과시키기\n",
    "from scipy.special import expit\n",
    "print('\\n=== 시그모이드 함수 통과 후 값 (직접확인) ===')\n",
    "print(expit(descions))\n",
    "\n",
    "# 바로 계산된 결과\n",
    "print('\\n=== lr 이 바로 계산해준 값 ===')\n",
    "print(lr.predict_proba(X_bream_smelt_train[:5]))"
   ]
  },
  {
   "cell_type": "markdown",
   "id": "28592090",
   "metadata": {},
   "source": [
    "- 로지스틱 회귀 : 이진 문제를 풀기 위해서 사용되고, 결과를 시그모이드 함수 사이에 통과시켜서 특정 클래스에 속할 확률을 예측한다. 출력은 예측 확률 이고, 0.5 기준으로 분류 된다. (이준분류와 다중클래스 분류에 활용된다.)\n",
    "데이터 준비 -> 데이터 분할과 표준화(스케일링) -> KNN 분류 -> 시그모이드 함수 시각화 -> 로지스틱 회귀 적용(특정 두 종류만 분류)"
   ]
  },
  {
   "cell_type": "markdown",
   "id": "82da461e",
   "metadata": {},
   "source": [
    "### 1차 정리 \n",
    "- 로지스틱 회귀: 분류 문제를 풀기 위해 사용. 결과를 시그모이드 함수(0~1 사이 확률 값으로 변환)에 통과시켜서 특정 클래스에 속할 확률을 예측한다. 출력은 \" 예측 확률 이고 , 보통 0.5 기준으로 분류 된다. \n",
    "- 주로 사용되는 곳은 이진 분류 와 다중 클래스 분류 등에 활용된다. \n",
    "\n",
    "좋은 코드예요 👍 제가 전체 흐름을 정리해드릴게요.\n",
    "\n",
    "⸻\n",
    "\n",
    "1️⃣ 데이터 준비\n",
    "\n",
    "fish_df = pd.read_csv('./fish_data.csv')\n",
    "X = fish_df[[ 'Weight', 'Length', 'Diagonal', 'Height', 'Width']].to_numpy()\n",
    "y = fish_df['Species'].to_numpy()\n",
    "\n",
    "\t•\t생선 데이터셋(fish_data.csv)을 불러옴\n",
    "\t•\t입력 데이터 X: 생선의 무게, 길이, 대각선, 높이, 두께 (5개 특성)\n",
    "\t•\t타겟 y: 생선 종류(Species)\n",
    "\n",
    "⸻\n",
    "\n",
    "2️⃣ 데이터 분할 + 표준화(스케일링)\n",
    "\n",
    "X_train, X_test, y_train, y_test = train_test_split(X, y, random_state=42)\n",
    "ss = StandardScaler()\n",
    "ss.fit(X_train)\n",
    "X_train = ss.transform(X_train)\n",
    "X_test = ss.transform(X_test)\n",
    "\n",
    "\t•\t데이터를 훈련/테스트 세트로 나눔\n",
    "\t•\tStandardScaler로 특성들을 표준화(평균 0, 분산 1)\n",
    "\n",
    "⸻\n",
    "\n",
    "3️⃣ KNN 분류\n",
    "\n",
    "kn = KNeighborsClassifier(n_neighbors=3)\n",
    "kn.fit(X_train, y_train)\n",
    "kn.score(X_train, y_train), kn.score(X_test, y_test)\n",
    "\n",
    "\t•\tKNN(K-최근접이웃) 모델 학습 → n_neighbors=3 이므로 주변 3개의 이웃으로 분류\n",
    "\t•\t훈련/테스트 정확도 확인\n",
    "\t•\tkn.predict() / kn.predict_proba() 로 클래스 예측 및 확률 확인 predict_proba,  함수는 분류 모델이 각 클래스 속할 확률을 예측해 주는 함수이다. \n",
    "\n",
    "👉 여기까지는 **“주어진 생선 데이터에서, 이 생선이 어떤 종류인지 이웃을 보고 분류”**하는 실험이에요.\n",
    "\n",
    "\n",
    "- predict_proba 함수(분류 모델이 각 클래스에 속할 확률을 예측해 주는 함수이다.)\n",
    "\t•\t입력 데이터(X_test)를 넣으면, 각 샘플이 모든 클래스에 속할 확률 분포를 반환합니다.\n",
    "\t•\t반환 값은 2차원 배열이며,\n",
    "\t•\t행(row) → 샘플 개수\n",
    "\t•\t열(column) → 클래스 개수\n",
    "\t•\t각 행의 확률은 반드시 합이 1이 됩니다.\n",
    "⸻\n",
    "\n",
    "4️⃣ 시그모이드 함수 시각화\n",
    "\n",
    "z = np.arange(-10, 10, 0.1)\n",
    "phi = 1 / (1 + np.exp(-z))\n",
    "plt.plot(z, phi)\n",
    "plt.show()\n",
    "\n",
    "\t•\t시그모이드 함수(0~1 사이로 값 변환)를 그려서, 확률 해석이 가능함을 보여줌\n",
    "\t•\t즉, “선형 모델의 출력을 확률로 변환” 개념을 이해하려는 단계\n",
    "\n",
    "⸻\n",
    "\n",
    "5️⃣ 로지스틱 회귀 적용 (특정 두 종만 분류)\n",
    "\n",
    "index = (y_train == 'Bream') | (y_train == 'Smelt')\n",
    "X_bream_smelt_train = X_train_s[index]\n",
    "y_bream_smelt_train = y_train[index]\n",
    "\n",
    "lr = LogisticRegression()\n",
    "\n",
    "\t•\t여러 생선 중에서 도미(Bream)와 빙어(Smelt)만 선택\n",
    "\t•\t이진 분류 문제로 단순화해서 **로지스틱 회귀(Logistic Regression)**를 적용하려고 준비 중\n",
    "\n",
    "⸻\n",
    "\n",
    "✅ 정리하면\n",
    "당신은 지금\n",
    "\t1.\tKNN 분류기로 여러 생선 종류를 분류해보고,\n",
    "\t2.\t확률 해석을 위해 시그모이드 함수를 직접 그려본 뒤,\n",
    "\t3.\t여러 클래스 중에서 **특정 2개 클래스(Bream vs Smelt)**만 뽑아서 로지스틱 회귀로 이진 분류 실습을 하려는 거예요.\n",
    "\n",
    "⸻\n",
    "\n",
    "혹시 제가 이어서 lr.fit(X_bream_smelt_train, y_bream_smelt_train) 실행하고, **결과(계수, 예측 확률, 정확도)**까지 정리해드릴까요?"
   ]
  },
  {
   "cell_type": "markdown",
   "id": "b35a8090",
   "metadata": {},
   "source": [
    "### 로지스틱 회귀로 다중분류(생선 7종) "
   ]
  },
  {
   "cell_type": "code",
   "execution_count": 94,
   "id": "da2e4733",
   "metadata": {},
   "outputs": [],
   "source": [
    "# 소프트맥스 함수 "
   ]
  },
  {
   "cell_type": "code",
   "execution_count": 95,
   "id": "1ee96b45",
   "metadata": {},
   "outputs": [
    {
     "name": "stdout",
     "output_type": "stream",
     "text": [
      "0.9327731092436975\n",
      "0.925\n"
     ]
    }
   ],
   "source": [
    "# 2진 분류 vs 다중분류에 따라 내부 동작이 다름 \n",
    "\n",
    "# C = 규제,max_iter = 반복횟수의 제한 \n",
    "lr = LogisticRegression(C= 20, max_iter=1000)\n",
    "lr.fit(X_train_s, y_train)\n",
    "\n",
    "print(lr.score(X_train_s, y_train))\n",
    "print(lr.score(X_test_s, y_test))"
   ]
  },
  {
   "cell_type": "code",
   "execution_count": 96,
   "id": "73118a8e",
   "metadata": {},
   "outputs": [
    {
     "name": "stdout",
     "output_type": "stream",
     "text": [
      "['Perch' 'Smelt' 'Pike' 'Roach' 'Perch']\n",
      "[[0.    0.014 0.842 0.    0.135 0.007 0.003]\n",
      " [0.    0.003 0.044 0.    0.007 0.946 0.   ]\n",
      " [0.    0.    0.034 0.934 0.015 0.016 0.   ]\n",
      " [0.011 0.034 0.305 0.006 0.567 0.    0.076]\n",
      " [0.    0.    0.904 0.002 0.089 0.002 0.001]]\n"
     ]
    }
   ],
   "source": [
    "print(lr.predict(X_test_s[:5]))\n",
    "\n",
    "# 분류의 근거 (확률_)\n",
    "print(np.round(lr.predict_proba(X_test_s[:5]), decimals=3))"
   ]
  },
  {
   "cell_type": "code",
   "execution_count": 97,
   "id": "472f6eac",
   "metadata": {},
   "outputs": [
    {
     "data": {
      "text/plain": [
       "array([[-1.50605454, -1.03747913,  2.60919714,  7.69422736, -1.1860334 ],\n",
       "       [ 0.19200048, -1.99988811, -3.79617726,  6.50312639, -2.00022756],\n",
       "       [ 3.55793539,  6.36988929, -8.52233732, -5.75397234,  3.79233439],\n",
       "       [-0.11453307,  3.61060121,  3.94464503, -3.62243903, -1.75981681],\n",
       "       [-1.40843715, -6.0924219 ,  5.28629633, -0.86696568,  1.84518453],\n",
       "       [-1.33419959,  1.48153394,  1.38217548, -5.6602348 , -4.39228961],\n",
       "       [ 0.61328848, -2.33223529, -0.90379941,  1.70625808,  3.70084847]])"
      ]
     },
     "execution_count": 97,
     "metadata": {},
     "output_type": "execute_result"
    }
   ],
   "source": [
    "# 각 생선별 z값 구하는 함수의 계수 확인 \n",
    "\n",
    "lr.coef_"
   ]
  },
  {
   "cell_type": "code",
   "execution_count": 98,
   "id": "dc4b7919",
   "metadata": {},
   "outputs": [
    {
     "name": "stdout",
     "output_type": "stream",
     "text": [
      "[[0.    0.014 0.842 0.    0.135 0.007 0.003]\n",
      " [0.    0.003 0.044 0.    0.007 0.946 0.   ]\n",
      " [0.    0.    0.034 0.934 0.015 0.016 0.   ]\n",
      " [0.011 0.034 0.305 0.006 0.567 0.    0.076]\n",
      " [0.    0.    0.904 0.002 0.089 0.002 0.001]]\n"
     ]
    }
   ],
   "source": [
    "decisions = lr.decision_function(X_test_s[:5]) # 데이터가 양성인 클래스 1에 속한다고 믿는 정도(확률)을 반환한다. \n",
    "np.round(decisions, decimals=2)\n",
    "from scipy.special import softmax\n",
    "proba = softmax(decisions, axis = 1)\n",
    "print(np.round(proba, decimals=3))"
   ]
  },
  {
   "cell_type": "markdown",
   "id": "05b584d9",
   "metadata": {},
   "source": [
    "# 여기까지 정리\n",
    "좋습니다 🙂 지금 작성하신 코드를 단계별로 뜯어보면서 무엇을 하고 있는지, 어떤 의도를 가진 코드인지 설명해드릴게요.\n",
    "\n",
    "⸻\n",
    "\n",
    "1. 모델 선언\n",
    "\n",
    "lr = LogisticRegression(C=20, max_iter=1000)\n",
    "\n",
    "\t•\tLogisticRegression: 로지스틱 회귀 분류 모델을 사용.\n",
    "\t•\tC=20: 규제(regularization) 세기를 조절하는 하이퍼파라미터. 값이 클수록 규제가 약해지고, 모델이 더 복잡해질 수 있음.\n",
    "\t•\tmax_iter=1000: 학습을 반복하는 최대 횟수. 데이터와 파라미터에 따라 기본값(100)이 부족할 수 있어서 늘려줌.\n",
    "\n",
    "👉 의도: 규제가 너무 강하지 않게 하고 충분히 수렴할 수 있도록 반복 횟수를 늘려서 학습 안정성을 확보하려는 것.\n",
    "\n",
    "⸻\n",
    "\n",
    "2. 모델 학습\n",
    "\n",
    "lr.fit(X_train_s, y_train)\n",
    "\n",
    "\t•\tX_train_s: 스케일링된 훈련 데이터(아마 StandardScaler 등으로 표준화한 것).\n",
    "\t•\ty_train: 정답 레이블(클래스).\n",
    "\n",
    "👉 훈련 데이터로 모델을 학습시킴.\n",
    "\n",
    "⸻\n",
    "\n",
    "3. 정확도 확인\n",
    "\n",
    "print(lr.score(X_train_s, y_train))\n",
    "print(lr.score(X_test_s, y_test))\n",
    "\n",
    "\t•\tscore: 분류 문제에서는 기본적으로 정확도(accuracy) 반환.\n",
    "\t•\t훈련 세트와 테스트 세트 정확도를 확인해서 모델이 얼마나 잘 학습됐는지, 과적합 여부를 확인할 수 있음.\n",
    "\n",
    "👉 훈련 정확도와 테스트 정확도를 비교하면서 모델이 일반화 잘 되는지 체크하려는 것.\n",
    "\n",
    "⸻\n",
    "\n",
    "4. 예측값 확인\n",
    "\n",
    "print(lr.predict(X_test_s[:5]))\n",
    "\n",
    "\t•\t테스트 데이터의 앞 5개 샘플에 대한 클래스 예측값을 보여줌.\n",
    "\t•\t예: ['Bream' 'Smelt' 'Bream' ...] 같은 식으로 레이블이 출력될 것.\n",
    "\n",
    "👉 실제 데이터가 어떤 클래스로 분류되는지 확인하려는 것.\n",
    "\n",
    "⸻\n",
    "\n",
    "5. 예측 근거(확률) 확인\n",
    "\n",
    "print(np.round(lr.predict_proba(X_test_s[:5]), decimals=3))\n",
    "\n",
    "\t•\tpredict_proba: 각 샘플이 각 클래스에 속할 확률을 출력.\n",
    "\t•\t2진 분류라면 [클래스0일 확률, 클래스1일 확률] 형태.\n",
    "\t•\t예: [[0.23, 0.77], [0.91, 0.09], ...]\n",
    "\n",
    "👉 단순히 결과만 보는 게 아니라, 모델이 얼마나 확신을 가지고 분류했는지를 보고 싶어서 확률을 확인하는 것.\n",
    "\n",
    "⸻\n",
    "\n",
    "6. 결정 함수 값 확인\n",
    "\n",
    "decisions = lr.decision_function(X_test_s[:5])\n",
    "np.round(decisions, decimals=2)\n",
    "\n",
    "\t•\tdecision_function: 로지스틱 회귀에서 시그모이드 함수 적용 전 점수(로그 오즈, logit) 를 반환.\n",
    "\t•\t2진 분류의 경우:\n",
    "\t•\t음수 → 클래스 0 쪽으로 기울음\n",
    "\t•\t양수 → 클래스 1 쪽으로 기울음\n",
    "\t•\t절댓값이 클수록 모델이 더 강하게 확신한다는 뜻.\n",
    "\n",
    "👉 확률이 아닌 내부 선형 방정식 결과값(의사결정 점수) 를 보고 싶은 것.\n",
    "\n",
    "⸻\n",
    "\n",
    "💡 정리 (당신이 하려는 것)\n",
    "\t•\t로지스틱 회귀를 2진 분류/다중 분류 상황에서 어떻게 동작하는지 확인하는 과정이에요.\n",
    "\t•\t단순히 predict 결과만 보는 게 아니라\n",
    "\t•\tscore → 정확도 확인\n",
    "\t•\tpredict_proba → 분류 확률 근거 확인\n",
    "\t•\tdecision_function → 내부 의사결정 점수(시그모이드 입력값) 확인\n",
    "을 통해 모델이 어떤 논리로 분류했는지 해석하려는 목적이 있습니다.\n",
    "\n",
    "⸻\n",
    "\n",
    "👉 혹시 제가 이어서, 2진 분류일 때 decision_function 값이 확률로 변환되는 과정(시그모이드 공식) 까지 수학적으로 정리해드릴까요?"
   ]
  }
 ],
 "metadata": {
  "kernelspec": {
   "display_name": "3.13.2",
   "language": "python",
   "name": "python3"
  },
  "language_info": {
   "codemirror_mode": {
    "name": "ipython",
    "version": 3
   },
   "file_extension": ".py",
   "mimetype": "text/x-python",
   "name": "python",
   "nbconvert_exporter": "python",
   "pygments_lexer": "ipython3",
   "version": "3.13.2"
  }
 },
 "nbformat": 4,
 "nbformat_minor": 5
}
