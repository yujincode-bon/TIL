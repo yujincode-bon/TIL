{
 "cells": [
  {
   "cell_type": "markdown",
   "id": "51df9fed",
   "metadata": {},
   "source": [
    "# Titanic 생존\n",
    "`titanic.ipynb`"
   ]
  },
  {
   "cell_type": "markdown",
   "id": "208b1835",
   "metadata": {},
   "source": [
    "## 참고할 제언\n",
    "- imputer 사용  > age 결측치 채우고 , embarked 수동으로 결측치 세우기를 함. \n",
    "- OHE 원핫인코딩 > 범주형 데이터를 여러개의 컬럼으로 변환 \n",
    "- Pros -> 숫자 0, 1, 2 는 크기 순서가 생겨서 해석이 잘못될 수 있음\n",
    "- Cons -> 카테고리가 많으면 차원이 늘어남 \n",
    "- MICE: 결측치가 있는 변수를 다른 변수를 이용해 반복적으로 예측한다. \n"
   ]
  },
  {
   "cell_type": "code",
   "execution_count": 85,
   "id": "849de830",
   "metadata": {},
   "outputs": [],
   "source": [
    "import numpy as np\n",
    "import pandas as pd\n",
    "\n",
    "from sklearn.tree import DecisionTreeClassifier, plot_tree\n",
    "from sklearn.neighbors import KNeighborsClassifier\n",
    "from sklearn.linear_model import LogisticRegression\n",
    "from sklearn.preprocessing import StandardScaler\n",
    "from sklearn.model_selection import train_test_split\n",
    "\n",
    "import matplotlib.pyplot as plt\n",
    "import seaborn as sns\n",
    "\n",
    "import warnings\n",
    "warnings.filterwarnings('ignore')\n",
    "\n",
    "titanic = sns.load_dataset('titanic')"
   ]
  },
  {
   "cell_type": "markdown",
   "id": "6ecaf5f1",
   "metadata": {},
   "source": [
    "1. 데이터 준비 및 탐색 (EDA)\n",
    "-  데이터 불러오기: train.csv, test.csv 읽기\n",
    "-  기초 확인: head(), info(), describe()로 데이터 구조 파악\n",
    "-  결측치 확인: Age, Cabin, Embarked 등 결측치 처리 전략 수립\n",
    "-  타겟 분포 확인: Survived 비율(0/1)"
   ]
  },
  {
   "cell_type": "code",
   "execution_count": 86,
   "id": "1c0176f3",
   "metadata": {},
   "outputs": [
    {
     "name": "stdout",
     "output_type": "stream",
     "text": [
      "타이타닉 데이터 미리보기:\n",
      "   survived  pclass     sex   age  ...  deck  embark_town  alive  alone\n",
      "0         0       3    male  22.0  ...   NaN  Southampton     no  False\n",
      "1         1       1  female  38.0  ...     C    Cherbourg    yes  False\n",
      "2         1       3  female  26.0  ...   NaN  Southampton    yes   True\n",
      "3         1       1  female  35.0  ...     C  Southampton    yes  False\n",
      "4         0       3    male  35.0  ...   NaN  Southampton     no   True\n",
      "\n",
      "[5 rows x 15 columns]\n",
      "\n",
      "데이터셋 정보:\n",
      "<class 'pandas.core.frame.DataFrame'>\n",
      "RangeIndex: 891 entries, 0 to 890\n",
      "Data columns (total 15 columns):\n",
      " #   Column       Non-Null Count  Dtype   \n",
      "---  ------       --------------  -----   \n",
      " 0   survived     891 non-null    int64   \n",
      " 1   pclass       891 non-null    int64   \n",
      " 2   sex          891 non-null    object  \n",
      " 3   age          714 non-null    float64 \n",
      " 4   sibsp        891 non-null    int64   \n",
      " 5   parch        891 non-null    int64   \n",
      " 6   fare         891 non-null    float64 \n",
      " 7   embarked     889 non-null    object  \n",
      " 8   class        891 non-null    category\n",
      " 9   who          891 non-null    object  \n",
      " 10  adult_male   891 non-null    bool    \n",
      " 11  deck         203 non-null    category\n",
      " 12  embark_town  889 non-null    object  \n",
      " 13  alive        891 non-null    object  \n",
      " 14  alone        891 non-null    bool    \n",
      "dtypes: bool(2), category(2), float64(2), int64(4), object(5)\n",
      "memory usage: 80.7+ KB\n",
      "None\n",
      "\n",
      "데이터 요약 통계:\n",
      "         survived      pclass         age       sibsp       parch        fare\n",
      "count  891.000000  891.000000  714.000000  891.000000  891.000000  891.000000\n",
      "mean     0.383838    2.308642   29.699118    0.523008    0.381594   32.204208\n",
      "std      0.486592    0.836071   14.526497    1.102743    0.806057   49.693429\n",
      "min      0.000000    1.000000    0.420000    0.000000    0.000000    0.000000\n",
      "25%      0.000000    2.000000   20.125000    0.000000    0.000000    7.910400\n",
      "50%      0.000000    3.000000   28.000000    0.000000    0.000000   14.454200\n",
      "75%      1.000000    3.000000   38.000000    1.000000    0.000000   31.000000\n",
      "max      1.000000    3.000000   80.000000    8.000000    6.000000  512.329200\n"
     ]
    }
   ],
   "source": [
    "# 타이타닉(데이터 프레임 ) 데이터셋 불러오기\n",
    "# (pandas에 기본 내장된 예제 데이터셋)\n",
    "import seaborn as sns\n",
    "import pandas as pd\n",
    "\n",
    "# titanic 데이터 DataFrame\n",
    "titanic = sns.load_dataset('titanic')\n",
    "\n",
    "# 처음 5개 행 보기\n",
    "print(\"타이타닉 데이터 미리보기:\")\n",
    "print(titanic.head())\n",
    "\n",
    "# 데이터셋 정보 확인\n",
    "print(\"\\n데이터셋 정보:\")\n",
    "print(titanic.info())\n",
    "\n",
    "# 데이터 요약 통계\n",
    "print(\"\\n데이터 요약 통계:\")\n",
    "print(titanic.describe())"
   ]
  },
  {
   "cell_type": "code",
   "execution_count": 87,
   "id": "04031927",
   "metadata": {},
   "outputs": [
    {
     "data": {
      "text/plain": [
       "alive\n",
       "no     549\n",
       "yes    342\n",
       "Name: count, dtype: int64"
      ]
     },
     "execution_count": 87,
     "metadata": {},
     "output_type": "execute_result"
    }
   ],
   "source": [
    "# 결측치 확인 \n",
    "# Col 결측치 합계  \n",
    "df = titanic\n",
    "titanic.isnull().sum()\n",
    "# 승객 등급 등장 빈도 (1, 2, 3 등석)\n",
    "df['class'].value_counts()[0:3]\n",
    "# 성별 빈도(남/녀)\n",
    "df['sex'].value_counts()\n",
    "# 생존 여부 빈도(생존자/사망자)\n",
    "df['alive'].value_counts()\n"
   ]
  },
  {
   "cell_type": "code",
   "execution_count": 88,
   "id": "45d63a52",
   "metadata": {},
   "outputs": [
    {
     "data": {
      "text/plain": [
       "survived        0.000000\n",
       "pclass          0.000000\n",
       "sex             0.000000\n",
       "age            19.865320\n",
       "sibsp           0.000000\n",
       "parch           0.000000\n",
       "fare            0.000000\n",
       "embarked        0.224467\n",
       "class           0.000000\n",
       "who             0.000000\n",
       "adult_male      0.000000\n",
       "deck           77.216611\n",
       "embark_town     0.224467\n",
       "alive           0.000000\n",
       "alone           0.000000\n",
       "dtype: float64"
      ]
     },
     "execution_count": 88,
     "metadata": {},
     "output_type": "execute_result"
    }
   ],
   "source": [
    "# 결측치 처리 \n",
    "titanic = sns.load_dataset('titanic')\n",
    "#결측치 확인 \n",
    "missing = titanic.isna().sum()\n",
    "#결측이 있는 항목만 확인 \n",
    "missing[missing > 0]\n",
    "#결측비율 \n",
    "titanic.isna().mean() * 100\n",
    "\n",
    "##--> 결측 확인 결과 embarked, deck, age, embarked_town에 결측치가 존재함을 확인함.\n"
   ]
  },
  {
   "cell_type": "code",
   "execution_count": 89,
   "id": "2c60292e",
   "metadata": {},
   "outputs": [
    {
     "name": "stdout",
     "output_type": "stream",
     "text": [
      "sex\n",
      "female    0.742038\n",
      "male      0.188908\n",
      "Name: survived, dtype: float64 pclass\n",
      "1    0.629630\n",
      "2    0.472826\n",
      "3    0.242363\n",
      "Name: survived, dtype: float64\n"
     ]
    }
   ],
   "source": [
    "# 타겟 분포 확인 \n",
    "#성별에 따른 생존율 survived \n",
    "survival_rate = df.groupby('sex')['survived'].mean()\n",
    "#더 복잡한 톡예 가능 \n",
    "titanic.groupby('sex').agg({'survived':['mean']})\n",
    "#승객 등급에 따른 생존율 \n",
    "survival_rate1 = df.groupby('pclass')['survived'].mean()\n",
    "print(survival_rate, survival_rate1)\n",
    "#전체 인원중 생존자 수 "
   ]
  },
  {
   "cell_type": "code",
   "execution_count": 90,
   "id": "92c835aa",
   "metadata": {},
   "outputs": [],
   "source": [
    "# 결측치 처리\n",
    "df['age'].fillna(df['age'].median(), inplace=True) # 중간값으로 결측치 대체 \n",
    "df['embarked'].fillna(df['embarked'].mode()[0], inplace=True)#최빈값으로 결측치 대체,시리즈의 첫번째 \n",
    "#값을 선택해서 mode()의 결과가 여러개일 경우, 첫번째 값만 사용 \n",
    "# 범주형변수 인코딩 -> 숫자형 변환\n",
    "df['sex'] = df['sex'].map({'male':0, 'female':1})\n",
    "df = pd.get_dummies(df, columns=['embarked'], drop_first=True)\n"
   ]
  },
  {
   "cell_type": "markdown",
   "id": "fe995453",
   "metadata": {},
   "source": [
    "# KNN 분류 \n",
    "- KNN은 거리 기반이므로 스케일링이 필요함 "
   ]
  },
  {
   "cell_type": "code",
   "execution_count": 91,
   "id": "76c9dcfe",
   "metadata": {},
   "outputs": [],
   "source": [
    "# 데이터 분리: 생존율을 예측하려고 함. \n",
    "X= df.drop('survived',axis=1) #예측에 사용되는 독립변수 \n",
    "y= df['survived'] #이 열만 종속변수(예측하려는 값) \n",
    "\n",
    "# X와 y를 각각 훈련세트와 테스트 세트로 나눈다.\n",
    "# 전체데이터의 20을 테스트로 사용 나머지는 훈련데이터 \n",
    "#seed 설정: 코드 다시실행해도 동일한 결과 얻도록 무작위 추출 \n",
    "#startify=y: y에 해당하는 클래스를 훈련세트와 테스트세트에서 동일하게 적용된다. \n",
    "X_train, X_test, y_train, y_test = train_test_split(\n",
    "    X, y, test_size = 0.2, random_state= 42, stratify=y \n",
    ")"
   ]
  },
  {
   "cell_type": "code",
   "execution_count": 95,
   "id": "b919296d",
   "metadata": {},
   "outputs": [
    {
     "name": "stdout",
     "output_type": "stream",
     "text": [
      "Best Parameters: {'knn__n_neighbors': 4, 'knn__weights': 'distance'}\n",
      "Best CV Score: 0.9663235201807796\n"
     ]
    }
   ],
   "source": [
    "import pandas as pd\n",
    "from sklearn.model_selection import train_test_split, GridSearchCV\n",
    "from sklearn.neighbors import KNeighborsClassifier\n",
    "from sklearn.preprocessing import OneHotEncoder, StandardScaler\n",
    "from sklearn.compose import ColumnTransformer\n",
    "from sklearn.pipeline import Pipeline\n",
    "\n",
    "# --------------------------------------------------------\n",
    "# 1. 데이터 준비\n",
    "# --------------------------------------------------------\n",
    "X = df.drop('survived', axis=1)\n",
    "y = df['survived']\n",
    "\n",
    "# 숫자형 / 범주형 컬럼 나누기\n",
    "num_cols = X.select_dtypes(include=['int64', 'float64', 'bool']).columns\n",
    "cat_cols = X.select_dtypes(include=['object', 'category']).columns\n",
    "\n",
    "# --------------------------------------------------------\n",
    "# 2. 전처리 정의\n",
    "# --------------------------------------------------------\n",
    "preprocessor = ColumnTransformer([\n",
    "    ('num', StandardScaler(), num_cols),               # 숫자형 → 스케일링\n",
    "    ('cat', OneHotEncoder(handle_unknown='ignore'), cat_cols)  # 범주형 → 원핫인코딩\n",
    "])\n",
    "\n",
    "# --------------------------------------------------------\n",
    "# 3. 파이프라인 구성 (전처리 + 모델)\n",
    "# --------------------------------------------------------\n",
    "pipe = Pipeline([\n",
    "    ('preprocessor', preprocessor),\n",
    "    ('knn', KNeighborsClassifier())\n",
    "])\n",
    "\n",
    "# --------------------------------------------------------\n",
    "# 4. 하이퍼파라미터 탐색\n",
    "# --------------------------------------------------------\n",
    "param_grid = {\n",
    "    'knn__n_neighbors': range(3, 21),      \n",
    "    'knn__weights': ['uniform', 'distance']\n",
    "}\n",
    "\n",
    "grid = GridSearchCV(pipe, param_grid, cv=5, scoring='accuracy')\n",
    "grid.fit(X, y)\n",
    "\n",
    "# --------------------------------------------------------\n",
    "# 5. 최적 모델 확인\n",
    "# --------------------------------------------------------\n",
    "print(\"Best Parameters:\", grid.best_params_)\n",
    "print(\"Best CV Score:\", grid.best_score_)\n",
    "\n",
    "# 최적 모델\n",
    "best_knn = grid.best_estimator_"
   ]
  },
  {
   "cell_type": "markdown",
   "id": "d7a92578",
   "metadata": {},
   "source": [
    "### KNN 결과 \n",
    "- k 값이 4이고, 이웃노드의 가중치를 거리에 반비예하게 설정한 모델이 가장 놓은 성능을 보임 \n",
    "- 96.63의 정확도를 보임 "
   ]
  },
  {
   "cell_type": "code",
   "execution_count": 97,
   "id": "15138fe9",
   "metadata": {},
   "outputs": [
    {
     "name": "stdout",
     "output_type": "stream",
     "text": [
      "<class 'pandas.core.frame.DataFrame'>\n",
      "RangeIndex: 891 entries, 0 to 890\n",
      "Data columns (total 16 columns):\n",
      " #   Column       Non-Null Count  Dtype   \n",
      "---  ------       --------------  -----   \n",
      " 0   survived     891 non-null    int64   \n",
      " 1   pclass       891 non-null    int64   \n",
      " 2   sex          891 non-null    int64   \n",
      " 3   age          891 non-null    float64 \n",
      " 4   sibsp        891 non-null    int64   \n",
      " 5   parch        891 non-null    int64   \n",
      " 6   fare         891 non-null    float64 \n",
      " 7   class        891 non-null    category\n",
      " 8   who          891 non-null    object  \n",
      " 9   adult_male   891 non-null    bool    \n",
      " 10  deck         203 non-null    category\n",
      " 11  embark_town  889 non-null    object  \n",
      " 12  alive        891 non-null    object  \n",
      " 13  alone        891 non-null    bool    \n",
      " 14  embarked_Q   891 non-null    bool    \n",
      " 15  embarked_S   891 non-null    bool    \n",
      "dtypes: bool(4), category(2), float64(2), int64(5), object(3)\n",
      "memory usage: 75.4+ KB\n"
     ]
    }
   ],
   "source": [
    "df.info()"
   ]
  },
  {
   "cell_type": "markdown",
   "id": "9f350003",
   "metadata": {},
   "source": [
    "# Logistic 회귀 분류 "
   ]
  },
  {
   "cell_type": "code",
   "execution_count": null,
   "id": "d2077296",
   "metadata": {},
   "outputs": [],
   "source": [
    "from sklearn.linear_model import LogisticRegression\n"
   ]
  },
  {
   "cell_type": "markdown",
   "id": "874abd0f",
   "metadata": {},
   "source": [
    "# 결정트리 분류 "
   ]
  }
 ],
 "metadata": {
  "kernelspec": {
   "display_name": "3.13.2",
   "language": "python",
   "name": "python3"
  },
  "language_info": {
   "codemirror_mode": {
    "name": "ipython",
    "version": 3
   },
   "file_extension": ".py",
   "mimetype": "text/x-python",
   "name": "python",
   "nbconvert_exporter": "python",
   "pygments_lexer": "ipython3",
   "version": "3.13.2"
  }
 },
 "nbformat": 4,
 "nbformat_minor": 5
}
