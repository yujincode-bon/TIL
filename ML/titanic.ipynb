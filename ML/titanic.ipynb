{
 "cells": [
  {
   "cell_type": "markdown",
   "id": "51df9fed",
   "metadata": {},
   "source": [
    "# Titanic 생존\n",
    "`titanic.ipynb`"
   ]
  },
  {
   "cell_type": "markdown",
   "id": "208b1835",
   "metadata": {},
   "source": [
    "## 참고할 제언\n",
    "- imputer 사용  > age 결측치 채우고 , embarked 수동으로 결측치 세우기를 함. \n",
    "- OHE 원핫인코딩 > 범주형 데이터를 여러개의 컬럼으로 변환 \n",
    "- Pros -> 숫자 0, 1, 2 는 크기 순서가 생겨서 해석이 잘못될 수 있음\n",
    "- Cons -> 카테고리가 많으면 차원이 늘어남 \n",
    "- MICE: 결측치가 있는 변수를 다른 변수를 이용해 반복적으로 예측한다. \n"
   ]
  },
  {
   "cell_type": "code",
   "execution_count": 1,
   "id": "849de830",
   "metadata": {},
   "outputs": [
    {
     "name": "stdout",
     "output_type": "stream",
     "text": [
      "<class 'pandas.core.frame.DataFrame'>\n",
      "RangeIndex: 891 entries, 0 to 890\n",
      "Data columns (total 6 columns):\n",
      " #   Column    Non-Null Count  Dtype  \n",
      "---  ------    --------------  -----  \n",
      " 0   pclass    891 non-null    int64  \n",
      " 1   sex       891 non-null    object \n",
      " 2   age       714 non-null    float64\n",
      " 3   fare      891 non-null    float64\n",
      " 4   embarked  889 non-null    object \n",
      " 5   survived  891 non-null    int64  \n",
      "dtypes: float64(2), int64(2), object(2)\n",
      "memory usage: 41.9+ KB\n"
     ]
    }
   ],
   "source": [
    "import numpy as np\n",
    "import pandas as pd\n",
    "\n",
    "from sklearn.tree import DecisionTreeClassifier, plot_tree\n",
    "from sklearn.neighbors import KNeighborsClassifier\n",
    "from sklearn.linear_model import LogisticRegression\n",
    "# 실험실에서 기능 활성화\n",
    "from sklearn.experimental import enable_iterative_imputer\n",
    "# MICE (다른 특성으로 결측 대체하기)\n",
    "from sklearn.impute import IterativeImputer\n",
    "from sklearn.model_selection import train_test_split\n",
    "\n",
    "import matplotlib.pyplot as plt\n",
    "import seaborn as sns\n",
    "from IPython.display import display\n",
    "\n",
    "import warnings\n",
    "warnings.filterwarnings('ignore')\n",
    "\n",
    "titanic = sns.load_dataset('titanic')\n",
    "\n",
    "features = ['pclass', 'sex', 'age', 'fare', 'embarked']\n",
    "target = 'survived'\n",
    "\n",
    "df = titanic[features + [target]]\n",
    "\n",
    "df.info()"
   ]
  },
  {
   "cell_type": "code",
   "execution_count": null,
   "id": "cdc946ed",
   "metadata": {},
   "outputs": [],
   "source": [
    "# knn(knc)\n",
    "knn = KNeighborsClassifier(n_neighbors=5)\n",
    "knn.fit(X_train_scaled,y_test)\n",
    "\n"
   ]
  }
 ],
 "metadata": {
  "kernelspec": {
   "display_name": "3.13.2",
   "language": "python",
   "name": "python3"
  },
  "language_info": {
   "codemirror_mode": {
    "name": "ipython",
    "version": 3
   },
   "file_extension": ".py",
   "mimetype": "text/x-python",
   "name": "python",
   "nbconvert_exporter": "python",
   "pygments_lexer": "ipython3",
   "version": "3.13.2"
  }
 },
 "nbformat": 4,
 "nbformat_minor": 5
}
